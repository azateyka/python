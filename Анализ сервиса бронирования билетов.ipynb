{
 "cells": [
  {
   "cell_type": "markdown",
   "metadata": {
    "id": "LMuaGIE3lGcr"
   },
   "source": [
    "# Исследовательский анализ данных в Python и проверка гипотез.\n",
    "- Автор: Загиров А.А.\n"
   ]
  },
  {
   "cell_type": "markdown",
   "metadata": {},
   "source": [
    "## Цели и задачи проекта\n",
    "\n",
    "Провести исследовательский анализ данных в Python, чтобы выявить инсайты об изменении пользовательских предпочтений и популярности событий осенью 2024 года, а также проверить гипотезы о разнице в поведении пользователей с мобильными и стационарными устройствами. \n",
    "С наступлением осени увеличилось количество заказов, однако у средней стоимости был тренд к снижению. Необходимо выяснить с чем это могло быть связано."
   ]
  },
  {
   "cell_type": "markdown",
   "metadata": {},
   "source": [
    "## Описание данных\n",
    "Есть данные о бронировании билетов на сервисе Яндекс Афиша за период с 1 июня по 30 октября 2024 года. \n",
    "Датасет `final_tickets_orders_df.csv` включает информацию обо всех заказах билетов, совершённых с двух типов устройств — мобильных и стационарных, \n",
    "`final_tickets_events_df.csv` содержит информацию о событиях, включая город и регион события, а также информацию о площадке проведения мероприятия, \n",
    "`final_tickets_tenge_df.csv` с информацией о курсе тенге к российскому рублю за 2024 год. Значения в рублях представлено для 100 тенге."
   ]
  },
  {
   "cell_type": "markdown",
   "metadata": {},
   "source": [
    "## Содержимое проекта\n",
    "- Загрузка данных и знакомство с ними\n",
    "- Предобработка данных и подготовка их к исследованию\n",
    "- Исследовательский анализ данных\n",
    "- Статистический анализ данных\n",
    "- Общий вывод и рекомендации"
   ]
  },
  {
   "cell_type": "markdown",
   "metadata": {},
   "source": [
    "### Загрузка данных и знакомство с ними\n",
    "Загрузим данные пользователей из файлов `final_tickets_orders_df.csv` и `final_tickets_events_df.csv`"
   ]
  },
  {
   "cell_type": "code",
   "execution_count": 1,
   "metadata": {},
   "outputs": [],
   "source": [
    "# Импортируем библиотеки\n",
    "import pandas as pd\n",
    "from scipy.stats import mannwhitneyu\n",
    "from statsmodels.stats.power import NormalIndPower\n",
    "\n",
    "# Загружаем библиотеки для визуализации данных\n",
    "import matplotlib.pyplot as plt\n",
    "import seaborn as sns\n",
    "import numpy as np\n"
   ]
  },
  {
   "cell_type": "code",
   "execution_count": 2,
   "metadata": {},
   "outputs": [],
   "source": [
    "# Выгружаем данные в переменные\n",
    "final_tickets_orders_df = pd.read_csv('https://code.s3.yandex.net/datasets/final_tickets_orders_df.csv')\n",
    "final_tickets_events_df = pd.read_csv('https://code.s3.yandex.net/datasets/final_tickets_events_df.csv')\n",
    "final_tickets_tenge_df = pd.read_csv('https://code.s3.yandex.net/datasets/final_tickets_tenge_df.csv')"
   ]
  },
  {
   "cell_type": "code",
   "execution_count": 3,
   "metadata": {},
   "outputs": [
    {
     "data": {
      "text/html": [
       "<div>\n",
       "<style scoped>\n",
       "    .dataframe tbody tr th:only-of-type {\n",
       "        vertical-align: middle;\n",
       "    }\n",
       "\n",
       "    .dataframe tbody tr th {\n",
       "        vertical-align: top;\n",
       "    }\n",
       "\n",
       "    .dataframe thead th {\n",
       "        text-align: right;\n",
       "    }\n",
       "</style>\n",
       "<table border=\"1\" class=\"dataframe\">\n",
       "  <thead>\n",
       "    <tr style=\"text-align: right;\">\n",
       "      <th></th>\n",
       "      <th>order_id</th>\n",
       "      <th>user_id</th>\n",
       "      <th>created_dt_msk</th>\n",
       "      <th>created_ts_msk</th>\n",
       "      <th>event_id</th>\n",
       "      <th>cinema_circuit</th>\n",
       "      <th>age_limit</th>\n",
       "      <th>currency_code</th>\n",
       "      <th>device_type_canonical</th>\n",
       "      <th>revenue</th>\n",
       "      <th>service_name</th>\n",
       "      <th>tickets_count</th>\n",
       "      <th>total</th>\n",
       "      <th>days_since_prev</th>\n",
       "    </tr>\n",
       "  </thead>\n",
       "  <tbody>\n",
       "    <tr>\n",
       "      <th>0</th>\n",
       "      <td>4359165</td>\n",
       "      <td>0002849b70a3ce2</td>\n",
       "      <td>2024-08-20</td>\n",
       "      <td>2024-08-20 16:08:03</td>\n",
       "      <td>169230</td>\n",
       "      <td>нет</td>\n",
       "      <td>16</td>\n",
       "      <td>rub</td>\n",
       "      <td>mobile</td>\n",
       "      <td>1521.94</td>\n",
       "      <td>Край билетов</td>\n",
       "      <td>4</td>\n",
       "      <td>10870.99</td>\n",
       "      <td>NaN</td>\n",
       "    </tr>\n",
       "    <tr>\n",
       "      <th>1</th>\n",
       "      <td>7965605</td>\n",
       "      <td>0005ca5e93f2cf4</td>\n",
       "      <td>2024-07-23</td>\n",
       "      <td>2024-07-23 18:36:24</td>\n",
       "      <td>237325</td>\n",
       "      <td>нет</td>\n",
       "      <td>0</td>\n",
       "      <td>rub</td>\n",
       "      <td>mobile</td>\n",
       "      <td>289.45</td>\n",
       "      <td>Мой билет</td>\n",
       "      <td>2</td>\n",
       "      <td>2067.51</td>\n",
       "      <td>NaN</td>\n",
       "    </tr>\n",
       "    <tr>\n",
       "      <th>2</th>\n",
       "      <td>7292370</td>\n",
       "      <td>0005ca5e93f2cf4</td>\n",
       "      <td>2024-10-06</td>\n",
       "      <td>2024-10-06 13:56:02</td>\n",
       "      <td>578454</td>\n",
       "      <td>нет</td>\n",
       "      <td>0</td>\n",
       "      <td>rub</td>\n",
       "      <td>mobile</td>\n",
       "      <td>1258.57</td>\n",
       "      <td>За билетом!</td>\n",
       "      <td>4</td>\n",
       "      <td>13984.16</td>\n",
       "      <td>75.0</td>\n",
       "    </tr>\n",
       "    <tr>\n",
       "      <th>3</th>\n",
       "      <td>1139875</td>\n",
       "      <td>000898990054619</td>\n",
       "      <td>2024-07-13</td>\n",
       "      <td>2024-07-13 19:40:48</td>\n",
       "      <td>387271</td>\n",
       "      <td>нет</td>\n",
       "      <td>0</td>\n",
       "      <td>rub</td>\n",
       "      <td>mobile</td>\n",
       "      <td>8.49</td>\n",
       "      <td>Лови билет!</td>\n",
       "      <td>2</td>\n",
       "      <td>212.28</td>\n",
       "      <td>NaN</td>\n",
       "    </tr>\n",
       "    <tr>\n",
       "      <th>4</th>\n",
       "      <td>972400</td>\n",
       "      <td>000898990054619</td>\n",
       "      <td>2024-10-04</td>\n",
       "      <td>2024-10-04 22:33:15</td>\n",
       "      <td>509453</td>\n",
       "      <td>нет</td>\n",
       "      <td>18</td>\n",
       "      <td>rub</td>\n",
       "      <td>mobile</td>\n",
       "      <td>1390.41</td>\n",
       "      <td>Билеты без проблем</td>\n",
       "      <td>3</td>\n",
       "      <td>10695.43</td>\n",
       "      <td>83.0</td>\n",
       "    </tr>\n",
       "  </tbody>\n",
       "</table>\n",
       "</div>"
      ],
      "text/plain": [
       "   order_id          user_id created_dt_msk       created_ts_msk  event_id  \\\n",
       "0   4359165  0002849b70a3ce2     2024-08-20  2024-08-20 16:08:03    169230   \n",
       "1   7965605  0005ca5e93f2cf4     2024-07-23  2024-07-23 18:36:24    237325   \n",
       "2   7292370  0005ca5e93f2cf4     2024-10-06  2024-10-06 13:56:02    578454   \n",
       "3   1139875  000898990054619     2024-07-13  2024-07-13 19:40:48    387271   \n",
       "4    972400  000898990054619     2024-10-04  2024-10-04 22:33:15    509453   \n",
       "\n",
       "  cinema_circuit  age_limit currency_code device_type_canonical  revenue  \\\n",
       "0            нет         16           rub                mobile  1521.94   \n",
       "1            нет          0           rub                mobile   289.45   \n",
       "2            нет          0           rub                mobile  1258.57   \n",
       "3            нет          0           rub                mobile     8.49   \n",
       "4            нет         18           rub                mobile  1390.41   \n",
       "\n",
       "         service_name  tickets_count     total  days_since_prev  \n",
       "0        Край билетов              4  10870.99              NaN  \n",
       "1           Мой билет              2   2067.51              NaN  \n",
       "2         За билетом!              4  13984.16             75.0  \n",
       "3         Лови билет!              2    212.28              NaN  \n",
       "4  Билеты без проблем              3  10695.43             83.0  "
      ]
     },
     "execution_count": 3,
     "metadata": {},
     "output_type": "execute_result"
    }
   ],
   "source": [
    "# Выводим первые строки датафрейма на экран\n",
    "final_tickets_orders_df.head()"
   ]
  },
  {
   "cell_type": "code",
   "execution_count": 4,
   "metadata": {},
   "outputs": [
    {
     "name": "stdout",
     "output_type": "stream",
     "text": [
      "<class 'pandas.core.frame.DataFrame'>\n",
      "RangeIndex: 290849 entries, 0 to 290848\n",
      "Data columns (total 14 columns):\n",
      " #   Column                 Non-Null Count   Dtype  \n",
      "---  ------                 --------------   -----  \n",
      " 0   order_id               290849 non-null  int64  \n",
      " 1   user_id                290849 non-null  object \n",
      " 2   created_dt_msk         290849 non-null  object \n",
      " 3   created_ts_msk         290849 non-null  object \n",
      " 4   event_id               290849 non-null  int64  \n",
      " 5   cinema_circuit         290849 non-null  object \n",
      " 6   age_limit              290849 non-null  int64  \n",
      " 7   currency_code          290849 non-null  object \n",
      " 8   device_type_canonical  290849 non-null  object \n",
      " 9   revenue                290849 non-null  float64\n",
      " 10  service_name           290849 non-null  object \n",
      " 11  tickets_count          290849 non-null  int64  \n",
      " 12  total                  290849 non-null  float64\n",
      " 13  days_since_prev        268909 non-null  float64\n",
      "dtypes: float64(3), int64(4), object(7)\n",
      "memory usage: 31.1+ MB\n"
     ]
    }
   ],
   "source": [
    "# Выводим информацию о датафрейме \n",
    "final_tickets_orders_df.info()"
   ]
  },
  {
   "cell_type": "code",
   "execution_count": 5,
   "metadata": {},
   "outputs": [
    {
     "data": {
      "text/html": [
       "<div>\n",
       "<style scoped>\n",
       "    .dataframe tbody tr th:only-of-type {\n",
       "        vertical-align: middle;\n",
       "    }\n",
       "\n",
       "    .dataframe tbody tr th {\n",
       "        vertical-align: top;\n",
       "    }\n",
       "\n",
       "    .dataframe thead th {\n",
       "        text-align: right;\n",
       "    }\n",
       "</style>\n",
       "<table border=\"1\" class=\"dataframe\">\n",
       "  <thead>\n",
       "    <tr style=\"text-align: right;\">\n",
       "      <th></th>\n",
       "      <th>event_id</th>\n",
       "      <th>event_name</th>\n",
       "      <th>event_type_description</th>\n",
       "      <th>event_type_main</th>\n",
       "      <th>organizers</th>\n",
       "      <th>region_name</th>\n",
       "      <th>city_name</th>\n",
       "      <th>city_id</th>\n",
       "      <th>venue_id</th>\n",
       "      <th>venue_name</th>\n",
       "      <th>venue_address</th>\n",
       "    </tr>\n",
       "  </thead>\n",
       "  <tbody>\n",
       "    <tr>\n",
       "      <th>0</th>\n",
       "      <td>4436</td>\n",
       "      <td>e4f26fba-da77-4c61-928a-6c3e434d793f</td>\n",
       "      <td>спектакль</td>\n",
       "      <td>театр</td>\n",
       "      <td>№4893</td>\n",
       "      <td>Североярская область</td>\n",
       "      <td>Озёрск</td>\n",
       "      <td>2</td>\n",
       "      <td>1600</td>\n",
       "      <td>Кладбище искусств \"Проблема\" и партнеры</td>\n",
       "      <td>наб. Загородная, д. 785</td>\n",
       "    </tr>\n",
       "    <tr>\n",
       "      <th>1</th>\n",
       "      <td>5785</td>\n",
       "      <td>5cc08a60-fdea-4186-9bb2-bffc3603fb77</td>\n",
       "      <td>спектакль</td>\n",
       "      <td>театр</td>\n",
       "      <td>№1931</td>\n",
       "      <td>Светополянский округ</td>\n",
       "      <td>Глиноград</td>\n",
       "      <td>54</td>\n",
       "      <td>2196</td>\n",
       "      <td>Лекции по искусству \"Свет\" Групп</td>\n",
       "      <td>ул. Ягодная, д. 942</td>\n",
       "    </tr>\n",
       "    <tr>\n",
       "      <th>2</th>\n",
       "      <td>8817</td>\n",
       "      <td>8e379a89-3a10-4811-ba06-ec22ebebe989</td>\n",
       "      <td>спектакль</td>\n",
       "      <td>театр</td>\n",
       "      <td>№4896</td>\n",
       "      <td>Североярская область</td>\n",
       "      <td>Озёрск</td>\n",
       "      <td>2</td>\n",
       "      <td>4043</td>\n",
       "      <td>Кинокомитет \"Золотая\" Инк</td>\n",
       "      <td>ш. Коммуны, д. 92 стр. 6</td>\n",
       "    </tr>\n",
       "    <tr>\n",
       "      <th>3</th>\n",
       "      <td>8849</td>\n",
       "      <td>682e3129-6a32-4952-9d8a-ef7f60d4c247</td>\n",
       "      <td>спектакль</td>\n",
       "      <td>театр</td>\n",
       "      <td>№4960</td>\n",
       "      <td>Каменевский регион</td>\n",
       "      <td>Глиногорск</td>\n",
       "      <td>213</td>\n",
       "      <td>1987</td>\n",
       "      <td>Выставка ремесел \"Свет\" Лтд</td>\n",
       "      <td>пер. Набережный, д. 35</td>\n",
       "    </tr>\n",
       "    <tr>\n",
       "      <th>4</th>\n",
       "      <td>8850</td>\n",
       "      <td>d6e99176-c77f-4af0-9222-07c571f6c624</td>\n",
       "      <td>спектакль</td>\n",
       "      <td>театр</td>\n",
       "      <td>№4770</td>\n",
       "      <td>Лесодальний край</td>\n",
       "      <td>Родниковец</td>\n",
       "      <td>55</td>\n",
       "      <td>4230</td>\n",
       "      <td>Фестивальный проект \"Листья\" Групп</td>\n",
       "      <td>пер. Проезжий, д. 9</td>\n",
       "    </tr>\n",
       "  </tbody>\n",
       "</table>\n",
       "</div>"
      ],
      "text/plain": [
       "   event_id                            event_name event_type_description  \\\n",
       "0      4436  e4f26fba-da77-4c61-928a-6c3e434d793f              спектакль   \n",
       "1      5785  5cc08a60-fdea-4186-9bb2-bffc3603fb77              спектакль   \n",
       "2      8817  8e379a89-3a10-4811-ba06-ec22ebebe989              спектакль   \n",
       "3      8849  682e3129-6a32-4952-9d8a-ef7f60d4c247              спектакль   \n",
       "4      8850  d6e99176-c77f-4af0-9222-07c571f6c624              спектакль   \n",
       "\n",
       "  event_type_main organizers           region_name   city_name  city_id  \\\n",
       "0           театр      №4893  Североярская область      Озёрск        2   \n",
       "1           театр      №1931  Светополянский округ   Глиноград       54   \n",
       "2           театр      №4896  Североярская область      Озёрск        2   \n",
       "3           театр      №4960    Каменевский регион  Глиногорск      213   \n",
       "4           театр      №4770      Лесодальний край  Родниковец       55   \n",
       "\n",
       "   venue_id                               venue_name             venue_address  \n",
       "0      1600  Кладбище искусств \"Проблема\" и партнеры   наб. Загородная, д. 785  \n",
       "1      2196         Лекции по искусству \"Свет\" Групп       ул. Ягодная, д. 942  \n",
       "2      4043                Кинокомитет \"Золотая\" Инк  ш. Коммуны, д. 92 стр. 6  \n",
       "3      1987              Выставка ремесел \"Свет\" Лтд    пер. Набережный, д. 35  \n",
       "4      4230       Фестивальный проект \"Листья\" Групп       пер. Проезжий, д. 9  "
      ]
     },
     "execution_count": 5,
     "metadata": {},
     "output_type": "execute_result"
    }
   ],
   "source": [
    "final_tickets_events_df.head()"
   ]
  },
  {
   "cell_type": "code",
   "execution_count": 6,
   "metadata": {},
   "outputs": [
    {
     "name": "stdout",
     "output_type": "stream",
     "text": [
      "<class 'pandas.core.frame.DataFrame'>\n",
      "RangeIndex: 22427 entries, 0 to 22426\n",
      "Data columns (total 11 columns):\n",
      " #   Column                  Non-Null Count  Dtype \n",
      "---  ------                  --------------  ----- \n",
      " 0   event_id                22427 non-null  int64 \n",
      " 1   event_name              22427 non-null  object\n",
      " 2   event_type_description  22427 non-null  object\n",
      " 3   event_type_main         22427 non-null  object\n",
      " 4   organizers              22427 non-null  object\n",
      " 5   region_name             22427 non-null  object\n",
      " 6   city_name               22427 non-null  object\n",
      " 7   city_id                 22427 non-null  int64 \n",
      " 8   venue_id                22427 non-null  int64 \n",
      " 9   venue_name              22427 non-null  object\n",
      " 10  venue_address           22427 non-null  object\n",
      "dtypes: int64(3), object(8)\n",
      "memory usage: 1.9+ MB\n"
     ]
    }
   ],
   "source": [
    "final_tickets_events_df.info()"
   ]
  },
  {
   "cell_type": "code",
   "execution_count": 7,
   "metadata": {},
   "outputs": [
    {
     "data": {
      "text/html": [
       "<div>\n",
       "<style scoped>\n",
       "    .dataframe tbody tr th:only-of-type {\n",
       "        vertical-align: middle;\n",
       "    }\n",
       "\n",
       "    .dataframe tbody tr th {\n",
       "        vertical-align: top;\n",
       "    }\n",
       "\n",
       "    .dataframe thead th {\n",
       "        text-align: right;\n",
       "    }\n",
       "</style>\n",
       "<table border=\"1\" class=\"dataframe\">\n",
       "  <thead>\n",
       "    <tr style=\"text-align: right;\">\n",
       "      <th></th>\n",
       "      <th>data</th>\n",
       "      <th>nominal</th>\n",
       "      <th>curs</th>\n",
       "      <th>cdx</th>\n",
       "    </tr>\n",
       "  </thead>\n",
       "  <tbody>\n",
       "    <tr>\n",
       "      <th>0</th>\n",
       "      <td>2024-01-10</td>\n",
       "      <td>100</td>\n",
       "      <td>19.9391</td>\n",
       "      <td>kzt</td>\n",
       "    </tr>\n",
       "    <tr>\n",
       "      <th>1</th>\n",
       "      <td>2024-01-11</td>\n",
       "      <td>100</td>\n",
       "      <td>19.7255</td>\n",
       "      <td>kzt</td>\n",
       "    </tr>\n",
       "    <tr>\n",
       "      <th>2</th>\n",
       "      <td>2024-01-12</td>\n",
       "      <td>100</td>\n",
       "      <td>19.5839</td>\n",
       "      <td>kzt</td>\n",
       "    </tr>\n",
       "    <tr>\n",
       "      <th>3</th>\n",
       "      <td>2024-01-13</td>\n",
       "      <td>100</td>\n",
       "      <td>19.4501</td>\n",
       "      <td>kzt</td>\n",
       "    </tr>\n",
       "    <tr>\n",
       "      <th>4</th>\n",
       "      <td>2024-01-14</td>\n",
       "      <td>100</td>\n",
       "      <td>19.4501</td>\n",
       "      <td>kzt</td>\n",
       "    </tr>\n",
       "  </tbody>\n",
       "</table>\n",
       "</div>"
      ],
      "text/plain": [
       "         data  nominal     curs  cdx\n",
       "0  2024-01-10      100  19.9391  kzt\n",
       "1  2024-01-11      100  19.7255  kzt\n",
       "2  2024-01-12      100  19.5839  kzt\n",
       "3  2024-01-13      100  19.4501  kzt\n",
       "4  2024-01-14      100  19.4501  kzt"
      ]
     },
     "execution_count": 7,
     "metadata": {},
     "output_type": "execute_result"
    }
   ],
   "source": [
    "final_tickets_tenge_df.head()"
   ]
  },
  {
   "cell_type": "code",
   "execution_count": 8,
   "metadata": {},
   "outputs": [
    {
     "name": "stdout",
     "output_type": "stream",
     "text": [
      "<class 'pandas.core.frame.DataFrame'>\n",
      "RangeIndex: 357 entries, 0 to 356\n",
      "Data columns (total 4 columns):\n",
      " #   Column   Non-Null Count  Dtype  \n",
      "---  ------   --------------  -----  \n",
      " 0   data     357 non-null    object \n",
      " 1   nominal  357 non-null    int64  \n",
      " 2   curs     357 non-null    float64\n",
      " 3   cdx      357 non-null    object \n",
      "dtypes: float64(1), int64(1), object(2)\n",
      "memory usage: 11.3+ KB\n"
     ]
    }
   ],
   "source": [
    "final_tickets_tenge_df.info()"
   ]
  },
  {
   "cell_type": "markdown",
   "metadata": {},
   "source": [
    "- Датафрейм \"final_tickets_orders_df\" содержит 14 столбцов 290849 строк. Названия соответствуют содержанию столбцов. Больше всего пропусков в столбце \"days_since_prev\", видимо это потому что в этом столбце количество дней с предыдущей покупки для каждого пользователя, но первые покупки соответственно не имеют этих зачений. Тип данных в столбцах \"created_dt_msk\" и \"created_ts_msk\" не соответствует, необходимо тип данных связанный со временем. \n",
    "В столбце \"age_limit\" встречаются значения равные \"0\", что может обозначать пропуски в данных или отсутствие информации. \n",
    "- Датафрейм \"final_tickets_events_df\" содержит 11 столбцов 22427 строк. Пропусков нет.\n",
    "- Датафрейм \"final_tickets_tenge_df\" содержит 4 столбца 357 строк. Названия соответствуют содержанию столбцов. Пропусков нет."
   ]
  },
  {
   "cell_type": "markdown",
   "metadata": {},
   "source": [
    " ### Предобработка данных и подготовка их к исследованию"
   ]
  },
  {
   "cell_type": "code",
   "execution_count": 9,
   "metadata": {},
   "outputs": [],
   "source": [
    "# приводим данные в соответствующий тип в датафрейме \n",
    "final_tickets_orders_df['created_dt_msk'] = pd.to_datetime(final_tickets_orders_df['created_dt_msk'], format='%Y-%m-%d')\n",
    "final_tickets_orders_df['created_ts_msk'] = pd.to_datetime(final_tickets_orders_df['created_ts_msk'])\n",
    "final_tickets_tenge_df['data'] = pd.to_datetime(final_tickets_tenge_df['data'], format='%Y-%m-%d')\n",
    "\n",
    "# снижаем размерность данных \n",
    "final_tickets_orders_df['age_limit'] = pd.to_numeric(final_tickets_orders_df['age_limit'], downcast='integer')\n",
    "final_tickets_orders_df['tickets_count'] = pd.to_numeric(final_tickets_orders_df['tickets_count'], downcast='integer')\n",
    "final_tickets_tenge_df['nominal'] = pd.to_numeric(final_tickets_tenge_df['nominal'], downcast='integer')\n"
   ]
  },
  {
   "cell_type": "code",
   "execution_count": 10,
   "metadata": {},
   "outputs": [
    {
     "data": {
      "text/plain": [
       "order_id                 0.000000\n",
       "user_id                  0.000000\n",
       "created_dt_msk           0.000000\n",
       "created_ts_msk           0.000000\n",
       "event_id                 0.000000\n",
       "cinema_circuit           0.000000\n",
       "age_limit                0.000000\n",
       "currency_code            0.000000\n",
       "device_type_canonical    0.000000\n",
       "revenue                  0.000000\n",
       "service_name             0.000000\n",
       "tickets_count            0.000000\n",
       "total                    0.000000\n",
       "days_since_prev          0.075434\n",
       "dtype: float64"
      ]
     },
     "execution_count": 10,
     "metadata": {},
     "output_type": "execute_result"
    }
   ],
   "source": [
    "final_tickets_orders_df.isna().mean().sort_values()"
   ]
  },
  {
   "cell_type": "code",
   "execution_count": 11,
   "metadata": {},
   "outputs": [
    {
     "data": {
      "image/png": "[encoded data removed]",
      "text/plain": [
       "<Figure size 1080x504 with 1 Axes>"
      ]
     },
     "metadata": {
      "needs_background": "light"
     },
     "output_type": "display_data"
    }
   ],
   "source": [
    "# Строим диаграмму размаха значений в столбце revenue\n",
    "fig = plt.figure(figsize=(15, 7))\n",
    " \n",
    "ax = fig.add_subplot(111)\n",
    "plt.boxplot(final_tickets_orders_df[final_tickets_orders_df['currency_code']=='rub']['revenue'], ax.set_xlim(-100, 8200),  vert=False)\n",
    "\n",
    "# Добавляем заголовок и метки оси\n",
    "plt.title('Диаграмма размаха')\n",
    "plt.xlabel('выручка')\n",
    "\n",
    "# Выводим график\n",
    "plt.show()"
   ]
  },
  {
   "cell_type": "code",
   "execution_count": 12,
   "metadata": {},
   "outputs": [
    {
     "data": {
      "image/png": "[encoded data removed]",
      "text/plain": [
       "<Figure size 1080x504 with 1 Axes>"
      ]
     },
     "metadata": {
      "needs_background": "light"
     },
     "output_type": "display_data"
    }
   ],
   "source": [
    "# Строим диаграмму размаха значений в столбце revenue\n",
    "fig = plt.figure(figsize=(15, 7))\n",
    " \n",
    "ax = fig.add_subplot(111)\n",
    "plt.boxplot(final_tickets_orders_df[final_tickets_orders_df['currency_code']=='kzt']['revenue'], ax.set_xlim(-100, 30000),  vert=False)\n",
    "\n",
    "# Добавляем заголовок и метки оси\n",
    "plt.title('Диаграмма размаха')\n",
    "plt.xlabel('выручка')\n",
    "\n",
    "# Выводим график\n",
    "plt.show()"
   ]
  },
  {
   "cell_type": "code",
   "execution_count": 13,
   "metadata": {},
   "outputs": [
    {
     "data": {
      "text/plain": [
       "226456      -90.76\n",
       "85725       -17.94\n",
       "11637       -10.77\n",
       "227716      -10.77\n",
       "119935      -10.77\n",
       "            ...   \n",
       "122431    64939.63\n",
       "111593    64939.63\n",
       "122429    81174.54\n",
       "122430    81174.54\n",
       "183909    81174.54\n",
       "Name: revenue, Length: 290849, dtype: float64"
      ]
     },
     "execution_count": 13,
     "metadata": {},
     "output_type": "execute_result"
    }
   ],
   "source": [
    "# проводим сортировку для определения крайних значений\n",
    "final_tickets_orders_df['revenue'].sort_values()"
   ]
  },
  {
   "cell_type": "code",
   "execution_count": 14,
   "metadata": {},
   "outputs": [
    {
     "name": "stdout",
     "output_type": "stream",
     "text": [
      "<class 'pandas.core.frame.DataFrame'>\n",
      "Int64Index: 282541 entries, 0 to 290848\n",
      "Data columns (total 14 columns):\n",
      " #   Column                 Non-Null Count   Dtype         \n",
      "---  ------                 --------------   -----         \n",
      " 0   order_id               282541 non-null  int64         \n",
      " 1   user_id                282541 non-null  object        \n",
      " 2   created_dt_msk         282541 non-null  datetime64[ns]\n",
      " 3   created_ts_msk         282541 non-null  datetime64[ns]\n",
      " 4   event_id               282541 non-null  int64         \n",
      " 5   cinema_circuit         282541 non-null  object        \n",
      " 6   age_limit              282541 non-null  int8          \n",
      " 7   currency_code          282541 non-null  object        \n",
      " 8   device_type_canonical  282541 non-null  object        \n",
      " 9   revenue                282541 non-null  float64       \n",
      " 10  service_name           282541 non-null  object        \n",
      " 11  tickets_count          282541 non-null  int8          \n",
      " 12  total                  282541 non-null  float64       \n",
      " 13  days_since_prev        261705 non-null  float64       \n",
      "dtypes: datetime64[ns](2), float64(3), int64(2), int8(2), object(5)\n",
      "memory usage: 28.6+ MB\n"
     ]
    }
   ],
   "source": [
    "# отбераем значения по 99-му процентилю от каждой валюты, поэтому в currency_code её указываем \n",
    "final_tickets_orders_df_copy_rub = final_tickets_orders_df[(final_tickets_orders_df['currency_code']=='rub')&(\n",
    "    final_tickets_orders_df['revenue'] <= final_tickets_orders_df[final_tickets_orders_df['currency_code']=='rub']['revenue'].quantile(0.99))&(\n",
    "    final_tickets_orders_df['revenue'] >= final_tickets_orders_df[final_tickets_orders_df['currency_code']=='rub']['revenue'].quantile(0.01))]\n",
    "final_tickets_orders_df_copy_rub.info()"
   ]
  },
  {
   "cell_type": "code",
   "execution_count": 15,
   "metadata": {},
   "outputs": [
    {
     "name": "stdout",
     "output_type": "stream",
     "text": [
      "<class 'pandas.core.frame.DataFrame'>\n",
      "Int64Index: 4991 entries, 73 to 290727\n",
      "Data columns (total 14 columns):\n",
      " #   Column                 Non-Null Count  Dtype         \n",
      "---  ------                 --------------  -----         \n",
      " 0   order_id               4991 non-null   int64         \n",
      " 1   user_id                4991 non-null   object        \n",
      " 2   created_dt_msk         4991 non-null   datetime64[ns]\n",
      " 3   created_ts_msk         4991 non-null   datetime64[ns]\n",
      " 4   event_id               4991 non-null   int64         \n",
      " 5   cinema_circuit         4991 non-null   object        \n",
      " 6   age_limit              4991 non-null   int8          \n",
      " 7   currency_code          4991 non-null   object        \n",
      " 8   device_type_canonical  4991 non-null   object        \n",
      " 9   revenue                4991 non-null   float64       \n",
      " 10  service_name           4991 non-null   object        \n",
      " 11  tickets_count          4991 non-null   int8          \n",
      " 12  total                  4991 non-null   float64       \n",
      " 13  days_since_prev        4132 non-null   float64       \n",
      "dtypes: datetime64[ns](2), float64(3), int64(2), int8(2), object(5)\n",
      "memory usage: 516.6+ KB\n"
     ]
    }
   ],
   "source": [
    "# отбераем значения по kzt\n",
    "final_tickets_orders_df_copy_kzt = final_tickets_orders_df[(final_tickets_orders_df['currency_code']=='kzt')&(\n",
    "    final_tickets_orders_df['revenue'] <= final_tickets_orders_df[final_tickets_orders_df['currency_code']=='kzt']['revenue'].quantile(0.99))&(\n",
    "    final_tickets_orders_df['revenue'] >= final_tickets_orders_df[final_tickets_orders_df['currency_code']=='kzt']['revenue'].quantile(0.01))]\n",
    "final_tickets_orders_df_copy_kzt.info()"
   ]
  },
  {
   "cell_type": "code",
   "execution_count": 16,
   "metadata": {},
   "outputs": [
    {
     "name": "stdout",
     "output_type": "stream",
     "text": [
      "<class 'pandas.core.frame.DataFrame'>\n",
      "Int64Index: 287532 entries, 0 to 290727\n",
      "Data columns (total 14 columns):\n",
      " #   Column                 Non-Null Count   Dtype         \n",
      "---  ------                 --------------   -----         \n",
      " 0   order_id               287532 non-null  int64         \n",
      " 1   user_id                287532 non-null  object        \n",
      " 2   created_dt_msk         287532 non-null  datetime64[ns]\n",
      " 3   created_ts_msk         287532 non-null  datetime64[ns]\n",
      " 4   event_id               287532 non-null  int64         \n",
      " 5   cinema_circuit         287532 non-null  object        \n",
      " 6   age_limit              287532 non-null  int8          \n",
      " 7   currency_code          287532 non-null  object        \n",
      " 8   device_type_canonical  287532 non-null  object        \n",
      " 9   revenue                287532 non-null  float64       \n",
      " 10  service_name           287532 non-null  object        \n",
      " 11  tickets_count          287532 non-null  int8          \n",
      " 12  total                  287532 non-null  float64       \n",
      " 13  days_since_prev        265837 non-null  float64       \n",
      "dtypes: datetime64[ns](2), float64(3), int64(2), int8(2), object(5)\n",
      "memory usage: 29.1+ MB\n"
     ]
    }
   ],
   "source": [
    "final_tickets_orders_df_copy = pd.concat([final_tickets_orders_df_copy_rub, final_tickets_orders_df_copy_kzt],axis=0)\n",
    "final_tickets_orders_df_copy.info()"
   ]
  },
  {
   "cell_type": "code",
   "execution_count": 17,
   "metadata": {},
   "outputs": [
    {
     "name": "stdout",
     "output_type": "stream",
     "text": [
      "<class 'pandas.core.frame.DataFrame'>\n",
      "Int64Index: 287532 entries, 0 to 287531\n",
      "Data columns (total 24 columns):\n",
      " #   Column                  Non-Null Count   Dtype         \n",
      "---  ------                  --------------   -----         \n",
      " 0   order_id                287532 non-null  int64         \n",
      " 1   user_id                 287532 non-null  object        \n",
      " 2   created_dt_msk          287532 non-null  datetime64[ns]\n",
      " 3   created_ts_msk          287532 non-null  datetime64[ns]\n",
      " 4   event_id                287532 non-null  int64         \n",
      " 5   cinema_circuit          287532 non-null  object        \n",
      " 6   age_limit               287532 non-null  int8          \n",
      " 7   currency_code           287532 non-null  object        \n",
      " 8   device_type_canonical   287532 non-null  object        \n",
      " 9   revenue                 287532 non-null  float64       \n",
      " 10  service_name            287532 non-null  object        \n",
      " 11  tickets_count           287532 non-null  int8          \n",
      " 12  total                   287532 non-null  float64       \n",
      " 13  days_since_prev         265837 non-null  float64       \n",
      " 14  event_name              287294 non-null  object        \n",
      " 15  event_type_description  287294 non-null  object        \n",
      " 16  event_type_main         287294 non-null  object        \n",
      " 17  organizers              287294 non-null  object        \n",
      " 18  region_name             287294 non-null  object        \n",
      " 19  city_name               287294 non-null  object        \n",
      " 20  city_id                 287294 non-null  float64       \n",
      " 21  venue_id                287294 non-null  float64       \n",
      " 22  venue_name              287294 non-null  object        \n",
      " 23  venue_address           287294 non-null  object        \n",
      "dtypes: datetime64[ns](2), float64(5), int64(2), int8(2), object(13)\n",
      "memory usage: 51.0+ MB\n"
     ]
    }
   ],
   "source": [
    "# объединяем по \"Рекомендации\"\n",
    "final_tickets_orders_df_new = final_tickets_orders_df_copy.merge(final_tickets_events_df, how='left', on='event_id')\n",
    "final_tickets_orders_df_new.info()"
   ]
  },
  {
   "cell_type": "code",
   "execution_count": 18,
   "metadata": {},
   "outputs": [
    {
     "name": "stdout",
     "output_type": "stream",
     "text": [
      "<class 'pandas.core.frame.DataFrame'>\n",
      "Int64Index: 287532 entries, 0 to 287531\n",
      "Data columns (total 28 columns):\n",
      " #   Column                  Non-Null Count   Dtype         \n",
      "---  ------                  --------------   -----         \n",
      " 0   order_id                287532 non-null  int64         \n",
      " 1   user_id                 287532 non-null  object        \n",
      " 2   created_dt_msk          287532 non-null  datetime64[ns]\n",
      " 3   created_ts_msk          287532 non-null  datetime64[ns]\n",
      " 4   event_id                287532 non-null  int64         \n",
      " 5   cinema_circuit          287532 non-null  object        \n",
      " 6   age_limit               287532 non-null  int8          \n",
      " 7   currency_code           287532 non-null  object        \n",
      " 8   device_type_canonical   287532 non-null  object        \n",
      " 9   revenue                 287532 non-null  float64       \n",
      " 10  service_name            287532 non-null  object        \n",
      " 11  tickets_count           287532 non-null  int8          \n",
      " 12  total                   287532 non-null  float64       \n",
      " 13  days_since_prev         265837 non-null  float64       \n",
      " 14  event_name              287294 non-null  object        \n",
      " 15  event_type_description  287294 non-null  object        \n",
      " 16  event_type_main         287294 non-null  object        \n",
      " 17  organizers              287294 non-null  object        \n",
      " 18  region_name             287294 non-null  object        \n",
      " 19  city_name               287294 non-null  object        \n",
      " 20  city_id                 287294 non-null  float64       \n",
      " 21  venue_id                287294 non-null  float64       \n",
      " 22  venue_name              287294 non-null  object        \n",
      " 23  venue_address           287294 non-null  object        \n",
      " 24  data                    287532 non-null  datetime64[ns]\n",
      " 25  nominal                 287532 non-null  int8          \n",
      " 26  curs                    287532 non-null  float64       \n",
      " 27  cdx                     287532 non-null  object        \n",
      "dtypes: datetime64[ns](3), float64(6), int64(2), int8(3), object(14)\n",
      "memory usage: 57.9+ MB\n"
     ]
    }
   ],
   "source": [
    "final_tickets_orders_converted = final_tickets_orders_df_new.merge(final_tickets_tenge_df, how='left', left_on='created_dt_msk', right_on='data')\n",
    "final_tickets_orders_converted.info()"
   ]
  },
  {
   "cell_type": "code",
   "execution_count": 19,
   "metadata": {},
   "outputs": [],
   "source": [
    "final_tickets_orders_converted['revenue_rub'] = final_tickets_orders_converted.apply(lambda x: x['revenue']*x['curs']/100 if x['currency_code']=='kzt' else x['revenue'], axis=1)\n",
    "# final_tickets_orders_converted.head()"
   ]
  },
  {
   "cell_type": "code",
   "execution_count": 20,
   "metadata": {},
   "outputs": [],
   "source": [
    "# удалили лишние столбцы из датафрейма\n",
    "tenge_data = ['data', 'nominal', 'curs', 'cdx']\n",
    "final_tickets_orders_converted = final_tickets_orders_converted.drop(tenge_data, axis=1)"
   ]
  },
  {
   "cell_type": "code",
   "execution_count": 21,
   "metadata": {},
   "outputs": [],
   "source": [
    "final_tickets_orders_converted['one_ticket_revenue_rub'] = final_tickets_orders_converted['revenue']/final_tickets_orders_converted['tickets_count']  "
   ]
  },
  {
   "cell_type": "code",
   "execution_count": 22,
   "metadata": {},
   "outputs": [],
   "source": [
    "# выделим месяц оформления заказа в отдельный столбец  month\n",
    "final_tickets_orders_converted['month']=pd.to_datetime(final_tickets_orders_converted['created_dt_msk']).dt.month"
   ]
  },
  {
   "cell_type": "code",
   "execution_count": 23,
   "metadata": {},
   "outputs": [],
   "source": [
    "def season(x): \n",
    "    if 8>=x>=6:\n",
    "        return 'лето'\n",
    "    elif 11>=x>=9:\n",
    "        return 'осень'\n",
    "    elif 5>=x>=3:\n",
    "        return 'весна'\n",
    "    else:\n",
    "        return 'зима'\n",
    "\n",
    "final_tickets_orders_converted['season'] = final_tickets_orders_converted['month'].apply(season)"
   ]
  },
  {
   "cell_type": "code",
   "execution_count": 24,
   "metadata": {},
   "outputs": [
    {
     "data": {
      "text/plain": [
       "0"
      ]
     },
     "execution_count": 24,
     "metadata": {},
     "output_type": "execute_result"
    }
   ],
   "source": [
    "final_tickets_orders_converted.duplicated().sum()"
   ]
  },
  {
   "cell_type": "code",
   "execution_count": 25,
   "metadata": {},
   "outputs": [
    {
     "data": {
      "text/plain": [
       "39"
      ]
     },
     "execution_count": 25,
     "metadata": {},
     "output_type": "execute_result"
    }
   ],
   "source": [
    "# проверяем дубликаты\n",
    "final_tickets_orders_converted.duplicated(subset=['user_id', 'created_ts_msk', 'created_ts_msk', 'event_id', 'cinema_circuit', 'age_limit', 'currency_code', 'device_type_canonical', 'revenue', 'service_name', 'tickets_count', 'total']).sum()"
   ]
  },
  {
   "cell_type": "code",
   "execution_count": 26,
   "metadata": {},
   "outputs": [],
   "source": [
    "# удаляем дубликаты\n",
    "final_tickets_orders_converted = final_tickets_orders_converted.drop_duplicates(subset=['user_id', 'created_ts_msk'])"
   ]
  },
  {
   "cell_type": "code",
   "execution_count": 27,
   "metadata": {},
   "outputs": [
    {
     "name": "stdout",
     "output_type": "stream",
     "text": [
      "\n",
      "Column: age_limit\n",
      "Unique values: [16  0 18 12  6]\n",
      "Missing values count: 0\n",
      "Value counts:\n",
      "16    77934\n",
      "12    61682\n",
      "0     60938\n",
      "6     51316\n",
      "18    35495\n",
      "Name: age_limit, dtype: int64 \n",
      "\n",
      "\n",
      "Column: currency_code\n",
      "Unique values: ['rub' 'kzt']\n",
      "Missing values count: 0\n",
      "Value counts:\n",
      "rub    282377\n",
      "kzt      4988\n",
      "Name: currency_code, dtype: int64 \n",
      "\n",
      "\n",
      "Column: device_type_canonical\n",
      "Unique values: ['mobile' 'desktop']\n",
      "Missing values count: 0\n",
      "Value counts:\n",
      "mobile     230037\n",
      "desktop     57328\n",
      "Name: device_type_canonical, dtype: int64 \n",
      "\n",
      "\n",
      "Column: service_name\n",
      "Unique values: ['Край билетов' 'Мой билет' 'За билетом!' 'Лови билет!'\n",
      " 'Билеты без проблем' 'Облачко' 'Лучшие билеты' 'Прачечная' 'Быстробилет'\n",
      " 'Дом культуры' 'Весь в билетах' 'Билеты в руки' 'Тебе билет!'\n",
      " 'Show_ticket' 'Городской дом культуры' 'Яблоко' 'Билет по телефону'\n",
      " 'Выступления.ру' 'Росбилет' 'Шоу начинается!' 'Мир касс' 'Восьмёрка'\n",
      " 'Телебилет' 'Crazy ticket!' 'Реестр' 'Быстрый кассир' 'КарандашРУ'\n",
      " 'Радио ticket' 'Дырокол' 'Вперёд!' 'Зе Бест!' 'Тех билет' 'Лимоны'\n",
      " 'Билеты в интернете' 'Кино билет' 'Цвет и билет']\n",
      "Missing values count: 0\n",
      "Value counts:\n",
      "Билеты без проблем        62748\n",
      "Лови билет!               40746\n",
      "Билеты в руки             40171\n",
      "Мой билет                 34400\n",
      "Облачко                   26399\n",
      "Лучшие билеты             17726\n",
      "Весь в билетах            16406\n",
      "Прачечная                 10216\n",
      "Край билетов               6108\n",
      "Тебе билет!                5173\n",
      "Яблоко                     5004\n",
      "Дом культуры               4411\n",
      "За билетом!                2853\n",
      "Городской дом культуры     2727\n",
      "Мир касс                   2135\n",
      "Show_ticket                2089\n",
      "Быстробилет                1981\n",
      "Выступления.ру             1589\n",
      "Восьмёрка                  1106\n",
      "Crazy ticket!               789\n",
      "Шоу начинается!             460\n",
      "Росбилет                    395\n",
      "Быстрый кассир              379\n",
      "Радио ticket                375\n",
      "Телебилет                   321\n",
      "КарандашРУ                  133\n",
      "Реестр                      124\n",
      "Билет по телефону            85\n",
      "Вперёд!                      80\n",
      "Дырокол                      70\n",
      "Кино билет                   67\n",
      "Цвет и билет                 60\n",
      "Тех билет                    22\n",
      "Лимоны                        8\n",
      "Зе Бест!                      5\n",
      "Билеты в интернете            4\n",
      "Name: service_name, dtype: int64 \n",
      "\n"
     ]
    }
   ],
   "source": [
    "# Анализ категориальных значений\n",
    "for column in ['age_limit', 'currency_code', 'device_type_canonical', 'service_name']:\n",
    "    print(f\"\\nColumn: {column}\")\n",
    "    print(\"Unique values:\", final_tickets_orders_converted[column].unique())\n",
    "    print(\"Missing values count:\", final_tickets_orders_converted[column].isna().sum())\n",
    "    print(\"Value counts:\")\n",
    "    print(final_tickets_orders_converted[column].value_counts(dropna=False), \"\\n\")"
   ]
  },
  {
   "cell_type": "code",
   "execution_count": 28,
   "metadata": {},
   "outputs": [
    {
     "name": "stdout",
     "output_type": "stream",
     "text": [
      "<class 'pandas.core.frame.DataFrame'>\n",
      "Int64Index: 287365 entries, 0 to 287531\n",
      "Data columns (total 28 columns):\n",
      " #   Column                  Non-Null Count   Dtype         \n",
      "---  ------                  --------------   -----         \n",
      " 0   order_id                287365 non-null  int64         \n",
      " 1   user_id                 287365 non-null  object        \n",
      " 2   created_dt_msk          287365 non-null  datetime64[ns]\n",
      " 3   created_ts_msk          287365 non-null  datetime64[ns]\n",
      " 4   event_id                287365 non-null  int64         \n",
      " 5   cinema_circuit          287365 non-null  object        \n",
      " 6   age_limit               287365 non-null  int8          \n",
      " 7   currency_code           287365 non-null  object        \n",
      " 8   device_type_canonical   287365 non-null  object        \n",
      " 9   revenue                 287365 non-null  float64       \n",
      " 10  service_name            287365 non-null  object        \n",
      " 11  tickets_count           287365 non-null  int8          \n",
      " 12  total                   287365 non-null  float64       \n",
      " 13  days_since_prev         265670 non-null  float64       \n",
      " 14  event_name              287127 non-null  object        \n",
      " 15  event_type_description  287127 non-null  object        \n",
      " 16  event_type_main         287127 non-null  object        \n",
      " 17  organizers              287127 non-null  object        \n",
      " 18  region_name             287127 non-null  object        \n",
      " 19  city_name               287127 non-null  object        \n",
      " 20  city_id                 287127 non-null  float64       \n",
      " 21  venue_id                287127 non-null  float64       \n",
      " 22  venue_name              287127 non-null  object        \n",
      " 23  venue_address           287127 non-null  object        \n",
      " 24  revenue_rub             287365 non-null  float64       \n",
      " 25  one_ticket_revenue_rub  287365 non-null  float64       \n",
      " 26  month                   287365 non-null  int64         \n",
      " 27  season                  287365 non-null  object        \n",
      "dtypes: datetime64[ns](2), float64(7), int64(3), int8(2), object(14)\n",
      "memory usage: 59.7+ MB\n"
     ]
    }
   ],
   "source": [
    "final_tickets_orders_converted.info()"
   ]
  },
  {
   "cell_type": "code",
   "execution_count": 29,
   "metadata": {},
   "outputs": [
    {
     "data": {
      "text/plain": [
       "0.9880212756447504"
      ]
     },
     "execution_count": 29,
     "metadata": {},
     "output_type": "execute_result"
    }
   ],
   "source": [
    "part_cleaned_final_tickets_orders = final_tickets_orders_converted['order_id'].count()/final_tickets_orders_df['order_id'].count()\n",
    "part_cleaned_final_tickets_orders"
   ]
  },
  {
   "cell_type": "markdown",
   "metadata": {},
   "source": [
    "Полученный датафрейм \"final_tickets_orders_converted\" содержит 28 столбцов 287395 строк. Начальный датафрейм  \"final_tickets_orders_df\" содержал 14 столбцов 290849 строк.  От начального датафрейма осталось 99%. \n",
    "Мы исключили выбросы по значению \"revenue\" отобрав значения по 99-му процентилю, и удалили отрицательные значения по 1-му процентилю.\n",
    "\n",
    "Также мы объединили с \"final_tickets_events_df\" и добавили в датафрейм новые столбцы: \n",
    "- \"revenue_rub\" - выручка с заказа к единой валюте российском рубле, \n",
    "- \"one_ticket_revenue_rub\" -  выручка с продажи одного билета на мероприятие,\n",
    "- \"month\"   - месяц оформления заказа, \n",
    "- \"season\"  - столбец с информацией о сезонности."
   ]
  },
  {
   "cell_type": "markdown",
   "metadata": {},
   "source": []
  },
  {
   "cell_type": "markdown",
   "metadata": {},
   "source": [
    "### Исследовательский анализ данных"
   ]
  },
  {
   "cell_type": "markdown",
   "metadata": {},
   "source": [
    "#### Анализ распределения заказов по сегментам и их сезонные изменения. \n",
    "\n",
    "Количество заказов для каждого месяца"
   ]
  },
  {
   "cell_type": "code",
   "execution_count": 30,
   "metadata": {},
   "outputs": [
    {
     "data": {
      "text/plain": [
       "<Figure size 864x432 with 0 Axes>"
      ]
     },
     "metadata": {},
     "output_type": "display_data"
    },
    {
     "data": {
      "image/png": "[encoded data removed]",
      "text/plain": [
       "<Figure size 432x288 with 1 Axes>"
      ]
     },
     "metadata": {
      "needs_background": "light"
     },
     "output_type": "display_data"
    }
   ],
   "source": [
    "final_tickets_orders_converted_count = final_tickets_orders_converted.groupby('month')['order_id'].count().reset_index()\n",
    "# Строим столбчатую диаграмму\n",
    "plt.figure(figsize=(12, 6))\n",
    "final_tickets_orders_converted_count.plot(kind='bar', \n",
    "                   x='month', \n",
    "                   y='order_id', \n",
    "                   rot=0, \n",
    "                   legend=False, \n",
    "                   title=f'количество')\n",
    "\n",
    "# Настраиваем оформление графика\n",
    "plt.xlabel('месяц', fontsize=12)\n",
    "plt.ylabel('количество заказов', fontsize=12)\n",
    "# Добавляем сетку графика\n",
    "plt.grid()\n",
    "\n",
    "# Выводим график\n",
    "plt.show()"
   ]
  },
  {
   "cell_type": "markdown",
   "metadata": {},
   "source": [
    "Распределение заказов билетов для осеннего и летнего периодов по разным категориям: тип мероприятия, тип устройства, категория мероприятия по возрастному рейтингу"
   ]
  },
  {
   "cell_type": "code",
   "execution_count": 31,
   "metadata": {},
   "outputs": [],
   "source": [
    "# вычисляем долю распределения заказов по типу мероприятия осенью\n",
    "event_group_autumn = (final_tickets_orders_converted[final_tickets_orders_converted['season']=='осень'].groupby('event_type_main')['order_id'].count()).reset_index()\n",
    "event_group_autumn['event_part'] = event_group_autumn['order_id']/(event_group_autumn['order_id'].sum()) * 100\n",
    "\n",
    "# вычисляем долю распределения заказов по типу мероприятия летом\n",
    "event_group_summer = (final_tickets_orders_converted[final_tickets_orders_converted['season']=='лето'].groupby('event_type_main')['order_id'].count()).reset_index()\n",
    "event_group_summer['event_part'] = event_group_summer['order_id']/(event_group_summer['order_id'].sum()) * 100\n"
   ]
  },
  {
   "cell_type": "code",
   "execution_count": 32,
   "metadata": {},
   "outputs": [
    {
     "data": {
      "text/plain": [
       "<Figure size 1152x576 with 0 Axes>"
      ]
     },
     "metadata": {},
     "output_type": "display_data"
    },
    {
     "data": {
      "image/png": "[encoded data removed]",
      "text/plain": [
       "<Figure size 432x288 with 1 Axes>"
      ]
     },
     "metadata": {
      "needs_background": "light"
     },
     "output_type": "display_data"
    }
   ],
   "source": [
    "# визуализируем полученные результаты\n",
    "index = event_group_summer['event_type_main']\n",
    "data = {'Осень': event_group_autumn['event_part'],\n",
    "        'лето': event_group_summer['event_part']}\n",
    "plt.figure(figsize=(16, 8))\n",
    "\n",
    "df = pd.DataFrame(data)\n",
    "df = df.set_index(pd.Index(index))\n",
    "\n",
    "df.plot(kind='bar', rot=0)\n",
    "plt.title('распределение заказов по типу мероприятия', fontsize=12)\n",
    "\n",
    "plt.xlabel('тип мероприятия')\n",
    "plt.ylabel('Доля заказов, %')\n",
    "\n",
    "plt.show()"
   ]
  },
  {
   "cell_type": "code",
   "execution_count": 33,
   "metadata": {},
   "outputs": [
    {
     "data": {
      "text/plain": [
       "age_limit\n",
       "0     60938\n",
       "6     51316\n",
       "12    61682\n",
       "16    77934\n",
       "18    35495\n",
       "Name: order_id, dtype: int64"
      ]
     },
     "execution_count": 33,
     "metadata": {},
     "output_type": "execute_result"
    }
   ],
   "source": [
    "final_tickets_orders_converted.groupby('age_limit')['order_id'].count()"
   ]
  },
  {
   "cell_type": "code",
   "execution_count": 34,
   "metadata": {},
   "outputs": [],
   "source": [
    "# вычисляем долю распределения заказов по типу устройств\n",
    "event_group_device_type_autumn = (final_tickets_orders_converted[final_tickets_orders_converted['season']=='осень'].groupby('device_type_canonical')['order_id'].count()).reset_index()\n",
    "event_group_device_type_autumn['event_part'] = event_group_device_type_autumn['order_id']/(event_group_device_type_autumn['order_id'].sum()) * 100\n",
    "\n",
    "event_group_device_type_summer = (final_tickets_orders_converted[final_tickets_orders_converted['season']=='лето'].groupby('device_type_canonical')['order_id'].count()).reset_index()\n",
    "event_group_device_type_summer['event_part'] = event_group_device_type_summer['order_id']/(event_group_device_type_summer['order_id'].sum()) * 100\n"
   ]
  },
  {
   "cell_type": "code",
   "execution_count": 35,
   "metadata": {},
   "outputs": [
    {
     "data": {
      "text/plain": [
       "<Figure size 1152x576 with 0 Axes>"
      ]
     },
     "metadata": {},
     "output_type": "display_data"
    },
    {
     "data": {
      "image/png": "[encoded data removed]",
      "text/plain": [
       "<Figure size 432x288 with 1 Axes>"
      ]
     },
     "metadata": {
      "needs_background": "light"
     },
     "output_type": "display_data"
    }
   ],
   "source": [
    "# визуализируем полученные результаты\n",
    "index = event_group_device_type_summer['device_type_canonical']\n",
    "data = {'Осень': event_group_device_type_autumn['event_part'],\n",
    "        'лето': event_group_device_type_summer['event_part']}\n",
    "plt.figure(figsize=(16, 8))\n",
    "color = ['g', 'r']\n",
    "\n",
    "df = pd.DataFrame(data)\n",
    "df = df.set_index(pd.Index(index))\n",
    "\n",
    "df.plot(kind='bar', color=color, rot=0)\n",
    "\n",
    "plt.title('распределение заказов по типу устройств', fontsize=12)\n",
    "plt.xlabel('тип устройства')\n",
    "plt.ylabel('Доля заказов, %')\n",
    "\n",
    "plt.show()"
   ]
  },
  {
   "cell_type": "code",
   "execution_count": 36,
   "metadata": {},
   "outputs": [],
   "source": [
    "# вычисляем долю распределения заказов по категория мероприятия по возрастному рейтингу\n",
    "event_group_age_limit_autumn = (final_tickets_orders_converted[final_tickets_orders_converted['season']=='осень'].groupby('age_limit')['order_id'].count()).reset_index()\n",
    "event_group_age_limit_autumn['event_part'] = event_group_age_limit_autumn['order_id']/(event_group_age_limit_autumn['order_id'].sum()) * 100\n",
    "\n",
    "event_group_age_limit_summer = (final_tickets_orders_converted[final_tickets_orders_converted['season']=='лето'].groupby('age_limit')['order_id'].count()).reset_index()\n",
    "event_group_age_limit_summer['event_part'] = event_group_age_limit_summer['order_id']/(event_group_age_limit_summer['order_id'].sum()) * 100\n"
   ]
  },
  {
   "cell_type": "code",
   "execution_count": 37,
   "metadata": {},
   "outputs": [
    {
     "data": {
      "text/plain": [
       "<Figure size 1152x576 with 0 Axes>"
      ]
     },
     "metadata": {},
     "output_type": "display_data"
    },
    {
     "data": {
      "image/png": "[encoded data removed]",
      "text/plain": [
       "<Figure size 432x288 with 1 Axes>"
      ]
     },
     "metadata": {
      "needs_background": "light"
     },
     "output_type": "display_data"
    }
   ],
   "source": [
    "# визуализируем полученные результаты\n",
    "index = event_group_age_limit_summer['age_limit']\n",
    "data = {'Осень': event_group_age_limit_autumn['event_part'],\n",
    "        'лето': event_group_age_limit_summer['event_part']}\n",
    "plt.figure(figsize=(16, 8))\n",
    "color = ['y', 'b']\n",
    "\n",
    "df = pd.DataFrame(data)\n",
    "df = df.set_index(pd.Index(index))\n",
    "\n",
    "df.plot(kind='bar', color=color, rot=0)\n",
    "\n",
    "plt.title('распределение заказов по возрастному рейтингу', fontsize=12)\n",
    "plt.xlabel('возрастной рейтинг')\n",
    "plt.ylabel('Доля заказов, %')\n",
    "\n",
    "plt.show()"
   ]
  },
  {
   "cell_type": "markdown",
   "metadata": {},
   "source": [
    "Изменение выручки с продажи одного билета в зависимости от типа мероприятия летом и осенью"
   ]
  },
  {
   "cell_type": "code",
   "execution_count": 38,
   "metadata": {},
   "outputs": [],
   "source": [
    "# вычисляем  выручку с продажи одного билета по типу мероприятия осенью\n",
    "event_group_revenue_autumn = (final_tickets_orders_converted[final_tickets_orders_converted['season']=='осень'].groupby('event_type_main')['one_ticket_revenue_rub'].mean()).reset_index()\n",
    "\n",
    "# вычисляем  выручку с продажи одного билета по типу мероприятия летом\n",
    "event_group_revenue_summer = (final_tickets_orders_converted[final_tickets_orders_converted['season']=='лето'].groupby('event_type_main')['one_ticket_revenue_rub'].mean()).reset_index()\n"
   ]
  },
  {
   "cell_type": "code",
   "execution_count": 39,
   "metadata": {},
   "outputs": [
    {
     "data": {
      "text/plain": [
       "<Figure size 1152x576 with 0 Axes>"
      ]
     },
     "metadata": {},
     "output_type": "display_data"
    },
    {
     "data": {
      "image/png": "[encoded data removed]",
      "text/plain": [
       "<Figure size 432x288 with 1 Axes>"
      ]
     },
     "metadata": {
      "needs_background": "light"
     },
     "output_type": "display_data"
    }
   ],
   "source": [
    "# визуализируем полученные результаты\n",
    "index = event_group_summer['event_type_main']\n",
    "data = {'Осень': event_group_revenue_autumn['one_ticket_revenue_rub'],\n",
    "        'лето': event_group_revenue_summer['one_ticket_revenue_rub']}\n",
    "plt.figure(figsize=(16, 8))\n",
    "\n",
    "df = pd.DataFrame(data)\n",
    "df = df.set_index(pd.Index(index))\n",
    "\n",
    "df.plot(kind='bar', rot=0)\n",
    "plt.title('распределение выручки с продажи одного билета', fontsize=12)\n",
    "\n",
    "plt.xlabel('тип мероприятия')\n",
    "plt.ylabel('выручка')\n",
    "\n",
    "plt.show()"
   ]
  },
  {
   "cell_type": "markdown",
   "metadata": {},
   "source": [
    "Вывод.\n",
    "- Количество заказов для летних месяцев ниже чем осенних. Летом в основном все отдыхают в отпусках и на каникулах. Осенью количество заказов резко увеличивается.\n",
    "- Если рассматривать распределение заказов билетов для осеннего и летнего периодов по типам мероприятия ,то летом больше заказов на \"концерты\", \"стендап\", \"другое\", осенью популярнее \"театр\" и \"спорт\".\n",
    "- Летом больше заказов с мобильных устройств, осенью с стационарных.\n",
    "- В категориях мероприятия по возрастному рейтингу получается что летом востребованее взрослые категории \"16\" и \"18\", осенью \"0\" и \"12\".\n",
    "- В разрезе разных типов мероприятий наблюдается изменение средней выручки одного билета. Летом больше выручка с \"концерты\" и \"ёлки\". Осенью - \"стендап\" и \"выставки\"."
   ]
  },
  {
   "cell_type": "code",
   "execution_count": 40,
   "metadata": {},
   "outputs": [
    {
     "data": {
      "text/html": [
       "<div>\n",
       "<style scoped>\n",
       "    .dataframe tbody tr th:only-of-type {\n",
       "        vertical-align: middle;\n",
       "    }\n",
       "\n",
       "    .dataframe tbody tr th {\n",
       "        vertical-align: top;\n",
       "    }\n",
       "\n",
       "    .dataframe thead th {\n",
       "        text-align: right;\n",
       "    }\n",
       "</style>\n",
       "<table border=\"1\" class=\"dataframe\">\n",
       "  <thead>\n",
       "    <tr style=\"text-align: right;\">\n",
       "      <th></th>\n",
       "      <th>event_type_main</th>\n",
       "      <th>one_ticket_revenue_rub_autumn</th>\n",
       "      <th>one_ticket_revenue_rub_summer</th>\n",
       "      <th>revenue_part_autumn</th>\n",
       "    </tr>\n",
       "  </thead>\n",
       "  <tbody>\n",
       "    <tr>\n",
       "      <th>0</th>\n",
       "      <td>выставки</td>\n",
       "      <td>91.917315</td>\n",
       "      <td>86.706855</td>\n",
       "      <td>6.009282</td>\n",
       "    </tr>\n",
       "    <tr>\n",
       "      <th>1</th>\n",
       "      <td>другое</td>\n",
       "      <td>80.843698</td>\n",
       "      <td>82.443903</td>\n",
       "      <td>-1.940962</td>\n",
       "    </tr>\n",
       "    <tr>\n",
       "      <th>2</th>\n",
       "      <td>концерты</td>\n",
       "      <td>278.861867</td>\n",
       "      <td>430.498063</td>\n",
       "      <td>-35.223433</td>\n",
       "    </tr>\n",
       "    <tr>\n",
       "      <th>3</th>\n",
       "      <td>спорт</td>\n",
       "      <td>54.010329</td>\n",
       "      <td>55.255205</td>\n",
       "      <td>-2.252957</td>\n",
       "    </tr>\n",
       "    <tr>\n",
       "      <th>4</th>\n",
       "      <td>стендап</td>\n",
       "      <td>231.140324</td>\n",
       "      <td>219.044442</td>\n",
       "      <td>5.522113</td>\n",
       "    </tr>\n",
       "    <tr>\n",
       "      <th>5</th>\n",
       "      <td>театр</td>\n",
       "      <td>176.001006</td>\n",
       "      <td>214.200464</td>\n",
       "      <td>-17.833509</td>\n",
       "    </tr>\n",
       "    <tr>\n",
       "      <th>6</th>\n",
       "      <td>ёлки</td>\n",
       "      <td>229.585589</td>\n",
       "      <td>271.436176</td>\n",
       "      <td>-15.418205</td>\n",
       "    </tr>\n",
       "  </tbody>\n",
       "</table>\n",
       "</div>"
      ],
      "text/plain": [
       "  event_type_main  one_ticket_revenue_rub_autumn  \\\n",
       "0        выставки                      91.917315   \n",
       "1          другое                      80.843698   \n",
       "2        концерты                     278.861867   \n",
       "3           спорт                      54.010329   \n",
       "4         стендап                     231.140324   \n",
       "5           театр                     176.001006   \n",
       "6            ёлки                     229.585589   \n",
       "\n",
       "   one_ticket_revenue_rub_summer  revenue_part_autumn  \n",
       "0                      86.706855             6.009282  \n",
       "1                      82.443903            -1.940962  \n",
       "2                     430.498063           -35.223433  \n",
       "3                      55.255205            -2.252957  \n",
       "4                     219.044442             5.522113  \n",
       "5                     214.200464           -17.833509  \n",
       "6                     271.436176           -15.418205  "
      ]
     },
     "execution_count": 40,
     "metadata": {},
     "output_type": "execute_result"
    }
   ],
   "source": [
    "# вычисляем относительное изменение осенних значений по сравнению с летними\n",
    "\n",
    "event_group_revenue_autumn = event_group_revenue_autumn.rename(columns={'one_ticket_revenue_rub': 'one_ticket_revenue_rub_autumn'})\n",
    "event_group_revenue_summer = event_group_revenue_summer.rename(columns={'one_ticket_revenue_rub': 'one_ticket_revenue_rub_summer'})\n",
    "\n",
    "event_group_revenue_part_autumn = event_group_revenue_autumn.merge(event_group_revenue_summer, how='left', on='event_type_main')\n",
    "\n",
    "event_group_revenue_part_autumn['revenue_part_autumn'] = ((event_group_revenue_part_autumn['one_ticket_revenue_rub_autumn']/\n",
    "                                                           event_group_revenue_part_autumn['one_ticket_revenue_rub_summer'])*100-100)\n",
    "\n",
    "\n",
    "event_group_revenue_part_autumn"
   ]
  },
  {
   "cell_type": "code",
   "execution_count": 41,
   "metadata": {},
   "outputs": [
    {
     "data": {
      "text/plain": [
       "<Figure size 1152x576 with 0 Axes>"
      ]
     },
     "metadata": {},
     "output_type": "display_data"
    },
    {
     "data": {
      "image/png": "[encoded data removed]",
      "text/plain": [
       "<Figure size 432x288 with 1 Axes>"
      ]
     },
     "metadata": {
      "needs_background": "light"
     },
     "output_type": "display_data"
    }
   ],
   "source": [
    "# визуализируем полученные результаты\n",
    "index = event_group_revenue_part_autumn['event_type_main']\n",
    "\n",
    "plt.figure(figsize=(16, 8))\n",
    "\n",
    "df = pd.DataFrame(event_group_revenue_part_autumn['revenue_part_autumn'])\n",
    "df = df.set_index(pd.Index(index))\n",
    "\n",
    "df.plot(kind='bar', rot=0)\n",
    "plt.title('относительное изменение выручки в процентах', fontsize=12)\n",
    "plt.grid()\n",
    "plt.xlabel('тип мероприятия')\n",
    "plt.ylabel('относительное изменение, %')\n",
    "\n",
    "plt.show()"
   ]
  },
  {
   "cell_type": "markdown",
   "metadata": {},
   "source": [
    "#### Осенняя активность пользователей"
   ]
  },
  {
   "cell_type": "code",
   "execution_count": 42,
   "metadata": {},
   "outputs": [
    {
     "data": {
      "text/plain": [
       "<Figure size 1152x432 with 0 Axes>"
      ]
     },
     "metadata": {},
     "output_type": "display_data"
    },
    {
     "data": {
      "image/png": "[encoded data removed]",
      "text/plain": [
       "<Figure size 432x288 with 1 Axes>"
      ]
     },
     "metadata": {
      "needs_background": "light"
     },
     "output_type": "display_data"
    },
    {
     "data": {
      "image/png": "[encoded data removed]",
      "text/plain": [
       "<Figure size 432x288 with 1 Axes>"
      ]
     },
     "metadata": {
      "needs_background": "light"
     },
     "output_type": "display_data"
    },
    {
     "data": {
      "image/png": "[encoded data removed]",
      "text/plain": [
       "<Figure size 432x288 with 1 Axes>"
      ]
     },
     "metadata": {
      "needs_background": "light"
     },
     "output_type": "display_data"
    }
   ],
   "source": [
    "# Сгруппируем датафрейм по количеству заказов, пользователей и средней выручки с билета\n",
    "orders_multi_agg = final_tickets_orders_converted[final_tickets_orders_converted['season']=='осень'].groupby(\n",
    "    'created_dt_msk').agg(count_of_orders=('order_id', 'count'), DAU=('user_id', 'nunique'), \n",
    "                          average_of_ticket=('one_ticket_revenue_rub', 'mean')\n",
    "                         ).reset_index()\n",
    "\n",
    "plt.figure(figsize=(16, 6))\n",
    "orders_multi_agg.plot(kind='line', \n",
    "                   x='created_dt_msk',\n",
    "                   y='count_of_orders',\n",
    "                   rot=0, grid=True, \n",
    "                   legend=True, xlabel='дни', ylabel='количество заказов',\n",
    "                   title=f'общее числа заказов')\n",
    "\n",
    "orders_multi_agg.plot(kind='line', \n",
    "                   x='created_dt_msk',\n",
    "                   y='DAU',\n",
    "                   rot=0, grid=True,\n",
    "                   legend=True, color='g', xlabel='дни',  ylabel='количество пользователей',\n",
    "                   title=f'количество активных пользователей') \n",
    "\n",
    "orders_multi_agg.plot(kind='line', \n",
    "                   x='created_dt_msk',\n",
    "                   y='average_of_ticket',\n",
    "                   rot=0, grid=True,\n",
    "                   legend=True,  color='r', xlabel='дни', ylabel='стоимость билета',\n",
    "                   title=f'средняя стоимость одного билета') \n",
    "\n",
    "\n",
    "# Выводим график\n",
    "plt.show()"
   ]
  },
  {
   "cell_type": "code",
   "execution_count": 43,
   "metadata": {},
   "outputs": [
    {
     "data": {
      "text/plain": [
       "<Figure size 720x432 with 0 Axes>"
      ]
     },
     "metadata": {},
     "output_type": "display_data"
    },
    {
     "data": {
      "image/png": "[encoded data removed]",
      "text/plain": [
       "<Figure size 432x288 with 1 Axes>"
      ]
     },
     "metadata": {
      "needs_background": "light"
     },
     "output_type": "display_data"
    }
   ],
   "source": [
    "#\n",
    "orders_multi_agg['average_of_orders']= orders_multi_agg['count_of_orders']/orders_multi_agg['DAU']\n",
    "\n",
    "plt.figure(figsize=(10, 6))\n",
    "orders_multi_agg.plot(kind='line', \n",
    "                   x='created_dt_msk',\n",
    "                   y='average_of_orders',   \n",
    "                   rot=0, \n",
    "                   legend=True, \n",
    "                   title=f'среднее число заказов на одного пользователя')  \n",
    "\n",
    "# Настраиваем оформление графика\n",
    "plt.xlabel('дни', fontsize=12)\n",
    "plt.ylabel('среднее число заказов', fontsize=12)\n",
    "\n",
    "# Добавляем сетку графика\n",
    "plt.grid()\n",
    "\n",
    "# Выводим график\n",
    "plt.show()"
   ]
  },
  {
   "cell_type": "code",
   "execution_count": 44,
   "metadata": {},
   "outputs": [
    {
     "name": "stderr",
     "output_type": "stream",
     "text": [
      "/tmp/ipykernel_48/1881077590.py:9: SettingWithCopyWarning: \n",
      "A value is trying to be set on a copy of a slice from a DataFrame.\n",
      "Try using .loc[row_indexer,col_indexer] = value instead\n",
      "\n",
      "See the caveats in the documentation: https://pandas.pydata.org/pandas-docs/stable/user_guide/indexing.html#returning-a-view-versus-a-copy\n",
      "  df['weekday'] = df['created_dt_msk'].dt.dayofweek\n"
     ]
    },
    {
     "data": {
      "image/png": "[encoded data removed]",
      "text/plain": [
       "<Figure size 576x288 with 1 Axes>"
      ]
     },
     "metadata": {
      "needs_background": "light"
     },
     "output_type": "display_data"
    }
   ],
   "source": [
    "# Изучим недельную цикличность. Выделим день недели и сравним пользовательскую активность в будни и выходные\n",
    "\n",
    "final_tickets_orders_weekday = final_tickets_orders_converted[final_tickets_orders_converted['season']=='осень']\n",
    "\n",
    "def analyze_weekday_activity(df):\n",
    "    \n",
    "     \n",
    "        # Добавление столбца с днем недели (0 - понедельник, 6 - воскресенье)\n",
    "        df['weekday'] = df['created_dt_msk'].dt.dayofweek\n",
    "\n",
    "        # Разделение на будни и выходные\n",
    "        df_weekday = df[df['weekday'].isin([0, 1, 2, 3, 4])]  # Будни\n",
    "        df_weekend = df[df['weekday'].isin([5, 6])]  # Выходные\n",
    "\n",
    "        # Подсчет количества заказов в каждый день недели\n",
    "        weekday_counts = df_weekday.groupby('weekday')['order_id'].count()\n",
    "        weekend_counts = df_weekend.groupby('weekday')['order_id'].count()\n",
    "\n",
    "        # Создание графика\n",
    "        plt.figure(figsize=(8, 4))\n",
    "        plt.bar(weekday_counts.index, weekday_counts.values, label='Будни')\n",
    "        plt.bar(weekend_counts.index, weekend_counts.values, label='Выходные')\n",
    "        plt.xlabel('День недели (0 - Пн, 6 - Вс)')\n",
    "        plt.ylabel('Количество уникальных пользователей')\n",
    "        plt.title('Пользовательская активность в будни и выходные')\n",
    "        plt.xticks(range(7)) \n",
    "        plt.legend()\n",
    "        plt.grid(axis='y')\n",
    "        \n",
    "        return plt.gcf()\n",
    "\n",
    "    \n",
    "\n",
    "fig = analyze_weekday_activity(final_tickets_orders_weekday)\n",
    "plt.show()"
   ]
  },
  {
   "cell_type": "markdown",
   "metadata": {},
   "source": [
    "В результате анализа получили данные пользовательской активности и недельной цикличности.\n",
    "- За два осенних месяца на линейных графиках виден рост общего числа заказов и количества активных пользователей.\n",
    "Также наблюдаем всплески, кратковременное увеличение почти в два раза: в начале сентября, в конце сентября-начало октября, в конце октября. Может пользователя пытаются закрыть свой план в конце месяца или в основном получают зарплату в этих числах.\n",
    "- Средняя выручка с билета снижалась в конце каждого месяца.\n",
    "- При сравнении пользовательской активность по дням недели, то больше всего заказов во вторник, меньше - в воскресенье."
   ]
  },
  {
   "cell_type": "markdown",
   "metadata": {},
   "source": [
    "#### Популярные события и партнёры"
   ]
  },
  {
   "cell_type": "code",
   "execution_count": 45,
   "metadata": {},
   "outputs": [
    {
     "data": {
      "text/html": [
       "<div>\n",
       "<style scoped>\n",
       "    .dataframe tbody tr th:only-of-type {\n",
       "        vertical-align: middle;\n",
       "    }\n",
       "\n",
       "    .dataframe tbody tr th {\n",
       "        vertical-align: top;\n",
       "    }\n",
       "\n",
       "    .dataframe thead th {\n",
       "        text-align: right;\n",
       "    }\n",
       "</style>\n",
       "<table border=\"1\" class=\"dataframe\">\n",
       "  <thead>\n",
       "    <tr style=\"text-align: right;\">\n",
       "      <th></th>\n",
       "      <th>region_name</th>\n",
       "      <th>event_id</th>\n",
       "      <th>order_id</th>\n",
       "      <th>order_id_part</th>\n",
       "    </tr>\n",
       "  </thead>\n",
       "  <tbody>\n",
       "    <tr>\n",
       "      <th>0</th>\n",
       "      <td>Каменевский регион</td>\n",
       "      <td>3910</td>\n",
       "      <td>46662</td>\n",
       "      <td>0.277309</td>\n",
       "    </tr>\n",
       "    <tr>\n",
       "      <th>1</th>\n",
       "      <td>Североярская область</td>\n",
       "      <td>2611</td>\n",
       "      <td>20698</td>\n",
       "      <td>0.123007</td>\n",
       "    </tr>\n",
       "    <tr>\n",
       "      <th>2</th>\n",
       "      <td>Широковская область</td>\n",
       "      <td>796</td>\n",
       "      <td>8645</td>\n",
       "      <td>0.051377</td>\n",
       "    </tr>\n",
       "    <tr>\n",
       "      <th>3</th>\n",
       "      <td>Светополянский округ</td>\n",
       "      <td>762</td>\n",
       "      <td>4763</td>\n",
       "      <td>0.028306</td>\n",
       "    </tr>\n",
       "    <tr>\n",
       "      <th>4</th>\n",
       "      <td>Речиновская область</td>\n",
       "      <td>529</td>\n",
       "      <td>3564</td>\n",
       "      <td>0.021181</td>\n",
       "    </tr>\n",
       "    <tr>\n",
       "      <th>5</th>\n",
       "      <td>Серебринская область</td>\n",
       "      <td>456</td>\n",
       "      <td>4467</td>\n",
       "      <td>0.026547</td>\n",
       "    </tr>\n",
       "    <tr>\n",
       "      <th>6</th>\n",
       "      <td>Яблоневская область</td>\n",
       "      <td>431</td>\n",
       "      <td>4195</td>\n",
       "      <td>0.024931</td>\n",
       "    </tr>\n",
       "  </tbody>\n",
       "</table>\n",
       "</div>"
      ],
      "text/plain": [
       "            region_name  event_id  order_id  order_id_part\n",
       "0    Каменевский регион      3910     46662       0.277309\n",
       "1  Североярская область      2611     20698       0.123007\n",
       "2   Широковская область       796      8645       0.051377\n",
       "3  Светополянский округ       762      4763       0.028306\n",
       "4   Речиновская область       529      3564       0.021181\n",
       "5  Серебринская область       456      4467       0.026547\n",
       "6   Яблоневская область       431      4195       0.024931"
      ]
     },
     "execution_count": 45,
     "metadata": {},
     "output_type": "execute_result"
    }
   ],
   "source": [
    "# выбираем популярные регионы\n",
    "final_tickets_region = final_tickets_orders_converted[final_tickets_orders_converted['season']=='осень'].groupby(\n",
    "    'region_name').agg({'event_id':'nunique', 'order_id':'count'}).sort_values(by='event_id', ascending=False).reset_index()\n",
    "final_tickets_region['order_id_part'] = final_tickets_region['order_id']/final_tickets_region['order_id'].sum()\n",
    "\n",
    "final_tickets_region.head(7)"
   ]
  },
  {
   "cell_type": "code",
   "execution_count": 46,
   "metadata": {},
   "outputs": [
    {
     "data": {
      "text/plain": [
       "<Figure size 864x432 with 0 Axes>"
      ]
     },
     "metadata": {},
     "output_type": "display_data"
    },
    {
     "data": {
      "image/png": "[encoded data removed]",
      "text/plain": [
       "<Figure size 432x288 with 1 Axes>"
      ]
     },
     "metadata": {
      "needs_background": "light"
     },
     "output_type": "display_data"
    }
   ],
   "source": [
    "# Строим столбчатую диаграмму\n",
    "plt.figure(figsize=(12, 6))\n",
    "final_tickets_region.head(5).plot(kind='bar', \n",
    "                   x='region_name', \n",
    "                   y='order_id', \n",
    "                   rot=0.5, \n",
    "                   legend=False, \n",
    "                   title=f'количество')\n",
    "\n",
    "# Настраиваем оформление графика\n",
    "plt.xlabel('регион', fontsize=12)\n",
    "plt.ylabel('количество заказов', fontsize=12)\n",
    "plt.xticks(rotation=45)\n",
    "# Добавляем сетку графика\n",
    "plt.grid()\n",
    "\n",
    "# Выводим график\n",
    "plt.show()"
   ]
  },
  {
   "cell_type": "code",
   "execution_count": 47,
   "metadata": {},
   "outputs": [
    {
     "data": {
      "text/html": [
       "<div>\n",
       "<style scoped>\n",
       "    .dataframe tbody tr th:only-of-type {\n",
       "        vertical-align: middle;\n",
       "    }\n",
       "\n",
       "    .dataframe tbody tr th {\n",
       "        vertical-align: top;\n",
       "    }\n",
       "\n",
       "    .dataframe thead th {\n",
       "        text-align: right;\n",
       "    }\n",
       "</style>\n",
       "<table border=\"1\" class=\"dataframe\">\n",
       "  <thead>\n",
       "    <tr style=\"text-align: right;\">\n",
       "      <th></th>\n",
       "      <th>service_name</th>\n",
       "      <th>event_id</th>\n",
       "      <th>order_id</th>\n",
       "      <th>revenue_rub</th>\n",
       "      <th>order_id_part</th>\n",
       "      <th>revenue_rub_part</th>\n",
       "    </tr>\n",
       "  </thead>\n",
       "  <tbody>\n",
       "    <tr>\n",
       "      <th>0</th>\n",
       "      <td>Лови билет!</td>\n",
       "      <td>3611</td>\n",
       "      <td>25758</td>\n",
       "      <td>1.037225e+07</td>\n",
       "      <td>0.153058</td>\n",
       "      <td>0.12688</td>\n",
       "    </tr>\n",
       "    <tr>\n",
       "      <th>1</th>\n",
       "      <td>Билеты без проблем</td>\n",
       "      <td>2836</td>\n",
       "      <td>32287</td>\n",
       "      <td>1.211529e+07</td>\n",
       "      <td>0.191854</td>\n",
       "      <td>0.14820</td>\n",
       "    </tr>\n",
       "    <tr>\n",
       "      <th>2</th>\n",
       "      <td>Билеты в руки</td>\n",
       "      <td>2458</td>\n",
       "      <td>25620</td>\n",
       "      <td>7.609778e+06</td>\n",
       "      <td>0.152238</td>\n",
       "      <td>0.09309</td>\n",
       "    </tr>\n",
       "    <tr>\n",
       "      <th>3</th>\n",
       "      <td>Облачко</td>\n",
       "      <td>1409</td>\n",
       "      <td>15477</td>\n",
       "      <td>1.061055e+07</td>\n",
       "      <td>0.091967</td>\n",
       "      <td>0.12980</td>\n",
       "    </tr>\n",
       "    <tr>\n",
       "      <th>4</th>\n",
       "      <td>Лучшие билеты</td>\n",
       "      <td>1390</td>\n",
       "      <td>12412</td>\n",
       "      <td>1.675712e+06</td>\n",
       "      <td>0.073754</td>\n",
       "      <td>0.02050</td>\n",
       "    </tr>\n",
       "  </tbody>\n",
       "</table>\n",
       "</div>"
      ],
      "text/plain": [
       "         service_name  event_id  order_id   revenue_rub  order_id_part  \\\n",
       "0         Лови билет!      3611     25758  1.037225e+07       0.153058   \n",
       "1  Билеты без проблем      2836     32287  1.211529e+07       0.191854   \n",
       "2       Билеты в руки      2458     25620  7.609778e+06       0.152238   \n",
       "3             Облачко      1409     15477  1.061055e+07       0.091967   \n",
       "4       Лучшие билеты      1390     12412  1.675712e+06       0.073754   \n",
       "\n",
       "   revenue_rub_part  \n",
       "0           0.12688  \n",
       "1           0.14820  \n",
       "2           0.09309  \n",
       "3           0.12980  \n",
       "4           0.02050  "
      ]
     },
     "execution_count": 47,
     "metadata": {},
     "output_type": "execute_result"
    }
   ],
   "source": [
    "# выбираем популярные сервисы\n",
    "final_tickets_service = final_tickets_orders_converted[final_tickets_orders_converted['season']=='осень'].groupby(\n",
    "    'service_name').agg({'event_id':'nunique', 'order_id':'count', 'revenue_rub':'sum'}).sort_values(by='event_id', ascending=False).reset_index()\n",
    "final_tickets_service['order_id_part'] = final_tickets_service['order_id']/final_tickets_service['order_id'].sum()\n",
    "final_tickets_service['revenue_rub_part'] = (final_tickets_service['revenue_rub']/final_tickets_service['revenue_rub'].sum()).round(5)\n",
    "\n",
    "final_tickets_service.head(5)"
   ]
  },
  {
   "cell_type": "code",
   "execution_count": 48,
   "metadata": {},
   "outputs": [
    {
     "data": {
      "text/plain": [
       "<Figure size 864x432 with 0 Axes>"
      ]
     },
     "metadata": {},
     "output_type": "display_data"
    },
    {
     "data": {
      "image/png": "[encoded data removed]",
      "text/plain": [
       "<Figure size 432x288 with 1 Axes>"
      ]
     },
     "metadata": {
      "needs_background": "light"
     },
     "output_type": "display_data"
    }
   ],
   "source": [
    "# Строим столбчатую диаграмму\n",
    "plt.figure(figsize=(12, 6))\n",
    "final_tickets_service.head(7).plot(kind='bar', \n",
    "                   x='service_name', \n",
    "                   y='order_id', \n",
    "                   rot=0.5, \n",
    "                   legend=False, color = '#028ca1', \n",
    "                   title=f'количество')\n",
    "\n",
    "# Настраиваем оформление графика\n",
    "plt.xlabel('регион', fontsize=12)\n",
    "plt.ylabel('количество заказов', fontsize=12)\n",
    "plt.xticks(rotation=45)\n",
    "# Добавляем сетку графика\n",
    "plt.grid()\n",
    "\n",
    "# Выводим график\n",
    "plt.show()"
   ]
  },
  {
   "cell_type": "markdown",
   "metadata": {},
   "source": [
    "Если смотреть по уникальному количеству мероприятий и общему числу заказов для каждого региона. То получиться три основных региона \"Каменевский регион\", \"Североярская область\", \"Широковская область\" на долю которых приходиться более 40% заказов.\n",
    "\n",
    "Среди билетных партнёров по общему числу уникальных мероприятий выделяются \"Лови билет!\" - 3616, \"Билеты без проблем\" - 2842, \"Билеты в руки\" - 2460."
   ]
  },
  {
   "cell_type": "markdown",
   "metadata": {},
   "source": [
    "### Статистический анализ данных"
   ]
  },
  {
   "cell_type": "markdown",
   "metadata": {},
   "source": [
    "1. Гипотеза: Среднее количество заказов на одного пользователя мобильного приложения выше по сравнению с пользователями стационарных устройств\n",
    "\n",
    "Нулевая гипотеза  𝐻0:𝜇mobile≤𝜇desktop\n",
    "\n",
    "Среднее количество заказов мобильного приложения не больше, чем стационарных устройств.\n",
    "\n",
    "Альтернативная гипотеза  𝐻1:𝜇mobile>𝜇desktop\n",
    "\n",
    "Среднее количество заказов мобильного приложения больше, и это различие статистически значимо."
   ]
  },
  {
   "cell_type": "code",
   "execution_count": 49,
   "metadata": {},
   "outputs": [
    {
     "data": {
      "text/plain": [
       "14179"
      ]
     },
     "execution_count": 49,
     "metadata": {},
     "output_type": "execute_result"
    }
   ],
   "source": [
    "# проверяем на независимость групп\n",
    "mobile = final_tickets_orders_converted[(final_tickets_orders_converted['device_type_canonical']=='mobile')&(\n",
    "    final_tickets_orders_converted['season']=='осень')]['user_id'].unique()\n",
    "len(mobile)"
   ]
  },
  {
   "cell_type": "code",
   "execution_count": 50,
   "metadata": {},
   "outputs": [
    {
     "data": {
      "text/plain": [
       "4869"
      ]
     },
     "execution_count": 50,
     "metadata": {},
     "output_type": "execute_result"
    }
   ],
   "source": [
    "desktop = final_tickets_orders_converted[(final_tickets_orders_converted['device_type_canonical']=='desktop')&(\n",
    "    final_tickets_orders_converted['season']=='осень')]['user_id'].unique()\n",
    "len(desktop)"
   ]
  },
  {
   "cell_type": "code",
   "execution_count": 51,
   "metadata": {},
   "outputs": [
    {
     "data": {
      "text/plain": [
       "3249"
      ]
     },
     "execution_count": 51,
     "metadata": {},
     "output_type": "execute_result"
    }
   ],
   "source": [
    "# проверяем на независимость групп\n",
    "intersection = list(set(mobile) & set(desktop))\n",
    "len(intersection) "
   ]
  },
  {
   "cell_type": "code",
   "execution_count": 52,
   "metadata": {},
   "outputs": [],
   "source": [
    "# удаляем пользователей которые пользуются и мобильной и десктопной версией\n",
    "final_tickets_orders_cleaned = final_tickets_orders_converted[~final_tickets_orders_converted['user_id'].isin(intersection)] \n"
   ]
  },
  {
   "cell_type": "code",
   "execution_count": 53,
   "metadata": {},
   "outputs": [
    {
     "data": {
      "text/html": [
       "<div>\n",
       "<style scoped>\n",
       "    .dataframe tbody tr th:only-of-type {\n",
       "        vertical-align: middle;\n",
       "    }\n",
       "\n",
       "    .dataframe tbody tr th {\n",
       "        vertical-align: top;\n",
       "    }\n",
       "\n",
       "    .dataframe thead th {\n",
       "        text-align: right;\n",
       "    }\n",
       "</style>\n",
       "<table border=\"1\" class=\"dataframe\">\n",
       "  <thead>\n",
       "    <tr style=\"text-align: right;\">\n",
       "      <th></th>\n",
       "      <th>user_id</th>\n",
       "      <th>order_id</th>\n",
       "    </tr>\n",
       "  </thead>\n",
       "  <tbody>\n",
       "    <tr>\n",
       "      <th>0</th>\n",
       "      <td>f69ede3411d9a97</td>\n",
       "      <td>123</td>\n",
       "    </tr>\n",
       "    <tr>\n",
       "      <th>1</th>\n",
       "      <td>0ae42a8c1d07049</td>\n",
       "      <td>73</td>\n",
       "    </tr>\n",
       "    <tr>\n",
       "      <th>2</th>\n",
       "      <td>3530a91eedecc9a</td>\n",
       "      <td>62</td>\n",
       "    </tr>\n",
       "    <tr>\n",
       "      <th>3</th>\n",
       "      <td>41024e5c67313be</td>\n",
       "      <td>59</td>\n",
       "    </tr>\n",
       "    <tr>\n",
       "      <th>4</th>\n",
       "      <td>e609842e020a10f</td>\n",
       "      <td>55</td>\n",
       "    </tr>\n",
       "    <tr>\n",
       "      <th>...</th>\n",
       "      <td>...</td>\n",
       "      <td>...</td>\n",
       "    </tr>\n",
       "    <tr>\n",
       "      <th>10925</th>\n",
       "      <td>71d57388e6a38e6</td>\n",
       "      <td>1</td>\n",
       "    </tr>\n",
       "    <tr>\n",
       "      <th>10926</th>\n",
       "      <td>71d555bc64735bc</td>\n",
       "      <td>1</td>\n",
       "    </tr>\n",
       "    <tr>\n",
       "      <th>10927</th>\n",
       "      <td>71cdd22f3c16232</td>\n",
       "      <td>1</td>\n",
       "    </tr>\n",
       "    <tr>\n",
       "      <th>10928</th>\n",
       "      <td>71bf83da09c9ef7</td>\n",
       "      <td>1</td>\n",
       "    </tr>\n",
       "    <tr>\n",
       "      <th>10929</th>\n",
       "      <td>ffff00725179321</td>\n",
       "      <td>1</td>\n",
       "    </tr>\n",
       "  </tbody>\n",
       "</table>\n",
       "<p>10930 rows × 2 columns</p>\n",
       "</div>"
      ],
      "text/plain": [
       "               user_id  order_id\n",
       "0      f69ede3411d9a97       123\n",
       "1      0ae42a8c1d07049        73\n",
       "2      3530a91eedecc9a        62\n",
       "3      41024e5c67313be        59\n",
       "4      e609842e020a10f        55\n",
       "...                ...       ...\n",
       "10925  71d57388e6a38e6         1\n",
       "10926  71d555bc64735bc         1\n",
       "10927  71cdd22f3c16232         1\n",
       "10928  71bf83da09c9ef7         1\n",
       "10929  ffff00725179321         1\n",
       "\n",
       "[10930 rows x 2 columns]"
      ]
     },
     "execution_count": 53,
     "metadata": {},
     "output_type": "execute_result"
    }
   ],
   "source": [
    "# выборка целевой метрики для группы A, среднее количество заказов на одного пользователя мобильного приложения осенью\n",
    "A_inter = final_tickets_orders_cleaned[(final_tickets_orders_cleaned['device_type_canonical']=='mobile')&(final_tickets_orders_cleaned['season']=='осень')].groupby(\n",
    "    'user_id').agg({'order_id':'nunique'}).sort_values(by='order_id', ascending=False).reset_index()\n",
    "A_inter"
   ]
  },
  {
   "cell_type": "code",
   "execution_count": 54,
   "metadata": {},
   "outputs": [
    {
     "data": {
      "text/html": [
       "<div>\n",
       "<style scoped>\n",
       "    .dataframe tbody tr th:only-of-type {\n",
       "        vertical-align: middle;\n",
       "    }\n",
       "\n",
       "    .dataframe tbody tr th {\n",
       "        vertical-align: top;\n",
       "    }\n",
       "\n",
       "    .dataframe thead th {\n",
       "        text-align: right;\n",
       "    }\n",
       "</style>\n",
       "<table border=\"1\" class=\"dataframe\">\n",
       "  <thead>\n",
       "    <tr style=\"text-align: right;\">\n",
       "      <th></th>\n",
       "      <th>user_id</th>\n",
       "      <th>order_id</th>\n",
       "    </tr>\n",
       "  </thead>\n",
       "  <tbody>\n",
       "    <tr>\n",
       "      <th>0</th>\n",
       "      <td>2cba8e7c2420f5b</td>\n",
       "      <td>56</td>\n",
       "    </tr>\n",
       "    <tr>\n",
       "      <th>1</th>\n",
       "      <td>b14d95aab20f46d</td>\n",
       "      <td>44</td>\n",
       "    </tr>\n",
       "    <tr>\n",
       "      <th>2</th>\n",
       "      <td>cbe06d8837e87fb</td>\n",
       "      <td>44</td>\n",
       "    </tr>\n",
       "    <tr>\n",
       "      <th>3</th>\n",
       "      <td>a00c83aac8fea5f</td>\n",
       "      <td>43</td>\n",
       "    </tr>\n",
       "    <tr>\n",
       "      <th>4</th>\n",
       "      <td>4c124b6d79dc691</td>\n",
       "      <td>28</td>\n",
       "    </tr>\n",
       "    <tr>\n",
       "      <th>...</th>\n",
       "      <td>...</td>\n",
       "      <td>...</td>\n",
       "    </tr>\n",
       "    <tr>\n",
       "      <th>1615</th>\n",
       "      <td>6092f2474823e5b</td>\n",
       "      <td>1</td>\n",
       "    </tr>\n",
       "    <tr>\n",
       "      <th>1616</th>\n",
       "      <td>608f947fda0af22</td>\n",
       "      <td>1</td>\n",
       "    </tr>\n",
       "    <tr>\n",
       "      <th>1617</th>\n",
       "      <td>608f91325cb756b</td>\n",
       "      <td>1</td>\n",
       "    </tr>\n",
       "    <tr>\n",
       "      <th>1618</th>\n",
       "      <td>60728980f4a0f11</td>\n",
       "      <td>1</td>\n",
       "    </tr>\n",
       "    <tr>\n",
       "      <th>1619</th>\n",
       "      <td>fffeeb3c120cf0b</td>\n",
       "      <td>1</td>\n",
       "    </tr>\n",
       "  </tbody>\n",
       "</table>\n",
       "<p>1620 rows × 2 columns</p>\n",
       "</div>"
      ],
      "text/plain": [
       "              user_id  order_id\n",
       "0     2cba8e7c2420f5b        56\n",
       "1     b14d95aab20f46d        44\n",
       "2     cbe06d8837e87fb        44\n",
       "3     a00c83aac8fea5f        43\n",
       "4     4c124b6d79dc691        28\n",
       "...               ...       ...\n",
       "1615  6092f2474823e5b         1\n",
       "1616  608f947fda0af22         1\n",
       "1617  608f91325cb756b         1\n",
       "1618  60728980f4a0f11         1\n",
       "1619  fffeeb3c120cf0b         1\n",
       "\n",
       "[1620 rows x 2 columns]"
      ]
     },
     "execution_count": 54,
     "metadata": {},
     "output_type": "execute_result"
    }
   ],
   "source": [
    "# выборка целевой метрики для группы B, среднее количество заказов на одного пользователя десктопного приложения осенью\n",
    "B_inter = final_tickets_orders_cleaned[(final_tickets_orders_cleaned['device_type_canonical']=='desktop')&(\n",
    "    final_tickets_orders_cleaned['season']=='осень')].groupby('user_id').agg({'order_id':'nunique'}).sort_values(\n",
    "    by='order_id', ascending=False).reset_index()\n",
    "B_inter"
   ]
  },
  {
   "cell_type": "code",
   "execution_count": 55,
   "metadata": {},
   "outputs": [
    {
     "data": {
      "image/png": "[encoded data removed]",
      "text/plain": [
       "<Figure size 720x360 with 1 Axes>"
      ]
     },
     "metadata": {
      "needs_background": "light"
     },
     "output_type": "display_data"
    }
   ],
   "source": [
    "plt.figure(figsize=(10, 5))\n",
    "\n",
    "# Строим гистограмму с помощью pandas через plot(kind='hist')\n",
    "A_inter['order_id'].plot(\n",
    "                kind='hist', # Тип графика — гистограмма\n",
    "                bins=80, # Устанавливаем количество корзин\n",
    "                alpha=0.75,\n",
    "                edgecolor='black'\n",
    ")\n",
    "\n",
    "B_inter['order_id'].plot(\n",
    "                kind='hist', # Тип графика — гистограмма\n",
    "                bins=80, # Устанавливаем количество корзин\n",
    "                alpha=0.75,\n",
    "                edgecolor='black'\n",
    ")\n",
    "\n",
    "\n",
    "# Настраиваем оформление графика\n",
    "plt.title('Среднее количество заказов на одного пользователя')\n",
    "plt.xlabel('количество заказов')\n",
    "plt.legend()\n",
    "\n",
    "# Добавляем сетку графика\n",
    "plt.grid()\n",
    "\n",
    "# Выводим график\n",
    "plt.show() "
   ]
  },
  {
   "cell_type": "code",
   "execution_count": 56,
   "metadata": {},
   "outputs": [
    {
     "data": {
      "text/plain": [
       "2.8558096980786827"
      ]
     },
     "metadata": {},
     "output_type": "display_data"
    },
    {
     "data": {
      "text/plain": [
       "1.9790123456790123"
      ]
     },
     "metadata": {},
     "output_type": "display_data"
    }
   ],
   "source": [
    "# Вычисляем средние\n",
    "display(A_inter['order_id'].mean())\n",
    "display(B_inter['order_id'].mean())"
   ]
  },
  {
   "cell_type": "code",
   "execution_count": 57,
   "metadata": {},
   "outputs": [
    {
     "data": {
      "text/plain": [
       "4.093302400112391"
      ]
     },
     "metadata": {},
     "output_type": "display_data"
    },
    {
     "data": {
      "text/plain": [
       "3.0654066591985565"
      ]
     },
     "metadata": {},
     "output_type": "display_data"
    }
   ],
   "source": [
    "# Вычисляем стандартное отклонение\n",
    "display(A_inter['order_id'].std())\n",
    "display(B_inter['order_id'].std())"
   ]
  },
  {
   "cell_type": "markdown",
   "metadata": {},
   "source": [
    "Будем использовать тест Манна — Уитни. В отличие от t-теста, он не требует нормальности выборочных средних и не является чувствительным к выбросам, поэтому этап проверки распределения на тяжёлые хвосты можно пропустить."
   ]
  },
  {
   "cell_type": "code",
   "execution_count": 58,
   "metadata": {},
   "outputs": [
    {
     "name": "stdout",
     "output_type": "stream",
     "text": [
      "pvalue=1.337654386961107e-38 < 0.05\n",
      "Нулевая гипотеза не находит подтверждения!\n"
     ]
    }
   ],
   "source": [
    "# Выборка целевой метрики для группы A\n",
    "metric_a = A_inter.order_id \n",
    "# Выборка целевой метрики для группы B\n",
    "metric_b = B_inter.order_id \n",
    "\n",
    "# На каком уровне значимости проверяем гипотезу о равенстве распределений\n",
    "alpha = 0.05 \n",
    "\n",
    "# Применяем тест Манна — Уитни\n",
    "stat_mw, p_value_mw = mannwhitneyu(\n",
    "    metric_a, \n",
    "    metric_b, \n",
    "    alternative='greater' # Альтернативная гипотеза «больше»: распределение, лежащее в основе стохастически меньше\n",
    ") \n",
    "\n",
    "if p_value_mw > alpha:\n",
    "    print(f'pvalue={p_value_mw} > {alpha}')\n",
    "    print('Нулевая гипотеза находит подтверждение!')\n",
    "else:\n",
    "    print(f'pvalue={p_value_mw} < {alpha}')\n",
    "    print('Нулевая гипотеза не находит подтверждения!')"
   ]
  },
  {
   "cell_type": "markdown",
   "metadata": {},
   "source": [
    "2. Гипотеза: Среднее время между заказами пользователей мобильных приложений выше по сравнению с пользователями стационарных устройств\n",
    "\n",
    "Нулевая гипотеза  𝐻0:𝜇mobile≤𝜇desktop\n",
    "\n",
    "Среднее время между заказами мобильного приложения не больше, чем стационарных устройств.\n",
    "\n",
    "Альтернативная гипотеза  𝐻1:𝜇mobile>𝜇desktop\n",
    "\n",
    "Среднее время между заказами мобильного приложения больше, и это различие статистически значимо.\n"
   ]
  },
  {
   "cell_type": "code",
   "execution_count": 59,
   "metadata": {},
   "outputs": [],
   "source": [
    "# выборка целевой метрики для группы A, среднее количество дней между покупками на одного пользователя мобильного приложения осенью\n",
    "# c количеством дней с предыдущей покупки >0\n",
    "A_inter_day = final_tickets_orders_cleaned[(final_tickets_orders_cleaned['device_type_canonical']=='mobile')&(\n",
    "    final_tickets_orders_cleaned['season']=='осень')&(final_tickets_orders_cleaned['days_since_prev']>0)].groupby(\n",
    "    'user_id').agg({'order_id':'count', 'days_since_prev':'mean'}).sort_values(by='order_id', ascending=False).reset_index()\n"
   ]
  },
  {
   "cell_type": "code",
   "execution_count": 60,
   "metadata": {},
   "outputs": [],
   "source": [
    "B_inter_day = final_tickets_orders_cleaned[(final_tickets_orders_cleaned['device_type_canonical']=='desktop')&(\n",
    "    final_tickets_orders_cleaned['season']=='осень')&(final_tickets_orders_cleaned['days_since_prev']>0)].groupby(\n",
    "    'user_id').agg({'order_id':'count', 'days_since_prev':'mean'}).sort_values(by='days_since_prev', ascending=False).reset_index()\n"
   ]
  },
  {
   "cell_type": "code",
   "execution_count": 61,
   "metadata": {},
   "outputs": [
    {
     "data": {
      "text/plain": [
       "38.55983786208041"
      ]
     },
     "metadata": {},
     "output_type": "display_data"
    },
    {
     "data": {
      "text/plain": [
       "53.96460349902379"
      ]
     },
     "metadata": {},
     "output_type": "display_data"
    }
   ],
   "source": [
    "# Вычисляем средние\n",
    "display(A_inter_day['days_since_prev'].mean())\n",
    "display(B_inter_day['days_since_prev'].mean())"
   ]
  },
  {
   "cell_type": "code",
   "execution_count": 62,
   "metadata": {},
   "outputs": [
    {
     "name": "stdout",
     "output_type": "stream",
     "text": [
      "pvalue=1.0 > 0.05\n",
      "Нулевая гипотеза находит подтверждение!\n"
     ]
    }
   ],
   "source": [
    "# Выборка целевой метрики для группы A\n",
    "metric_a = B_inter_day.days_since_prev \n",
    "# Выборка целевой метрики для группы B\n",
    "metric_b = A_inter_day.days_since_prev\n",
    "# На каком уровне значимости проверяем гипотезу о равенстве распределений\n",
    "alpha = 0.05 \n",
    "\n",
    "# Применяем тест Манна — Уитни\n",
    "stat_mw, p_value_mw = mannwhitneyu(\n",
    "    metric_a, \n",
    "    metric_b, \n",
    "    alternative='less' # Альтернативная гипотеза «больше»: распределение, лежащее в основе стохастически меньше\n",
    ") \n",
    "\n",
    "if p_value_mw > alpha:\n",
    "    print(f'pvalue={p_value_mw} > {alpha}')\n",
    "    print('Нулевая гипотеза находит подтверждение!')\n",
    "else:\n",
    "    print(f'pvalue={p_value_mw} < {alpha}')\n",
    "    print('Нулевая гипотеза не находит подтверждения!')"
   ]
  },
  {
   "cell_type": "markdown",
   "metadata": {},
   "source": [
    "Результат тестов. \n",
    "\n",
    "Вначале проверяем на независимость групп, пользователей которые использовали и мобильный и стационарный способ заказа удаляем.\n",
    "\n",
    "Проверяем две гипотезы относительно активности пользователей мобильных и стационарных устройств. \n",
    "1. Среднее количество заказов на одного пользователя мобильного приложения выше по сравнению с пользователями стационарных устройств.\n",
    "Пользователи мобильных устройств в среднем больше делают заказов, чем пользователи стационарных устройств, значения средних показывают 2.864 и 1.976. Для проведения анализа используем  тест Манна — Уитни. T-тест в качестве условия требует нормального распределения выборочного среднего, то есть у распределения не должно быть тяжёлых хвостов и выбросов. У теста Манна — Уитни таких требований нет, и он нечувствителен к выбросам из-за рангового преобразования. \n",
    "* Нулевая гипотеза H0 : \n",
    "Среднее количество заказов мобильного приложения не больше, чем стационарных устройств\n",
    "* Альтернативная гипотеза  𝐻1:\n",
    "Среднее количество заказов мобильного приложения больше, и это различие статистически значимо\n",
    "\n",
    "Уровень статистической значимости устанавливаем равным 5% (α=0.05). Среднее количество заказов в двух выборках не различается. По результату теста определили, что Альтернативная гипотеза подтверждена, среднее количество заказов мобильного приложения больше.\n",
    "\n",
    "2. Среднее время между заказами пользователей мобильных приложений выше по сравнению с пользователями стационарных устройств\n",
    "* Нулевая гипотеза 𝐻0:\n",
    "Среднее время между заказами мобильного приложения не больше, чем стационарных устройств.\n",
    "* Альтернативная гипотеза 𝐻1:\n",
    "Среднее время между заказами мобильного приложения больше, и это различие статистически значимо.\n",
    "\n",
    "Нулевая гипотеза находит подтверждения. Значит мы предполагаем, что среднее время между заказами пользователей мобильных приложений одинаково по сравнению с пользователями стационарных устройств."
   ]
  },
  {
   "cell_type": "markdown",
   "metadata": {},
   "source": [
    "### Общий вывод и рекомендации"
   ]
  },
  {
   "cell_type": "markdown",
   "metadata": {},
   "source": [
    "Провели исследовательский анализ данных, чтобы выявить изменения в пользовательских предпочтений и популярности событий осенью 2024 года, а также проверить гипотезы о разнице в поведении пользователей с мобильными и стационарными устройствами.\n",
    "Использовали данные о бронировании билетов на сервисе Яндекс Афиша за период с 1 июня по 30 октября 2024 года.\n",
    "\n",
    "Осенью количество заказов увеличивается.\n",
    "Летом больше заказов на \"концерты\", \"стендап\", \"другое\", осенью популярнее \"театр\" и \"спорт\".\n",
    "Осенью чеще пользуются стационарными устройствами.\n",
    "В категориях мероприятия по возрастному рейтингу получается что летом востребованее взрослые категории \"16\" и \"18\", осенью \"0\" и \"12\". \n",
    "Средняя выручка с билета примерно одинаковая в течении всего периода.\n",
    "Явные лидеры по числу заказов три региона \"Каменевский регион\", \"Североярская область\", \"Широковская область\".\n",
    "Среди билетных партнёров по общему числу уникальных мероприятий выделяются \"Лови билет!\", \"Билеты без проблем\" и \"Билеты в руки\".\n",
    "\n",
    "Гипотеза что среднее количество заказов на одного пользователя мобильного приложения выше по сравнению с пользователями стационарных устройств подвердилась.\n",
    "Гипотеза о том, что среднее время между заказами пользователей мобильных приложений выше по сравнению с пользователями стационарных устройств, оказалась неверной.\n",
    "\n",
    "Делаем вывод, что сервис бронирования успешно работает, выручка растет, снижение среднего чека кажется закономерным в силу увеличения трафика пользователей. В рублях наблюдался стабильный рост до конца октября. После чего заметен резкий спад. Возможно это вызвано снижением количества концертов. Удивляет, что очень сильное распределение заказов по регионам, всего несколько регионов являются основыми источниками заказов. Возможно нужно подробнее рассмотреть те регионы, где нет или мало заказов.\n",
    "\n",
    "При анализе видно, что осенью повысилась динамика и активность пользователей. Причина в том, что с наступлением осени и окончанием летних каникул становиться больше свободного времени и возможности посещать различные мероприятия. Значит в осенний период следует уделять больше внимание информированию пользователей, сделать больше рекламы. Также следует развивать концерты и театры(увеличить предложение, акции), т.к. они приносят наибольшую выручку. Возможно следует улучшить мобильное приложение, потому что для большинства пользователей мобильное устройство является основным для совершения заказа билетов и по подтвержденной гипотезе среднее количество заказов на одного пользователя с мобильного приложения выше чем со стационарных устройств."
   ]
  }
 ],
 "metadata": {
  "ExecuteTimeLog": [
   {
    "duration": 96,
    "start_time": "2025-09-13T07:22:25.235Z"
   },
   {
    "duration": 1392,
    "start_time": "2025-09-13T07:38:27.084Z"
   },
   {
    "duration": 1526,
    "start_time": "2025-09-13T07:38:41.861Z"
   },
   {
    "duration": 28,
    "start_time": "2025-09-13T07:38:59.228Z"
   },
   {
    "duration": 105,
    "start_time": "2025-09-13T07:40:05.213Z"
   },
   {
    "duration": 167,
    "start_time": "2025-09-13T07:40:47.380Z"
   },
   {
    "duration": 290,
    "start_time": "2025-09-13T07:41:03.885Z"
   },
   {
    "duration": 17,
    "start_time": "2025-09-13T07:41:18.299Z"
   },
   {
    "duration": 21,
    "start_time": "2025-09-13T07:41:40.220Z"
   },
   {
    "duration": 1914,
    "start_time": "2025-09-13T07:49:18.752Z"
   },
   {
    "duration": 21,
    "start_time": "2025-09-13T07:49:23.955Z"
   },
   {
    "duration": 14,
    "start_time": "2025-09-13T07:49:37.604Z"
   },
   {
    "duration": 13,
    "start_time": "2025-09-13T07:50:01.274Z"
   },
   {
    "duration": 9,
    "start_time": "2025-09-13T07:51:11.839Z"
   },
   {
    "duration": 12,
    "start_time": "2025-09-13T07:51:22.092Z"
   },
   {
    "duration": 1364,
    "start_time": "2025-09-13T12:31:16.774Z"
   },
   {
    "duration": 1577,
    "start_time": "2025-09-13T12:31:18.140Z"
   },
   {
    "duration": 19,
    "start_time": "2025-09-13T12:31:19.719Z"
   },
   {
    "duration": 99,
    "start_time": "2025-09-13T12:31:19.740Z"
   },
   {
    "duration": 11,
    "start_time": "2025-09-13T12:31:19.841Z"
   },
   {
    "duration": 21,
    "start_time": "2025-09-13T12:31:19.854Z"
   },
   {
    "duration": 14,
    "start_time": "2025-09-13T12:31:19.877Z"
   },
   {
    "duration": 14,
    "start_time": "2025-09-13T12:31:19.892Z"
   },
   {
    "duration": 147,
    "start_time": "2025-09-13T12:37:41.807Z"
   },
   {
    "duration": 23,
    "start_time": "2025-09-13T12:37:47.640Z"
   },
   {
    "duration": 75,
    "start_time": "2025-09-13T12:38:08.563Z"
   },
   {
    "duration": 26,
    "start_time": "2025-09-13T12:38:19.849Z"
   },
   {
    "duration": 24,
    "start_time": "2025-09-13T12:38:23.132Z"
   },
   {
    "duration": 72,
    "start_time": "2025-09-13T12:38:33.684Z"
   },
   {
    "duration": 71,
    "start_time": "2025-09-13T12:39:33.144Z"
   },
   {
    "duration": 68,
    "start_time": "2025-09-13T12:40:04.167Z"
   },
   {
    "duration": 223,
    "start_time": "2025-09-13T12:41:55.157Z"
   },
   {
    "duration": 144,
    "start_time": "2025-09-13T12:44:43.002Z"
   },
   {
    "duration": 124,
    "start_time": "2025-09-13T12:44:51.170Z"
   },
   {
    "duration": 124,
    "start_time": "2025-09-13T12:44:54.938Z"
   },
   {
    "duration": 132,
    "start_time": "2025-09-13T12:44:59.355Z"
   },
   {
    "duration": 139,
    "start_time": "2025-09-13T12:45:11.795Z"
   },
   {
    "duration": 200,
    "start_time": "2025-09-13T12:45:28.492Z"
   },
   {
    "duration": 121,
    "start_time": "2025-09-13T12:45:40.816Z"
   },
   {
    "duration": 125,
    "start_time": "2025-09-13T12:45:48.389Z"
   },
   {
    "duration": 126,
    "start_time": "2025-09-13T12:46:02.778Z"
   },
   {
    "duration": 129,
    "start_time": "2025-09-13T12:46:17.416Z"
   },
   {
    "duration": 140,
    "start_time": "2025-09-13T12:47:38.127Z"
   },
   {
    "duration": 154,
    "start_time": "2025-09-13T12:48:01.010Z"
   },
   {
    "duration": 133,
    "start_time": "2025-09-13T12:48:11.607Z"
   },
   {
    "duration": 5,
    "start_time": "2025-09-13T12:48:43.636Z"
   },
   {
    "duration": 45,
    "start_time": "2025-09-13T12:48:56.024Z"
   },
   {
    "duration": 171,
    "start_time": "2025-09-13T12:49:21.465Z"
   },
   {
    "duration": 164,
    "start_time": "2025-09-13T12:49:28.372Z"
   },
   {
    "duration": 75,
    "start_time": "2025-09-13T12:52:07.837Z"
   },
   {
    "duration": 47669,
    "start_time": "2025-09-13T12:52:15.237Z"
   },
   {
    "duration": 190,
    "start_time": "2025-09-13T12:53:36.885Z"
   },
   {
    "duration": 196,
    "start_time": "2025-09-13T12:53:52.004Z"
   },
   {
    "duration": 180,
    "start_time": "2025-09-13T12:54:22.488Z"
   },
   {
    "duration": 178,
    "start_time": "2025-09-13T12:54:32.942Z"
   },
   {
    "duration": 142,
    "start_time": "2025-09-13T12:54:49.918Z"
   },
   {
    "duration": 23,
    "start_time": "2025-09-13T12:57:19.334Z"
   },
   {
    "duration": 26,
    "start_time": "2025-09-13T12:57:21.961Z"
   },
   {
    "duration": 70,
    "start_time": "2025-09-13T12:57:32.864Z"
   },
   {
    "duration": 1375,
    "start_time": "2025-09-16T07:30:31.607Z"
   },
   {
    "duration": 1833,
    "start_time": "2025-09-16T07:30:32.984Z"
   },
   {
    "duration": 19,
    "start_time": "2025-09-16T07:30:34.819Z"
   },
   {
    "duration": 132,
    "start_time": "2025-09-16T07:30:34.840Z"
   },
   {
    "duration": 12,
    "start_time": "2025-09-16T07:30:34.973Z"
   },
   {
    "duration": 27,
    "start_time": "2025-09-16T07:30:34.986Z"
   },
   {
    "duration": 14,
    "start_time": "2025-09-16T07:30:35.014Z"
   },
   {
    "duration": 31,
    "start_time": "2025-09-16T07:30:35.030Z"
   },
   {
    "duration": 157,
    "start_time": "2025-09-16T07:30:35.063Z"
   },
   {
    "duration": 81,
    "start_time": "2025-09-16T07:30:35.223Z"
   },
   {
    "duration": 251,
    "start_time": "2025-09-16T07:30:35.306Z"
   },
   {
    "duration": 222,
    "start_time": "2025-09-16T07:30:35.559Z"
   },
   {
    "duration": 160,
    "start_time": "2025-09-16T07:30:35.783Z"
   },
   {
    "duration": 42,
    "start_time": "2025-09-16T07:30:35.944Z"
   },
   {
    "duration": 40,
    "start_time": "2025-09-16T07:30:35.988Z"
   },
   {
    "duration": 82,
    "start_time": "2025-09-16T07:30:36.030Z"
   },
   {
    "duration": 103,
    "start_time": "2025-09-16T07:44:52.691Z"
   },
   {
    "duration": 1178,
    "start_time": "2025-09-16T07:45:01.000Z"
   },
   {
    "duration": 1829,
    "start_time": "2025-09-16T07:45:02.180Z"
   },
   {
    "duration": 18,
    "start_time": "2025-09-16T07:45:04.011Z"
   },
   {
    "duration": 143,
    "start_time": "2025-09-16T07:45:04.031Z"
   },
   {
    "duration": 13,
    "start_time": "2025-09-16T07:45:04.177Z"
   },
   {
    "duration": 36,
    "start_time": "2025-09-16T07:45:04.192Z"
   },
   {
    "duration": 21,
    "start_time": "2025-09-16T07:45:04.230Z"
   },
   {
    "duration": 24,
    "start_time": "2025-09-16T07:45:04.253Z"
   },
   {
    "duration": 190,
    "start_time": "2025-09-16T07:45:04.278Z"
   },
   {
    "duration": 76,
    "start_time": "2025-09-16T07:45:04.469Z"
   },
   {
    "duration": 287,
    "start_time": "2025-09-16T07:45:04.546Z"
   },
   {
    "duration": 224,
    "start_time": "2025-09-16T07:45:04.835Z"
   },
   {
    "duration": 160,
    "start_time": "2025-09-16T07:45:05.060Z"
   },
   {
    "duration": 40,
    "start_time": "2025-09-16T07:45:05.222Z"
   },
   {
    "duration": 42,
    "start_time": "2025-09-16T07:45:05.264Z"
   },
   {
    "duration": 73,
    "start_time": "2025-09-16T07:45:05.308Z"
   },
   {
    "duration": 3,
    "start_time": "2025-09-16T07:45:05.383Z"
   },
   {
    "duration": 1256,
    "start_time": "2025-09-16T08:18:24.040Z"
   },
   {
    "duration": 1828,
    "start_time": "2025-09-16T08:18:25.299Z"
   },
   {
    "duration": 19,
    "start_time": "2025-09-16T08:18:27.129Z"
   },
   {
    "duration": 103,
    "start_time": "2025-09-16T08:18:27.150Z"
   },
   {
    "duration": 13,
    "start_time": "2025-09-16T08:18:27.255Z"
   },
   {
    "duration": 46,
    "start_time": "2025-09-16T08:18:27.270Z"
   },
   {
    "duration": 14,
    "start_time": "2025-09-16T08:18:27.318Z"
   },
   {
    "duration": 26,
    "start_time": "2025-09-16T08:18:27.334Z"
   },
   {
    "duration": 173,
    "start_time": "2025-09-16T08:18:27.362Z"
   },
   {
    "duration": 98,
    "start_time": "2025-09-16T08:18:27.538Z"
   },
   {
    "duration": 266,
    "start_time": "2025-09-16T08:18:27.638Z"
   },
   {
    "duration": 230,
    "start_time": "2025-09-16T08:18:27.906Z"
   },
   {
    "duration": 190,
    "start_time": "2025-09-16T08:18:28.138Z"
   },
   {
    "duration": 43,
    "start_time": "2025-09-16T08:18:28.330Z"
   },
   {
    "duration": 45,
    "start_time": "2025-09-16T08:18:28.374Z"
   },
   {
    "duration": 83,
    "start_time": "2025-09-16T08:18:28.421Z"
   },
   {
    "duration": 136,
    "start_time": "2025-09-16T08:18:28.506Z"
   },
   {
    "duration": 92,
    "start_time": "2025-09-16T08:18:28.644Z"
   },
   {
    "duration": 55,
    "start_time": "2025-09-16T08:18:28.738Z"
   },
   {
    "duration": 109,
    "start_time": "2025-09-16T08:18:28.795Z"
   },
   {
    "duration": 0,
    "start_time": "2025-09-16T08:18:28.905Z"
   },
   {
    "duration": 32,
    "start_time": "2025-09-16T08:19:01.391Z"
   },
   {
    "duration": 19,
    "start_time": "2025-09-16T08:19:25.476Z"
   },
   {
    "duration": 18,
    "start_time": "2025-09-16T12:08:41.330Z"
   },
   {
    "duration": 22,
    "start_time": "2025-09-16T12:08:52.667Z"
   },
   {
    "duration": 25,
    "start_time": "2025-09-16T12:09:01.064Z"
   },
   {
    "duration": 56,
    "start_time": "2025-09-16T12:13:08.033Z"
   },
   {
    "duration": 217,
    "start_time": "2025-09-16T12:13:11.994Z"
   },
   {
    "duration": 212,
    "start_time": "2025-09-16T12:14:08.806Z"
   },
   {
    "duration": 628,
    "start_time": "2025-09-16T12:14:25.557Z"
   },
   {
    "duration": 1852,
    "start_time": "2025-09-16T12:15:17.074Z"
   },
   {
    "duration": 6,
    "start_time": "2025-09-16T12:16:58.209Z"
   },
   {
    "duration": 1856,
    "start_time": "2025-09-16T12:17:02.275Z"
   },
   {
    "duration": 235,
    "start_time": "2025-09-16T12:17:35.248Z"
   },
   {
    "duration": 89,
    "start_time": "2025-09-16T12:17:48.712Z"
   },
   {
    "duration": 89,
    "start_time": "2025-09-16T12:17:59.200Z"
   },
   {
    "duration": 109,
    "start_time": "2025-09-16T12:18:15.224Z"
   },
   {
    "duration": 1143,
    "start_time": "2025-09-16T12:18:33.232Z"
   },
   {
    "duration": 2014,
    "start_time": "2025-09-16T12:18:34.377Z"
   },
   {
    "duration": 28,
    "start_time": "2025-09-16T12:18:36.392Z"
   },
   {
    "duration": 119,
    "start_time": "2025-09-16T12:18:36.423Z"
   },
   {
    "duration": 12,
    "start_time": "2025-09-16T12:18:36.544Z"
   },
   {
    "duration": 22,
    "start_time": "2025-09-16T12:18:36.558Z"
   },
   {
    "duration": 24,
    "start_time": "2025-09-16T12:18:36.582Z"
   },
   {
    "duration": 17,
    "start_time": "2025-09-16T12:18:36.608Z"
   },
   {
    "duration": 187,
    "start_time": "2025-09-16T12:18:36.627Z"
   },
   {
    "duration": 74,
    "start_time": "2025-09-16T12:18:36.817Z"
   },
   {
    "duration": 257,
    "start_time": "2025-09-16T12:18:36.904Z"
   },
   {
    "duration": 228,
    "start_time": "2025-09-16T12:18:37.163Z"
   },
   {
    "duration": 178,
    "start_time": "2025-09-16T12:18:37.393Z"
   },
   {
    "duration": 51,
    "start_time": "2025-09-16T12:18:37.573Z"
   },
   {
    "duration": 26,
    "start_time": "2025-09-16T12:18:37.626Z"
   },
   {
    "duration": 91,
    "start_time": "2025-09-16T12:18:37.654Z"
   },
   {
    "duration": 130,
    "start_time": "2025-09-16T12:18:37.747Z"
   },
   {
    "duration": 92,
    "start_time": "2025-09-16T12:18:37.879Z"
   },
   {
    "duration": 18,
    "start_time": "2025-09-16T12:18:37.972Z"
   },
   {
    "duration": 42,
    "start_time": "2025-09-16T12:18:37.991Z"
   },
   {
    "duration": 104,
    "start_time": "2025-09-16T12:18:38.035Z"
   },
   {
    "duration": 2,
    "start_time": "2025-09-16T12:18:38.140Z"
   },
   {
    "duration": 316,
    "start_time": "2025-09-16T12:19:32.766Z"
   },
   {
    "duration": 2082,
    "start_time": "2025-09-16T12:20:22.958Z"
   },
   {
    "duration": 199,
    "start_time": "2025-09-16T12:20:42.659Z"
   },
   {
    "duration": 1146,
    "start_time": "2025-09-16T12:36:23.561Z"
   },
   {
    "duration": 1994,
    "start_time": "2025-09-16T12:36:24.708Z"
   },
   {
    "duration": 27,
    "start_time": "2025-09-16T12:36:26.704Z"
   },
   {
    "duration": 116,
    "start_time": "2025-09-16T12:36:26.733Z"
   },
   {
    "duration": 12,
    "start_time": "2025-09-16T12:36:26.851Z"
   },
   {
    "duration": 42,
    "start_time": "2025-09-16T12:36:26.865Z"
   },
   {
    "duration": 8,
    "start_time": "2025-09-16T12:36:26.909Z"
   },
   {
    "duration": 15,
    "start_time": "2025-09-16T12:36:26.919Z"
   },
   {
    "duration": 172,
    "start_time": "2025-09-16T12:36:26.936Z"
   },
   {
    "duration": 75,
    "start_time": "2025-09-16T12:36:27.111Z"
   },
   {
    "duration": 255,
    "start_time": "2025-09-16T12:36:27.188Z"
   },
   {
    "duration": 238,
    "start_time": "2025-09-16T12:36:27.445Z"
   },
   {
    "duration": 157,
    "start_time": "2025-09-16T12:36:27.684Z"
   },
   {
    "duration": 40,
    "start_time": "2025-09-16T12:36:27.843Z"
   },
   {
    "duration": 38,
    "start_time": "2025-09-16T12:36:27.885Z"
   },
   {
    "duration": 84,
    "start_time": "2025-09-16T12:36:27.925Z"
   },
   {
    "duration": 135,
    "start_time": "2025-09-16T12:36:28.011Z"
   },
   {
    "duration": 109,
    "start_time": "2025-09-16T12:36:28.148Z"
   },
   {
    "duration": 26,
    "start_time": "2025-09-16T12:36:28.259Z"
   },
   {
    "duration": 49,
    "start_time": "2025-09-16T12:36:51.969Z"
   },
   {
    "duration": 8,
    "start_time": "2025-09-16T12:37:16.835Z"
   },
   {
    "duration": 6,
    "start_time": "2025-09-16T12:38:05.085Z"
   },
   {
    "duration": 7,
    "start_time": "2025-09-16T12:39:05.076Z"
   },
   {
    "duration": 1202,
    "start_time": "2025-09-16T12:39:33.914Z"
   },
   {
    "duration": 1771,
    "start_time": "2025-09-16T12:39:35.118Z"
   },
   {
    "duration": 28,
    "start_time": "2025-09-16T12:39:36.891Z"
   },
   {
    "duration": 121,
    "start_time": "2025-09-16T12:39:36.922Z"
   },
   {
    "duration": 13,
    "start_time": "2025-09-16T12:39:37.045Z"
   },
   {
    "duration": 21,
    "start_time": "2025-09-16T12:39:37.060Z"
   },
   {
    "duration": 27,
    "start_time": "2025-09-16T12:39:37.083Z"
   },
   {
    "duration": 46,
    "start_time": "2025-09-16T12:39:37.112Z"
   },
   {
    "duration": 175,
    "start_time": "2025-09-16T12:39:37.159Z"
   },
   {
    "duration": 78,
    "start_time": "2025-09-16T12:39:37.336Z"
   },
   {
    "duration": 283,
    "start_time": "2025-09-16T12:39:37.416Z"
   },
   {
    "duration": 222,
    "start_time": "2025-09-16T12:39:37.704Z"
   },
   {
    "duration": 154,
    "start_time": "2025-09-16T12:39:37.927Z"
   },
   {
    "duration": 50,
    "start_time": "2025-09-16T12:39:38.082Z"
   },
   {
    "duration": 28,
    "start_time": "2025-09-16T12:39:38.134Z"
   },
   {
    "duration": 119,
    "start_time": "2025-09-16T12:39:38.163Z"
   },
   {
    "duration": 136,
    "start_time": "2025-09-16T12:39:38.284Z"
   },
   {
    "duration": 98,
    "start_time": "2025-09-16T12:39:38.421Z"
   },
   {
    "duration": 18,
    "start_time": "2025-09-16T12:39:38.520Z"
   },
   {
    "duration": 4411,
    "start_time": "2025-09-16T12:39:38.540Z"
   },
   {
    "duration": 2,
    "start_time": "2025-09-16T12:39:42.953Z"
   },
   {
    "duration": 81,
    "start_time": "2025-09-16T12:44:20.572Z"
   },
   {
    "duration": 54,
    "start_time": "2025-09-16T12:44:52.624Z"
   },
   {
    "duration": 41,
    "start_time": "2025-09-16T12:45:25.983Z"
   },
   {
    "duration": 52,
    "start_time": "2025-09-16T12:45:37.284Z"
   },
   {
    "duration": 57,
    "start_time": "2025-09-16T12:47:11.734Z"
   },
   {
    "duration": 5224,
    "start_time": "2025-09-16T12:47:24.481Z"
   },
   {
    "duration": 5104,
    "start_time": "2025-09-16T12:48:32.287Z"
   },
   {
    "duration": 1181,
    "start_time": "2025-09-16T12:48:42.223Z"
   },
   {
    "duration": 2023,
    "start_time": "2025-09-16T12:48:43.406Z"
   },
   {
    "duration": 28,
    "start_time": "2025-09-16T12:48:45.431Z"
   },
   {
    "duration": 131,
    "start_time": "2025-09-16T12:48:45.461Z"
   },
   {
    "duration": 12,
    "start_time": "2025-09-16T12:48:45.594Z"
   },
   {
    "duration": 28,
    "start_time": "2025-09-16T12:48:45.608Z"
   },
   {
    "duration": 12,
    "start_time": "2025-09-16T12:48:45.638Z"
   },
   {
    "duration": 10,
    "start_time": "2025-09-16T12:48:45.652Z"
   },
   {
    "duration": 176,
    "start_time": "2025-09-16T12:48:45.664Z"
   },
   {
    "duration": 80,
    "start_time": "2025-09-16T12:48:45.842Z"
   },
   {
    "duration": 258,
    "start_time": "2025-09-16T12:48:45.924Z"
   },
   {
    "duration": 220,
    "start_time": "2025-09-16T12:48:46.184Z"
   },
   {
    "duration": 146,
    "start_time": "2025-09-16T12:48:46.406Z"
   },
   {
    "duration": 53,
    "start_time": "2025-09-16T12:48:46.554Z"
   },
   {
    "duration": 26,
    "start_time": "2025-09-16T12:48:46.609Z"
   },
   {
    "duration": 85,
    "start_time": "2025-09-16T12:48:46.637Z"
   },
   {
    "duration": 126,
    "start_time": "2025-09-16T12:48:46.724Z"
   },
   {
    "duration": 96,
    "start_time": "2025-09-16T12:48:46.851Z"
   },
   {
    "duration": 19,
    "start_time": "2025-09-16T12:48:46.948Z"
   },
   {
    "duration": 5187,
    "start_time": "2025-09-16T12:48:46.968Z"
   },
   {
    "duration": 2,
    "start_time": "2025-09-16T12:48:52.157Z"
   },
   {
    "duration": 33,
    "start_time": "2025-09-16T12:49:26.481Z"
   },
   {
    "duration": 35,
    "start_time": "2025-09-16T12:49:51.237Z"
   },
   {
    "duration": 35,
    "start_time": "2025-09-16T12:49:58.121Z"
   },
   {
    "duration": 34,
    "start_time": "2025-09-16T12:50:08.115Z"
   },
   {
    "duration": 34,
    "start_time": "2025-09-16T12:50:23.958Z"
   },
   {
    "duration": 31,
    "start_time": "2025-09-16T12:50:38.684Z"
   },
   {
    "duration": 34,
    "start_time": "2025-09-16T12:50:45.467Z"
   },
   {
    "duration": 33,
    "start_time": "2025-09-16T12:50:52.915Z"
   },
   {
    "duration": 32,
    "start_time": "2025-09-16T12:51:00.398Z"
   },
   {
    "duration": 35,
    "start_time": "2025-09-16T12:51:07.718Z"
   },
   {
    "duration": 31,
    "start_time": "2025-09-16T12:51:15.809Z"
   },
   {
    "duration": 910,
    "start_time": "2025-09-16T12:53:10.529Z"
   },
   {
    "duration": 53,
    "start_time": "2025-09-16T12:53:50.251Z"
   },
   {
    "duration": 49,
    "start_time": "2025-09-16T12:55:34.266Z"
   },
   {
    "duration": 25,
    "start_time": "2025-09-16T12:55:58.700Z"
   },
   {
    "duration": 1572,
    "start_time": "2025-09-17T05:56:00.832Z"
   },
   {
    "duration": 2066,
    "start_time": "2025-09-17T05:56:02.406Z"
   },
   {
    "duration": 28,
    "start_time": "2025-09-17T05:56:04.473Z"
   },
   {
    "duration": 118,
    "start_time": "2025-09-17T05:56:04.504Z"
   },
   {
    "duration": 12,
    "start_time": "2025-09-17T05:56:04.623Z"
   },
   {
    "duration": 37,
    "start_time": "2025-09-17T05:56:04.637Z"
   },
   {
    "duration": 16,
    "start_time": "2025-09-17T05:56:04.675Z"
   },
   {
    "duration": 40,
    "start_time": "2025-09-17T05:56:04.693Z"
   },
   {
    "duration": 156,
    "start_time": "2025-09-17T05:56:04.734Z"
   },
   {
    "duration": 79,
    "start_time": "2025-09-17T05:56:04.893Z"
   },
   {
    "duration": 276,
    "start_time": "2025-09-17T05:56:04.974Z"
   },
   {
    "duration": 232,
    "start_time": "2025-09-17T05:56:05.252Z"
   },
   {
    "duration": 166,
    "start_time": "2025-09-17T05:56:05.485Z"
   },
   {
    "duration": 51,
    "start_time": "2025-09-17T05:56:05.653Z"
   },
   {
    "duration": 29,
    "start_time": "2025-09-17T05:56:05.706Z"
   },
   {
    "duration": 92,
    "start_time": "2025-09-17T05:56:05.737Z"
   },
   {
    "duration": 172,
    "start_time": "2025-09-17T05:56:05.831Z"
   },
   {
    "duration": 98,
    "start_time": "2025-09-17T05:56:06.005Z"
   },
   {
    "duration": 20,
    "start_time": "2025-09-17T05:56:06.105Z"
   },
   {
    "duration": 5476,
    "start_time": "2025-09-17T05:56:06.127Z"
   },
   {
    "duration": 2,
    "start_time": "2025-09-17T05:56:11.605Z"
   },
   {
    "duration": 17,
    "start_time": "2025-09-17T05:56:51.253Z"
   },
   {
    "duration": 52,
    "start_time": "2025-09-17T05:57:51.783Z"
   },
   {
    "duration": 139,
    "start_time": "2025-09-17T06:45:47.984Z"
   },
   {
    "duration": 7,
    "start_time": "2025-09-17T06:45:53.937Z"
   },
   {
    "duration": 20,
    "start_time": "2025-09-17T06:46:29.336Z"
   },
   {
    "duration": 8,
    "start_time": "2025-09-17T06:46:37.969Z"
   },
   {
    "duration": 26,
    "start_time": "2025-09-17T06:48:02.532Z"
   },
   {
    "duration": 35,
    "start_time": "2025-09-17T06:50:20.632Z"
   },
   {
    "duration": 145,
    "start_time": "2025-09-17T06:50:49.428Z"
   },
   {
    "duration": 25,
    "start_time": "2025-09-17T06:53:26.599Z"
   },
   {
    "duration": 108,
    "start_time": "2025-09-17T06:54:21.964Z"
   },
   {
    "duration": 94,
    "start_time": "2025-09-17T06:54:28.864Z"
   },
   {
    "duration": 20,
    "start_time": "2025-09-17T06:55:43.272Z"
   },
   {
    "duration": 13,
    "start_time": "2025-09-17T06:58:15.865Z"
   },
   {
    "duration": 13,
    "start_time": "2025-09-17T06:58:22.810Z"
   },
   {
    "duration": 36,
    "start_time": "2025-09-17T07:02:06.337Z"
   },
   {
    "duration": 37,
    "start_time": "2025-09-17T07:02:28.830Z"
   },
   {
    "duration": 37,
    "start_time": "2025-09-17T07:02:35.486Z"
   },
   {
    "duration": 30,
    "start_time": "2025-09-17T07:02:47.174Z"
   },
   {
    "duration": 35,
    "start_time": "2025-09-17T07:02:53.300Z"
   },
   {
    "duration": 37,
    "start_time": "2025-09-17T07:03:00.860Z"
   },
   {
    "duration": 31,
    "start_time": "2025-09-17T07:03:05.381Z"
   },
   {
    "duration": 29,
    "start_time": "2025-09-17T07:03:11.439Z"
   },
   {
    "duration": 31,
    "start_time": "2025-09-17T07:03:15.822Z"
   },
   {
    "duration": 29,
    "start_time": "2025-09-17T07:03:21.324Z"
   },
   {
    "duration": 29,
    "start_time": "2025-09-17T07:03:28.526Z"
   },
   {
    "duration": 39,
    "start_time": "2025-09-17T07:03:32.228Z"
   },
   {
    "duration": 32,
    "start_time": "2025-09-17T07:03:37.610Z"
   },
   {
    "duration": 86,
    "start_time": "2025-09-17T07:05:32.856Z"
   },
   {
    "duration": 85,
    "start_time": "2025-09-17T07:05:42.663Z"
   },
   {
    "duration": 46,
    "start_time": "2025-09-17T07:06:19.177Z"
   },
   {
    "duration": 33,
    "start_time": "2025-09-17T07:07:14.488Z"
   },
   {
    "duration": 82,
    "start_time": "2025-09-17T07:09:13.935Z"
   },
   {
    "duration": 27,
    "start_time": "2025-09-17T07:09:49.084Z"
   },
   {
    "duration": 68,
    "start_time": "2025-09-17T07:15:41.775Z"
   },
   {
    "duration": 109,
    "start_time": "2025-09-17T07:16:12.000Z"
   },
   {
    "duration": 53,
    "start_time": "2025-09-17T07:16:51.897Z"
   },
   {
    "duration": 41,
    "start_time": "2025-09-17T07:20:01.953Z"
   },
   {
    "duration": 1370,
    "start_time": "2025-09-17T11:15:19.902Z"
   },
   {
    "duration": 1918,
    "start_time": "2025-09-17T11:15:21.273Z"
   },
   {
    "duration": 17,
    "start_time": "2025-09-17T11:15:23.195Z"
   },
   {
    "duration": 105,
    "start_time": "2025-09-17T11:15:23.213Z"
   },
   {
    "duration": 11,
    "start_time": "2025-09-17T11:15:23.319Z"
   },
   {
    "duration": 59,
    "start_time": "2025-09-17T11:15:23.339Z"
   },
   {
    "duration": 31,
    "start_time": "2025-09-17T11:15:23.400Z"
   },
   {
    "duration": 31,
    "start_time": "2025-09-17T11:15:23.432Z"
   },
   {
    "duration": 174,
    "start_time": "2025-09-17T11:15:23.466Z"
   },
   {
    "duration": 65,
    "start_time": "2025-09-17T11:15:23.642Z"
   },
   {
    "duration": 245,
    "start_time": "2025-09-17T11:15:23.709Z"
   },
   {
    "duration": 15,
    "start_time": "2025-09-17T11:15:23.956Z"
   },
   {
    "duration": 218,
    "start_time": "2025-09-17T11:15:23.972Z"
   },
   {
    "duration": 147,
    "start_time": "2025-09-17T11:15:24.192Z"
   },
   {
    "duration": 40,
    "start_time": "2025-09-17T11:15:24.340Z"
   },
   {
    "duration": 27,
    "start_time": "2025-09-17T11:15:24.382Z"
   },
   {
    "duration": 56,
    "start_time": "2025-09-17T11:15:24.410Z"
   },
   {
    "duration": 29,
    "start_time": "2025-09-17T11:15:24.468Z"
   },
   {
    "duration": 83,
    "start_time": "2025-09-17T11:15:24.499Z"
   },
   {
    "duration": 116,
    "start_time": "2025-09-17T11:15:24.584Z"
   },
   {
    "duration": 2,
    "start_time": "2025-09-17T11:15:24.702Z"
   },
   {
    "duration": 42,
    "start_time": "2025-09-17T11:15:24.706Z"
   },
   {
    "duration": 4954,
    "start_time": "2025-09-17T11:15:24.750Z"
   },
   {
    "duration": 2,
    "start_time": "2025-09-17T11:15:29.706Z"
   },
   {
    "duration": 4,
    "start_time": "2025-09-17T11:18:13.270Z"
   },
   {
    "duration": 145,
    "start_time": "2025-09-17T11:26:42.559Z"
   },
   {
    "duration": 160,
    "start_time": "2025-09-17T11:29:29.743Z"
   },
   {
    "duration": 36,
    "start_time": "2025-09-17T11:29:49.879Z"
   },
   {
    "duration": 214,
    "start_time": "2025-09-17T11:38:05.620Z"
   },
   {
    "duration": 239,
    "start_time": "2025-09-17T11:39:40.833Z"
   },
   {
    "duration": 230,
    "start_time": "2025-09-17T11:40:30.829Z"
   },
   {
    "duration": 117,
    "start_time": "2025-09-17T11:40:57.466Z"
   },
   {
    "duration": 84,
    "start_time": "2025-09-17T11:41:25.504Z"
   },
   {
    "duration": 68,
    "start_time": "2025-09-17T11:41:46.232Z"
   },
   {
    "duration": 52,
    "start_time": "2025-09-17T11:42:04.307Z"
   },
   {
    "duration": 1180,
    "start_time": "2025-09-17T11:42:18.007Z"
   },
   {
    "duration": 1724,
    "start_time": "2025-09-17T11:42:19.189Z"
   },
   {
    "duration": 18,
    "start_time": "2025-09-17T11:42:20.915Z"
   },
   {
    "duration": 121,
    "start_time": "2025-09-17T11:42:20.936Z"
   },
   {
    "duration": 11,
    "start_time": "2025-09-17T11:42:21.059Z"
   },
   {
    "duration": 32,
    "start_time": "2025-09-17T11:42:21.072Z"
   },
   {
    "duration": 20,
    "start_time": "2025-09-17T11:42:21.105Z"
   },
   {
    "duration": 39,
    "start_time": "2025-09-17T11:42:21.127Z"
   },
   {
    "duration": 173,
    "start_time": "2025-09-17T11:42:21.167Z"
   },
   {
    "duration": 66,
    "start_time": "2025-09-17T11:42:21.342Z"
   },
   {
    "duration": 245,
    "start_time": "2025-09-17T11:42:21.409Z"
   },
   {
    "duration": 14,
    "start_time": "2025-09-17T11:42:21.656Z"
   },
   {
    "duration": 212,
    "start_time": "2025-09-17T11:42:21.672Z"
   },
   {
    "duration": 140,
    "start_time": "2025-09-17T11:42:21.886Z"
   },
   {
    "duration": 43,
    "start_time": "2025-09-17T11:42:22.027Z"
   },
   {
    "duration": 8,
    "start_time": "2025-09-17T11:42:22.071Z"
   },
   {
    "duration": 61,
    "start_time": "2025-09-17T11:42:22.081Z"
   },
   {
    "duration": 3,
    "start_time": "2025-09-17T11:42:22.143Z"
   },
   {
    "duration": 87,
    "start_time": "2025-09-17T11:42:22.147Z"
   },
   {
    "duration": 114,
    "start_time": "2025-09-17T11:42:22.236Z"
   },
   {
    "duration": 5035,
    "start_time": "2025-09-17T11:42:22.352Z"
   },
   {
    "duration": 5,
    "start_time": "2025-09-17T11:42:27.388Z"
   },
   {
    "duration": 47,
    "start_time": "2025-09-17T11:42:27.394Z"
   },
   {
    "duration": 50,
    "start_time": "2025-09-17T11:42:27.443Z"
   },
   {
    "duration": 1208,
    "start_time": "2025-09-17T11:51:56.430Z"
   },
   {
    "duration": 1790,
    "start_time": "2025-09-17T11:51:57.640Z"
   },
   {
    "duration": 17,
    "start_time": "2025-09-17T11:51:59.432Z"
   },
   {
    "duration": 104,
    "start_time": "2025-09-17T11:51:59.451Z"
   },
   {
    "duration": 12,
    "start_time": "2025-09-17T11:51:59.556Z"
   },
   {
    "duration": 18,
    "start_time": "2025-09-17T11:51:59.569Z"
   },
   {
    "duration": 7,
    "start_time": "2025-09-17T11:51:59.589Z"
   },
   {
    "duration": 16,
    "start_time": "2025-09-17T11:51:59.598Z"
   },
   {
    "duration": 183,
    "start_time": "2025-09-17T11:51:59.616Z"
   },
   {
    "duration": 69,
    "start_time": "2025-09-17T11:51:59.802Z"
   },
   {
    "duration": 254,
    "start_time": "2025-09-17T11:51:59.873Z"
   },
   {
    "duration": 23,
    "start_time": "2025-09-17T11:52:00.128Z"
   },
   {
    "duration": 213,
    "start_time": "2025-09-17T11:52:00.152Z"
   },
   {
    "duration": 148,
    "start_time": "2025-09-17T11:52:00.366Z"
   },
   {
    "duration": 43,
    "start_time": "2025-09-17T11:52:00.515Z"
   },
   {
    "duration": 2,
    "start_time": "2025-09-17T11:52:00.560Z"
   },
   {
    "duration": 44,
    "start_time": "2025-09-17T11:52:00.564Z"
   },
   {
    "duration": 2,
    "start_time": "2025-09-17T11:52:00.610Z"
   },
   {
    "duration": 89,
    "start_time": "2025-09-17T11:52:00.614Z"
   },
   {
    "duration": 120,
    "start_time": "2025-09-17T11:52:00.705Z"
   },
   {
    "duration": 5024,
    "start_time": "2025-09-17T11:52:00.827Z"
   },
   {
    "duration": 5,
    "start_time": "2025-09-17T11:52:05.852Z"
   },
   {
    "duration": 37,
    "start_time": "2025-09-17T11:52:05.859Z"
   },
   {
    "duration": 235,
    "start_time": "2025-09-17T11:52:05.897Z"
   },
   {
    "duration": 93,
    "start_time": "2025-09-17T11:55:48.804Z"
   },
   {
    "duration": 95,
    "start_time": "2025-09-17T11:55:58.807Z"
   },
   {
    "duration": 88,
    "start_time": "2025-09-17T11:56:18.831Z"
   },
   {
    "duration": 23,
    "start_time": "2025-09-17T11:56:30.938Z"
   },
   {
    "duration": 82,
    "start_time": "2025-09-17T11:56:45.355Z"
   },
   {
    "duration": 109,
    "start_time": "2025-09-17T11:57:01.457Z"
   },
   {
    "duration": 50,
    "start_time": "2025-09-17T11:57:04.538Z"
   },
   {
    "duration": 27,
    "start_time": "2025-09-17T11:57:07.075Z"
   },
   {
    "duration": 79,
    "start_time": "2025-09-17T11:57:25.821Z"
   },
   {
    "duration": 1178,
    "start_time": "2025-09-17T11:58:44.142Z"
   },
   {
    "duration": 1909,
    "start_time": "2025-09-17T11:58:45.322Z"
   },
   {
    "duration": 20,
    "start_time": "2025-09-17T11:58:47.232Z"
   },
   {
    "duration": 127,
    "start_time": "2025-09-17T11:58:47.254Z"
   },
   {
    "duration": 11,
    "start_time": "2025-09-17T11:58:47.383Z"
   },
   {
    "duration": 25,
    "start_time": "2025-09-17T11:58:47.396Z"
   },
   {
    "duration": 19,
    "start_time": "2025-09-17T11:58:47.423Z"
   },
   {
    "duration": 12,
    "start_time": "2025-09-17T11:58:47.443Z"
   },
   {
    "duration": 193,
    "start_time": "2025-09-17T11:58:47.456Z"
   },
   {
    "duration": 77,
    "start_time": "2025-09-17T11:58:47.652Z"
   },
   {
    "duration": 256,
    "start_time": "2025-09-17T11:58:47.730Z"
   },
   {
    "duration": 15,
    "start_time": "2025-09-17T11:58:47.987Z"
   },
   {
    "duration": 216,
    "start_time": "2025-09-17T11:58:48.004Z"
   },
   {
    "duration": 145,
    "start_time": "2025-09-17T11:58:48.222Z"
   },
   {
    "duration": 39,
    "start_time": "2025-09-17T11:58:48.369Z"
   },
   {
    "duration": 2,
    "start_time": "2025-09-17T11:58:48.409Z"
   },
   {
    "duration": 54,
    "start_time": "2025-09-17T11:58:48.412Z"
   },
   {
    "duration": 2,
    "start_time": "2025-09-17T11:58:48.468Z"
   },
   {
    "duration": 94,
    "start_time": "2025-09-17T11:58:48.471Z"
   },
   {
    "duration": 124,
    "start_time": "2025-09-17T11:58:48.567Z"
   },
   {
    "duration": 5155,
    "start_time": "2025-09-17T11:58:48.693Z"
   },
   {
    "duration": 105,
    "start_time": "2025-09-17T11:58:53.850Z"
   },
   {
    "duration": 25,
    "start_time": "2025-09-17T11:58:53.957Z"
   },
   {
    "duration": 140,
    "start_time": "2025-09-17T11:58:53.983Z"
   },
   {
    "duration": 4,
    "start_time": "2025-09-17T11:58:54.125Z"
   },
   {
    "duration": 44,
    "start_time": "2025-09-17T11:58:54.130Z"
   },
   {
    "duration": 79,
    "start_time": "2025-09-17T11:58:54.175Z"
   },
   {
    "duration": 95,
    "start_time": "2025-09-17T12:01:58.071Z"
   },
   {
    "duration": 1108,
    "start_time": "2025-09-17T12:16:20.088Z"
   },
   {
    "duration": 1978,
    "start_time": "2025-09-17T12:16:21.198Z"
   },
   {
    "duration": 16,
    "start_time": "2025-09-17T12:16:23.180Z"
   },
   {
    "duration": 115,
    "start_time": "2025-09-17T12:16:23.198Z"
   },
   {
    "duration": 12,
    "start_time": "2025-09-17T12:16:23.315Z"
   },
   {
    "duration": 58,
    "start_time": "2025-09-17T12:16:23.328Z"
   },
   {
    "duration": 23,
    "start_time": "2025-09-17T12:16:23.388Z"
   },
   {
    "duration": 36,
    "start_time": "2025-09-17T12:16:23.413Z"
   },
   {
    "duration": 174,
    "start_time": "2025-09-17T12:16:23.451Z"
   },
   {
    "duration": 73,
    "start_time": "2025-09-17T12:16:23.627Z"
   },
   {
    "duration": 244,
    "start_time": "2025-09-17T12:16:23.701Z"
   },
   {
    "duration": 15,
    "start_time": "2025-09-17T12:16:23.947Z"
   },
   {
    "duration": 219,
    "start_time": "2025-09-17T12:16:23.964Z"
   },
   {
    "duration": 152,
    "start_time": "2025-09-17T12:16:24.185Z"
   },
   {
    "duration": 41,
    "start_time": "2025-09-17T12:16:24.339Z"
   },
   {
    "duration": 3,
    "start_time": "2025-09-17T12:16:24.382Z"
   },
   {
    "duration": 54,
    "start_time": "2025-09-17T12:16:24.387Z"
   },
   {
    "duration": 214,
    "start_time": "2025-09-17T12:16:24.443Z"
   },
   {
    "duration": 174,
    "start_time": "2025-09-17T12:16:24.659Z"
   },
   {
    "duration": 95,
    "start_time": "2025-09-17T12:16:24.834Z"
   },
   {
    "duration": 5243,
    "start_time": "2025-09-17T12:16:24.931Z"
   },
   {
    "duration": 183,
    "start_time": "2025-09-17T12:16:30.176Z"
   },
   {
    "duration": 48,
    "start_time": "2025-09-17T12:16:30.361Z"
   },
   {
    "duration": 178,
    "start_time": "2025-09-17T12:16:30.411Z"
   },
   {
    "duration": 16,
    "start_time": "2025-09-17T12:16:30.591Z"
   },
   {
    "duration": 54,
    "start_time": "2025-09-17T12:16:30.608Z"
   },
   {
    "duration": 50,
    "start_time": "2025-09-17T12:16:30.665Z"
   },
   {
    "duration": 170,
    "start_time": "2025-09-17T12:16:30.717Z"
   },
   {
    "duration": 1116,
    "start_time": "2025-09-17T12:20:55.094Z"
   },
   {
    "duration": 1943,
    "start_time": "2025-09-17T12:20:56.212Z"
   },
   {
    "duration": 18,
    "start_time": "2025-09-17T12:20:58.157Z"
   },
   {
    "duration": 96,
    "start_time": "2025-09-17T12:20:58.177Z"
   },
   {
    "duration": 12,
    "start_time": "2025-09-17T12:20:58.274Z"
   },
   {
    "duration": 19,
    "start_time": "2025-09-17T12:20:58.287Z"
   },
   {
    "duration": 8,
    "start_time": "2025-09-17T12:20:58.307Z"
   },
   {
    "duration": 11,
    "start_time": "2025-09-17T12:20:58.340Z"
   },
   {
    "duration": 181,
    "start_time": "2025-09-17T12:20:58.352Z"
   },
   {
    "duration": 65,
    "start_time": "2025-09-17T12:20:58.539Z"
   },
   {
    "duration": 257,
    "start_time": "2025-09-17T12:20:58.605Z"
   },
   {
    "duration": 15,
    "start_time": "2025-09-17T12:20:58.863Z"
   },
   {
    "duration": 296,
    "start_time": "2025-09-17T12:20:58.880Z"
   },
   {
    "duration": 148,
    "start_time": "2025-09-17T12:20:59.178Z"
   },
   {
    "duration": 45,
    "start_time": "2025-09-17T12:20:59.327Z"
   },
   {
    "duration": 2,
    "start_time": "2025-09-17T12:20:59.373Z"
   },
   {
    "duration": 33,
    "start_time": "2025-09-17T12:20:59.377Z"
   },
   {
    "duration": 221,
    "start_time": "2025-09-17T12:20:59.412Z"
   },
   {
    "duration": 93,
    "start_time": "2025-09-17T12:20:59.635Z"
   },
   {
    "duration": 5272,
    "start_time": "2025-09-17T12:20:59.729Z"
   },
   {
    "duration": 53,
    "start_time": "2025-09-17T12:21:05.003Z"
   },
   {
    "duration": 5,
    "start_time": "2025-09-17T12:21:05.057Z"
   },
   {
    "duration": 53,
    "start_time": "2025-09-17T12:21:05.064Z"
   },
   {
    "duration": 105,
    "start_time": "2025-09-17T12:21:05.119Z"
   },
   {
    "duration": 178,
    "start_time": "2025-09-17T12:21:05.226Z"
   },
   {
    "duration": 1429,
    "start_time": "2025-09-18T11:58:02.140Z"
   },
   {
    "duration": 2119,
    "start_time": "2025-09-18T11:58:03.571Z"
   },
   {
    "duration": 20,
    "start_time": "2025-09-18T11:58:05.692Z"
   },
   {
    "duration": 117,
    "start_time": "2025-09-18T11:58:05.715Z"
   },
   {
    "duration": 12,
    "start_time": "2025-09-18T11:58:05.834Z"
   },
   {
    "duration": 42,
    "start_time": "2025-09-18T11:58:05.849Z"
   },
   {
    "duration": 98,
    "start_time": "2025-09-18T11:58:05.893Z"
   },
   {
    "duration": 110,
    "start_time": "2025-09-18T11:58:05.992Z"
   },
   {
    "duration": 186,
    "start_time": "2025-09-18T11:58:06.103Z"
   },
   {
    "duration": 70,
    "start_time": "2025-09-18T11:58:06.291Z"
   },
   {
    "duration": 304,
    "start_time": "2025-09-18T11:58:06.363Z"
   },
   {
    "duration": 19,
    "start_time": "2025-09-18T11:58:06.669Z"
   },
   {
    "duration": 245,
    "start_time": "2025-09-18T11:58:06.690Z"
   },
   {
    "duration": 158,
    "start_time": "2025-09-18T11:58:06.937Z"
   },
   {
    "duration": 43,
    "start_time": "2025-09-18T11:58:07.097Z"
   },
   {
    "duration": 2,
    "start_time": "2025-09-18T11:58:07.142Z"
   },
   {
    "duration": 58,
    "start_time": "2025-09-18T11:58:07.146Z"
   },
   {
    "duration": 226,
    "start_time": "2025-09-18T11:58:07.205Z"
   },
   {
    "duration": 111,
    "start_time": "2025-09-18T11:58:07.433Z"
   },
   {
    "duration": 5962,
    "start_time": "2025-09-18T11:58:07.546Z"
   },
   {
    "duration": 48,
    "start_time": "2025-09-18T11:58:13.510Z"
   },
   {
    "duration": 19,
    "start_time": "2025-09-18T11:58:13.560Z"
   },
   {
    "duration": 40,
    "start_time": "2025-09-18T11:58:13.581Z"
   },
   {
    "duration": 79,
    "start_time": "2025-09-18T11:58:13.622Z"
   },
   {
    "duration": 209,
    "start_time": "2025-09-18T11:58:13.703Z"
   },
   {
    "duration": 215,
    "start_time": "2025-09-18T12:43:39.141Z"
   },
   {
    "duration": 469,
    "start_time": "2025-09-18T12:43:49.999Z"
   },
   {
    "duration": 13,
    "start_time": "2025-09-18T12:46:06.243Z"
   },
   {
    "duration": 27,
    "start_time": "2025-09-18T12:47:30.223Z"
   },
   {
    "duration": 13,
    "start_time": "2025-09-18T12:47:43.648Z"
   },
   {
    "duration": 40,
    "start_time": "2025-09-18T12:47:48.124Z"
   },
   {
    "duration": 63,
    "start_time": "2025-09-18T12:48:25.858Z"
   },
   {
    "duration": 2252,
    "start_time": "2025-09-18T12:49:02.486Z"
   },
   {
    "duration": 50,
    "start_time": "2025-09-18T12:49:05.271Z"
   },
   {
    "duration": 471,
    "start_time": "2025-09-18T12:49:43.335Z"
   },
   {
    "duration": 69,
    "start_time": "2025-09-18T12:50:30.508Z"
   },
   {
    "duration": 54,
    "start_time": "2025-09-18T12:51:48.683Z"
   },
   {
    "duration": 209,
    "start_time": "2025-09-18T12:52:58.422Z"
   },
   {
    "duration": 176,
    "start_time": "2025-09-18T12:53:02.154Z"
   },
   {
    "duration": 112,
    "start_time": "2025-09-18T12:53:21.436Z"
   },
   {
    "duration": 2189,
    "start_time": "2025-09-18T13:17:18.739Z"
   },
   {
    "duration": 146,
    "start_time": "2025-09-18T13:17:54.720Z"
   },
   {
    "duration": 126,
    "start_time": "2025-09-18T13:18:37.988Z"
   },
   {
    "duration": 123,
    "start_time": "2025-09-18T13:19:06.133Z"
   },
   {
    "duration": 7,
    "start_time": "2025-09-18T13:19:34.989Z"
   },
   {
    "duration": 1347,
    "start_time": "2025-09-19T12:16:10.731Z"
   },
   {
    "duration": 2159,
    "start_time": "2025-09-19T12:16:12.080Z"
   },
   {
    "duration": 20,
    "start_time": "2025-09-19T12:16:14.241Z"
   },
   {
    "duration": 116,
    "start_time": "2025-09-19T12:16:14.263Z"
   },
   {
    "duration": 13,
    "start_time": "2025-09-19T12:16:14.381Z"
   },
   {
    "duration": 19,
    "start_time": "2025-09-19T12:16:14.405Z"
   },
   {
    "duration": 21,
    "start_time": "2025-09-19T12:16:14.426Z"
   },
   {
    "duration": 23,
    "start_time": "2025-09-19T12:16:14.448Z"
   },
   {
    "duration": 230,
    "start_time": "2025-09-19T12:16:14.473Z"
   },
   {
    "duration": 73,
    "start_time": "2025-09-19T12:16:14.706Z"
   },
   {
    "duration": 239,
    "start_time": "2025-09-19T12:16:14.781Z"
   },
   {
    "duration": 170,
    "start_time": "2025-09-19T12:16:15.022Z"
   },
   {
    "duration": 47,
    "start_time": "2025-09-19T12:16:15.194Z"
   },
   {
    "duration": 10,
    "start_time": "2025-09-19T12:16:15.243Z"
   },
   {
    "duration": 84,
    "start_time": "2025-09-19T12:16:15.255Z"
   },
   {
    "duration": 238,
    "start_time": "2025-09-19T12:16:15.341Z"
   },
   {
    "duration": 112,
    "start_time": "2025-09-19T12:16:15.581Z"
   },
   {
    "duration": 5690,
    "start_time": "2025-09-19T12:16:15.696Z"
   },
   {
    "duration": 52,
    "start_time": "2025-09-19T12:16:21.388Z"
   },
   {
    "duration": 5,
    "start_time": "2025-09-19T12:16:21.442Z"
   },
   {
    "duration": 128,
    "start_time": "2025-09-19T12:16:21.449Z"
   },
   {
    "duration": 56,
    "start_time": "2025-09-19T12:16:21.579Z"
   },
   {
    "duration": 511,
    "start_time": "2025-09-19T12:16:21.636Z"
   },
   {
    "duration": 56,
    "start_time": "2025-09-19T12:16:22.149Z"
   },
   {
    "duration": 235,
    "start_time": "2025-09-19T12:16:22.206Z"
   },
   {
    "duration": 197,
    "start_time": "2025-09-19T12:16:22.442Z"
   },
   {
    "duration": 154,
    "start_time": "2025-09-19T12:16:22.640Z"
   },
   {
    "duration": 26,
    "start_time": "2025-09-19T13:14:45.666Z"
   },
   {
    "duration": 1301,
    "start_time": "2025-09-20T06:20:40.065Z"
   },
   {
    "duration": 1907,
    "start_time": "2025-09-20T06:20:41.368Z"
   },
   {
    "duration": 17,
    "start_time": "2025-09-20T06:20:43.277Z"
   },
   {
    "duration": 99,
    "start_time": "2025-09-20T06:20:43.296Z"
   },
   {
    "duration": 11,
    "start_time": "2025-09-20T06:20:43.396Z"
   },
   {
    "duration": 17,
    "start_time": "2025-09-20T06:20:43.409Z"
   },
   {
    "duration": 8,
    "start_time": "2025-09-20T06:20:43.440Z"
   },
   {
    "duration": 11,
    "start_time": "2025-09-20T06:20:43.453Z"
   },
   {
    "duration": 183,
    "start_time": "2025-09-20T06:20:43.466Z"
   },
   {
    "duration": 69,
    "start_time": "2025-09-20T06:20:43.651Z"
   },
   {
    "duration": 219,
    "start_time": "2025-09-20T06:20:43.721Z"
   },
   {
    "duration": 150,
    "start_time": "2025-09-20T06:20:43.942Z"
   },
   {
    "duration": 48,
    "start_time": "2025-09-20T06:20:44.094Z"
   },
   {
    "duration": 3,
    "start_time": "2025-09-20T06:20:44.143Z"
   },
   {
    "duration": 33,
    "start_time": "2025-09-20T06:20:44.147Z"
   },
   {
    "duration": 221,
    "start_time": "2025-09-20T06:20:44.182Z"
   },
   {
    "duration": 105,
    "start_time": "2025-09-20T06:20:44.404Z"
   },
   {
    "duration": 5319,
    "start_time": "2025-09-20T06:20:44.511Z"
   },
   {
    "duration": 50,
    "start_time": "2025-09-20T06:20:49.831Z"
   },
   {
    "duration": 5,
    "start_time": "2025-09-20T06:20:49.882Z"
   },
   {
    "duration": 52,
    "start_time": "2025-09-20T06:20:49.889Z"
   },
   {
    "duration": 53,
    "start_time": "2025-09-20T06:20:49.943Z"
   },
   {
    "duration": 521,
    "start_time": "2025-09-20T06:20:49.997Z"
   },
   {
    "duration": 54,
    "start_time": "2025-09-20T06:20:50.520Z"
   },
   {
    "duration": 211,
    "start_time": "2025-09-20T06:20:50.575Z"
   },
   {
    "duration": 212,
    "start_time": "2025-09-20T06:20:50.787Z"
   },
   {
    "duration": 143,
    "start_time": "2025-09-20T06:20:51.000Z"
   },
   {
    "duration": 24,
    "start_time": "2025-09-20T06:20:51.146Z"
   },
   {
    "duration": 6,
    "start_time": "2025-09-20T06:31:20.457Z"
   },
   {
    "duration": 8,
    "start_time": "2025-09-20T06:33:36.235Z"
   },
   {
    "duration": 7,
    "start_time": "2025-09-20T06:33:45.158Z"
   },
   {
    "duration": 46,
    "start_time": "2025-09-20T06:33:47.297Z"
   },
   {
    "duration": 141,
    "start_time": "2025-09-20T06:47:35.328Z"
   },
   {
    "duration": 62,
    "start_time": "2025-09-20T06:48:08.013Z"
   },
   {
    "duration": 52,
    "start_time": "2025-09-20T06:48:41.032Z"
   },
   {
    "duration": 50,
    "start_time": "2025-09-20T06:48:56.875Z"
   },
   {
    "duration": 23,
    "start_time": "2025-09-20T06:49:35.291Z"
   },
   {
    "duration": 30,
    "start_time": "2025-09-20T06:50:19.834Z"
   },
   {
    "duration": 28,
    "start_time": "2025-09-20T06:50:43.183Z"
   },
   {
    "duration": 41,
    "start_time": "2025-09-20T06:51:25.663Z"
   },
   {
    "duration": 27,
    "start_time": "2025-09-20T06:58:39.100Z"
   },
   {
    "duration": 36,
    "start_time": "2025-09-20T06:58:44.498Z"
   },
   {
    "duration": 37,
    "start_time": "2025-09-20T06:59:03.002Z"
   },
   {
    "duration": 36,
    "start_time": "2025-09-20T06:59:33.010Z"
   },
   {
    "duration": 24,
    "start_time": "2025-09-20T07:00:07.482Z"
   },
   {
    "duration": 26,
    "start_time": "2025-09-20T07:00:35.263Z"
   },
   {
    "duration": 23,
    "start_time": "2025-09-20T07:06:00.587Z"
   },
   {
    "duration": 29,
    "start_time": "2025-09-20T07:06:09.750Z"
   },
   {
    "duration": 27,
    "start_time": "2025-09-20T07:11:15.700Z"
   },
   {
    "duration": 26,
    "start_time": "2025-09-20T07:14:16.382Z"
   },
   {
    "duration": 31,
    "start_time": "2025-09-20T07:14:36.405Z"
   },
   {
    "duration": 36,
    "start_time": "2025-09-20T07:14:55.423Z"
   },
   {
    "duration": 8,
    "start_time": "2025-09-20T07:15:05.909Z"
   },
   {
    "duration": 35,
    "start_time": "2025-09-20T07:16:20.163Z"
   },
   {
    "duration": 38,
    "start_time": "2025-09-20T07:16:33.354Z"
   },
   {
    "duration": 36,
    "start_time": "2025-09-20T07:16:40.254Z"
   },
   {
    "duration": 45,
    "start_time": "2025-09-20T07:16:48.333Z"
   },
   {
    "duration": 33,
    "start_time": "2025-09-20T07:17:04.002Z"
   },
   {
    "duration": 884,
    "start_time": "2025-09-20T07:23:34.366Z"
   },
   {
    "duration": 29,
    "start_time": "2025-09-20T07:24:17.470Z"
   },
   {
    "duration": 840,
    "start_time": "2025-09-20T07:24:41.639Z"
   },
   {
    "duration": 1056,
    "start_time": "2025-09-20T07:25:22.126Z"
   },
   {
    "duration": 779,
    "start_time": "2025-09-20T07:25:40.969Z"
   },
   {
    "duration": 33,
    "start_time": "2025-09-20T07:26:19.373Z"
   },
   {
    "duration": 32,
    "start_time": "2025-09-20T07:26:33.765Z"
   },
   {
    "duration": 32,
    "start_time": "2025-09-20T07:29:50.379Z"
   },
   {
    "duration": 31,
    "start_time": "2025-09-20T07:29:56.892Z"
   },
   {
    "duration": 25,
    "start_time": "2025-09-20T07:30:21.077Z"
   },
   {
    "duration": 32,
    "start_time": "2025-09-20T07:30:34.136Z"
   },
   {
    "duration": 31,
    "start_time": "2025-09-20T07:30:49.720Z"
   },
   {
    "duration": 50,
    "start_time": "2025-09-20T07:33:37.378Z"
   },
   {
    "duration": 50,
    "start_time": "2025-09-20T07:34:00.840Z"
   },
   {
    "duration": 50,
    "start_time": "2025-09-20T07:34:09.824Z"
   },
   {
    "duration": 53,
    "start_time": "2025-09-20T07:34:41.822Z"
   },
   {
    "duration": 29,
    "start_time": "2025-09-20T07:35:01.419Z"
   },
   {
    "duration": 27,
    "start_time": "2025-09-20T07:35:19.597Z"
   },
   {
    "duration": 25,
    "start_time": "2025-09-20T07:35:45.494Z"
   },
   {
    "duration": 34,
    "start_time": "2025-09-20T07:36:04.345Z"
   },
   {
    "duration": 26,
    "start_time": "2025-09-20T07:36:27.175Z"
   },
   {
    "duration": 33,
    "start_time": "2025-09-20T07:37:57.171Z"
   },
   {
    "duration": 53,
    "start_time": "2025-09-20T07:39:20.096Z"
   },
   {
    "duration": 26,
    "start_time": "2025-09-20T07:39:37.746Z"
   },
   {
    "duration": 58,
    "start_time": "2025-09-20T07:39:49.851Z"
   },
   {
    "duration": 59,
    "start_time": "2025-09-20T07:40:15.456Z"
   },
   {
    "duration": 77,
    "start_time": "2025-09-20T07:40:54.952Z"
   },
   {
    "duration": 70,
    "start_time": "2025-09-20T07:43:34.994Z"
   },
   {
    "duration": 58,
    "start_time": "2025-09-20T07:43:40.677Z"
   },
   {
    "duration": 147,
    "start_time": "2025-09-20T07:43:46.739Z"
   },
   {
    "duration": 11,
    "start_time": "2025-09-20T07:48:22.184Z"
   },
   {
    "duration": 10,
    "start_time": "2025-09-20T07:49:02.096Z"
   },
   {
    "duration": 10,
    "start_time": "2025-09-20T07:49:39.692Z"
   },
   {
    "duration": 109,
    "start_time": "2025-09-20T07:49:55.792Z"
   },
   {
    "duration": 120,
    "start_time": "2025-09-20T07:50:43.737Z"
   },
   {
    "duration": 113,
    "start_time": "2025-09-20T07:51:22.801Z"
   },
   {
    "duration": 863,
    "start_time": "2025-09-20T07:53:18.502Z"
   },
   {
    "duration": 870,
    "start_time": "2025-09-20T07:54:17.895Z"
   },
   {
    "duration": 96,
    "start_time": "2025-09-20T07:54:41.394Z"
   },
   {
    "duration": 771,
    "start_time": "2025-09-20T07:55:58.730Z"
   },
   {
    "duration": 1609,
    "start_time": "2025-09-22T06:04:48.083Z"
   },
   {
    "duration": 2089,
    "start_time": "2025-09-22T06:04:49.695Z"
   },
   {
    "duration": 20,
    "start_time": "2025-09-22T06:04:51.786Z"
   },
   {
    "duration": 126,
    "start_time": "2025-09-22T06:04:51.808Z"
   },
   {
    "duration": 12,
    "start_time": "2025-09-22T06:04:51.936Z"
   },
   {
    "duration": 54,
    "start_time": "2025-09-22T06:04:51.950Z"
   },
   {
    "duration": 9,
    "start_time": "2025-09-22T06:04:52.006Z"
   },
   {
    "duration": 23,
    "start_time": "2025-09-22T06:04:52.017Z"
   },
   {
    "duration": 249,
    "start_time": "2025-09-22T06:04:52.042Z"
   },
   {
    "duration": 89,
    "start_time": "2025-09-22T06:04:52.294Z"
   },
   {
    "duration": 243,
    "start_time": "2025-09-22T06:04:52.385Z"
   },
   {
    "duration": 175,
    "start_time": "2025-09-22T06:04:52.630Z"
   },
   {
    "duration": 43,
    "start_time": "2025-09-22T06:04:52.807Z"
   },
   {
    "duration": 30,
    "start_time": "2025-09-22T06:04:52.852Z"
   },
   {
    "duration": 33,
    "start_time": "2025-09-22T06:04:52.886Z"
   },
   {
    "duration": 277,
    "start_time": "2025-09-22T06:04:52.922Z"
   },
   {
    "duration": 114,
    "start_time": "2025-09-22T06:04:53.201Z"
   },
   {
    "duration": 5842,
    "start_time": "2025-09-22T06:04:53.317Z"
   },
   {
    "duration": 57,
    "start_time": "2025-09-22T06:04:59.160Z"
   },
   {
    "duration": 6,
    "start_time": "2025-09-22T06:04:59.219Z"
   },
   {
    "duration": 61,
    "start_time": "2025-09-22T06:04:59.227Z"
   },
   {
    "duration": 56,
    "start_time": "2025-09-22T06:04:59.289Z"
   },
   {
    "duration": 593,
    "start_time": "2025-09-22T06:04:59.347Z"
   },
   {
    "duration": 71,
    "start_time": "2025-09-22T06:04:59.942Z"
   },
   {
    "duration": 251,
    "start_time": "2025-09-22T06:05:00.015Z"
   },
   {
    "duration": 206,
    "start_time": "2025-09-22T06:05:00.281Z"
   },
   {
    "duration": 157,
    "start_time": "2025-09-22T06:05:00.489Z"
   },
   {
    "duration": 91,
    "start_time": "2025-09-22T06:05:00.650Z"
   },
   {
    "duration": 87,
    "start_time": "2025-09-22T06:05:00.743Z"
   },
   {
    "duration": 233,
    "start_time": "2025-09-22T06:05:00.832Z"
   },
   {
    "duration": 0,
    "start_time": "2025-09-22T06:05:01.067Z"
   },
   {
    "duration": 0,
    "start_time": "2025-09-22T06:05:01.068Z"
   },
   {
    "duration": 1314,
    "start_time": "2025-09-22T06:06:07.052Z"
   },
   {
    "duration": 68,
    "start_time": "2025-09-22T06:06:56.780Z"
   },
   {
    "duration": 159,
    "start_time": "2025-09-22T06:07:07.980Z"
   },
   {
    "duration": 80,
    "start_time": "2025-09-22T06:08:16.687Z"
   },
   {
    "duration": 91,
    "start_time": "2025-09-22T06:08:27.149Z"
   },
   {
    "duration": 74,
    "start_time": "2025-09-22T06:08:35.195Z"
   },
   {
    "duration": 91,
    "start_time": "2025-09-22T06:08:38.437Z"
   },
   {
    "duration": 75,
    "start_time": "2025-09-22T06:12:28.133Z"
   },
   {
    "duration": 86,
    "start_time": "2025-09-22T06:12:52.031Z"
   },
   {
    "duration": 67,
    "start_time": "2025-09-22T06:13:24.400Z"
   },
   {
    "duration": 76,
    "start_time": "2025-09-22T06:14:06.356Z"
   },
   {
    "duration": 71,
    "start_time": "2025-09-22T06:14:23.507Z"
   },
   {
    "duration": 1418,
    "start_time": "2025-09-22T06:16:38.586Z"
   },
   {
    "duration": 2316,
    "start_time": "2025-09-22T06:16:40.007Z"
   },
   {
    "duration": 25,
    "start_time": "2025-09-22T06:16:42.325Z"
   },
   {
    "duration": 150,
    "start_time": "2025-09-22T06:16:42.351Z"
   },
   {
    "duration": 13,
    "start_time": "2025-09-22T06:16:42.504Z"
   },
   {
    "duration": 50,
    "start_time": "2025-09-22T06:16:42.519Z"
   },
   {
    "duration": 23,
    "start_time": "2025-09-22T06:16:42.571Z"
   },
   {
    "duration": 13,
    "start_time": "2025-09-22T06:16:42.596Z"
   },
   {
    "duration": 223,
    "start_time": "2025-09-22T06:16:42.611Z"
   },
   {
    "duration": 86,
    "start_time": "2025-09-22T06:16:42.836Z"
   },
   {
    "duration": 270,
    "start_time": "2025-09-22T06:16:42.923Z"
   },
   {
    "duration": 161,
    "start_time": "2025-09-22T06:16:43.194Z"
   },
   {
    "duration": 60,
    "start_time": "2025-09-22T06:16:43.357Z"
   },
   {
    "duration": 2,
    "start_time": "2025-09-22T06:16:43.421Z"
   },
   {
    "duration": 82,
    "start_time": "2025-09-22T06:16:43.424Z"
   },
   {
    "duration": 242,
    "start_time": "2025-09-22T06:16:43.508Z"
   },
   {
    "duration": 121,
    "start_time": "2025-09-22T06:16:43.752Z"
   },
   {
    "duration": 6208,
    "start_time": "2025-09-22T06:16:43.875Z"
   },
   {
    "duration": 52,
    "start_time": "2025-09-22T06:16:50.086Z"
   },
   {
    "duration": 6,
    "start_time": "2025-09-22T06:16:50.140Z"
   },
   {
    "duration": 74,
    "start_time": "2025-09-22T06:16:50.148Z"
   },
   {
    "duration": 70,
    "start_time": "2025-09-22T06:16:50.223Z"
   },
   {
    "duration": 609,
    "start_time": "2025-09-22T06:16:50.295Z"
   },
   {
    "duration": 74,
    "start_time": "2025-09-22T06:16:50.905Z"
   },
   {
    "duration": 235,
    "start_time": "2025-09-22T06:16:50.980Z"
   },
   {
    "duration": 207,
    "start_time": "2025-09-22T06:16:51.217Z"
   },
   {
    "duration": 159,
    "start_time": "2025-09-22T06:16:51.427Z"
   },
   {
    "duration": 69,
    "start_time": "2025-09-22T06:16:51.587Z"
   },
   {
    "duration": 62,
    "start_time": "2025-09-22T06:16:51.670Z"
   },
   {
    "duration": 205,
    "start_time": "2025-09-22T06:16:51.734Z"
   },
   {
    "duration": 236,
    "start_time": "2025-09-22T06:16:51.941Z"
   },
   {
    "duration": 0,
    "start_time": "2025-09-22T06:16:52.179Z"
   },
   {
    "duration": 0,
    "start_time": "2025-09-22T06:16:52.181Z"
   },
   {
    "duration": 119,
    "start_time": "2025-09-22T06:21:32.526Z"
   },
   {
    "duration": 58,
    "start_time": "2025-09-22T06:22:15.847Z"
   },
   {
    "duration": 58,
    "start_time": "2025-09-22T06:22:29.681Z"
   },
   {
    "duration": 164,
    "start_time": "2025-09-22T06:22:39.370Z"
   },
   {
    "duration": 313,
    "start_time": "2025-09-22T06:26:39.474Z"
   },
   {
    "duration": 81,
    "start_time": "2025-09-22T06:31:13.061Z"
   },
   {
    "duration": 326,
    "start_time": "2025-09-22T06:31:28.604Z"
   },
   {
    "duration": 176,
    "start_time": "2025-09-22T07:46:37.113Z"
   },
   {
    "duration": 151,
    "start_time": "2025-09-22T07:47:12.240Z"
   },
   {
    "duration": 121,
    "start_time": "2025-09-22T07:48:06.083Z"
   },
   {
    "duration": 166,
    "start_time": "2025-09-22T07:48:20.192Z"
   },
   {
    "duration": 8,
    "start_time": "2025-09-22T07:49:02.909Z"
   },
   {
    "duration": 207,
    "start_time": "2025-09-22T07:53:38.274Z"
   },
   {
    "duration": 186,
    "start_time": "2025-09-22T07:53:47.744Z"
   },
   {
    "duration": 151,
    "start_time": "2025-09-22T07:55:55.814Z"
   },
   {
    "duration": 160,
    "start_time": "2025-09-22T07:57:02.790Z"
   },
   {
    "duration": 200,
    "start_time": "2025-09-22T08:00:12.621Z"
   },
   {
    "duration": 184,
    "start_time": "2025-09-22T08:00:19.336Z"
   },
   {
    "duration": 187,
    "start_time": "2025-09-22T08:00:30.933Z"
   },
   {
    "duration": 195,
    "start_time": "2025-09-22T08:00:38.840Z"
   },
   {
    "duration": 194,
    "start_time": "2025-09-22T08:01:33.341Z"
   },
   {
    "duration": 220,
    "start_time": "2025-09-22T08:03:07.947Z"
   },
   {
    "duration": 113,
    "start_time": "2025-09-22T08:04:13.747Z"
   },
   {
    "duration": 204,
    "start_time": "2025-09-22T08:04:16.041Z"
   },
   {
    "duration": 108,
    "start_time": "2025-09-22T08:04:36.608Z"
   },
   {
    "duration": 198,
    "start_time": "2025-09-22T08:04:38.668Z"
   },
   {
    "duration": 8,
    "start_time": "2025-09-22T08:04:58.493Z"
   },
   {
    "duration": 9,
    "start_time": "2025-09-22T08:05:00.382Z"
   },
   {
    "duration": 8,
    "start_time": "2025-09-22T08:05:31.897Z"
   },
   {
    "duration": 110,
    "start_time": "2025-09-22T08:06:28.723Z"
   },
   {
    "duration": 194,
    "start_time": "2025-09-22T08:06:31.751Z"
   },
   {
    "duration": 1439,
    "start_time": "2025-09-22T08:07:48.161Z"
   },
   {
    "duration": 2362,
    "start_time": "2025-09-22T08:07:49.602Z"
   },
   {
    "duration": 30,
    "start_time": "2025-09-22T08:07:51.966Z"
   },
   {
    "duration": 135,
    "start_time": "2025-09-22T08:07:51.998Z"
   },
   {
    "duration": 12,
    "start_time": "2025-09-22T08:07:52.135Z"
   },
   {
    "duration": 45,
    "start_time": "2025-09-22T08:07:52.148Z"
   },
   {
    "duration": 10,
    "start_time": "2025-09-22T08:07:52.195Z"
   },
   {
    "duration": 17,
    "start_time": "2025-09-22T08:07:52.207Z"
   },
   {
    "duration": 265,
    "start_time": "2025-09-22T08:07:52.226Z"
   },
   {
    "duration": 91,
    "start_time": "2025-09-22T08:07:52.494Z"
   },
   {
    "duration": 241,
    "start_time": "2025-09-22T08:07:52.587Z"
   },
   {
    "duration": 174,
    "start_time": "2025-09-22T08:07:52.830Z"
   },
   {
    "duration": 42,
    "start_time": "2025-09-22T08:07:53.006Z"
   },
   {
    "duration": 13,
    "start_time": "2025-09-22T08:07:53.050Z"
   },
   {
    "duration": 52,
    "start_time": "2025-09-22T08:07:53.065Z"
   },
   {
    "duration": 230,
    "start_time": "2025-09-22T08:07:53.119Z"
   },
   {
    "duration": 112,
    "start_time": "2025-09-22T08:07:53.350Z"
   },
   {
    "duration": 5715,
    "start_time": "2025-09-22T08:07:53.464Z"
   },
   {
    "duration": 49,
    "start_time": "2025-09-22T08:07:59.181Z"
   },
   {
    "duration": 6,
    "start_time": "2025-09-22T08:07:59.232Z"
   },
   {
    "duration": 92,
    "start_time": "2025-09-22T08:07:59.241Z"
   },
   {
    "duration": 66,
    "start_time": "2025-09-22T08:07:59.335Z"
   },
   {
    "duration": 559,
    "start_time": "2025-09-22T08:07:59.403Z"
   },
   {
    "duration": 66,
    "start_time": "2025-09-22T08:07:59.963Z"
   },
   {
    "duration": 256,
    "start_time": "2025-09-22T08:08:00.031Z"
   },
   {
    "duration": 220,
    "start_time": "2025-09-22T08:08:00.289Z"
   },
   {
    "duration": 156,
    "start_time": "2025-09-22T08:08:00.511Z"
   },
   {
    "duration": 128,
    "start_time": "2025-09-22T08:08:00.682Z"
   },
   {
    "duration": 217,
    "start_time": "2025-09-22T08:08:00.812Z"
   },
   {
    "duration": 1380,
    "start_time": "2025-09-22T11:30:07.766Z"
   },
   {
    "duration": 1649,
    "start_time": "2025-09-22T11:30:09.149Z"
   },
   {
    "duration": 18,
    "start_time": "2025-09-22T11:30:10.799Z"
   },
   {
    "duration": 107,
    "start_time": "2025-09-22T11:30:10.819Z"
   },
   {
    "duration": 12,
    "start_time": "2025-09-22T11:30:10.928Z"
   },
   {
    "duration": 21,
    "start_time": "2025-09-22T11:30:10.941Z"
   },
   {
    "duration": 8,
    "start_time": "2025-09-22T11:30:10.964Z"
   },
   {
    "duration": 35,
    "start_time": "2025-09-22T11:30:10.974Z"
   },
   {
    "duration": 172,
    "start_time": "2025-09-22T11:30:11.010Z"
   },
   {
    "duration": 76,
    "start_time": "2025-09-22T11:30:11.185Z"
   },
   {
    "duration": 226,
    "start_time": "2025-09-22T11:30:11.262Z"
   },
   {
    "duration": 154,
    "start_time": "2025-09-22T11:30:11.490Z"
   },
   {
    "duration": 40,
    "start_time": "2025-09-22T11:30:11.646Z"
   },
   {
    "duration": 17,
    "start_time": "2025-09-22T11:30:11.687Z"
   },
   {
    "duration": 39,
    "start_time": "2025-09-22T11:30:11.706Z"
   },
   {
    "duration": 210,
    "start_time": "2025-09-22T11:30:11.747Z"
   },
   {
    "duration": 104,
    "start_time": "2025-09-22T11:30:11.959Z"
   },
   {
    "duration": 5604,
    "start_time": "2025-09-22T11:30:12.064Z"
   },
   {
    "duration": 55,
    "start_time": "2025-09-22T11:30:17.670Z"
   },
   {
    "duration": 6,
    "start_time": "2025-09-22T11:30:17.727Z"
   },
   {
    "duration": 58,
    "start_time": "2025-09-22T11:30:17.735Z"
   },
   {
    "duration": 62,
    "start_time": "2025-09-22T11:30:17.794Z"
   },
   {
    "duration": 522,
    "start_time": "2025-09-22T11:30:17.858Z"
   },
   {
    "duration": 58,
    "start_time": "2025-09-22T11:30:18.382Z"
   },
   {
    "duration": 220,
    "start_time": "2025-09-22T11:30:18.442Z"
   },
   {
    "duration": 202,
    "start_time": "2025-09-22T11:30:18.664Z"
   },
   {
    "duration": 149,
    "start_time": "2025-09-22T11:30:18.868Z"
   },
   {
    "duration": 119,
    "start_time": "2025-09-22T11:30:19.021Z"
   },
   {
    "duration": 186,
    "start_time": "2025-09-22T11:30:19.142Z"
   },
   {
    "duration": 36,
    "start_time": "2025-09-22T11:36:18.237Z"
   },
   {
    "duration": 113,
    "start_time": "2025-09-22T11:38:36.367Z"
   },
   {
    "duration": 104,
    "start_time": "2025-09-22T11:39:38.787Z"
   },
   {
    "duration": 103,
    "start_time": "2025-09-22T11:39:41.439Z"
   },
   {
    "duration": 113,
    "start_time": "2025-09-22T11:39:46.368Z"
   },
   {
    "duration": 110,
    "start_time": "2025-09-22T11:40:25.277Z"
   },
   {
    "duration": 903,
    "start_time": "2025-09-22T11:41:34.804Z"
   },
   {
    "duration": 161,
    "start_time": "2025-09-22T11:42:07.561Z"
   },
   {
    "duration": 53,
    "start_time": "2025-09-22T11:42:20.002Z"
   },
   {
    "duration": 141,
    "start_time": "2025-09-22T11:43:12.342Z"
   },
   {
    "duration": 155,
    "start_time": "2025-09-22T11:43:53.297Z"
   },
   {
    "duration": 156,
    "start_time": "2025-09-22T11:45:07.949Z"
   },
   {
    "duration": 154,
    "start_time": "2025-09-22T11:45:21.174Z"
   },
   {
    "duration": 157,
    "start_time": "2025-09-22T11:45:49.441Z"
   },
   {
    "duration": 186,
    "start_time": "2025-09-22T11:46:18.754Z"
   },
   {
    "duration": 9,
    "start_time": "2025-09-22T11:46:53.613Z"
   },
   {
    "duration": 92,
    "start_time": "2025-09-22T11:49:46.738Z"
   },
   {
    "duration": 7,
    "start_time": "2025-09-22T11:49:53.004Z"
   },
   {
    "duration": 7,
    "start_time": "2025-09-22T11:50:04.496Z"
   },
   {
    "duration": 888,
    "start_time": "2025-09-22T11:50:10.604Z"
   },
   {
    "duration": 91,
    "start_time": "2025-09-22T11:51:12.238Z"
   },
   {
    "duration": 819,
    "start_time": "2025-09-22T11:51:15.956Z"
   },
   {
    "duration": 164,
    "start_time": "2025-09-22T11:51:50.279Z"
   },
   {
    "duration": 1218,
    "start_time": "2025-09-22T11:52:27.166Z"
   },
   {
    "duration": 1895,
    "start_time": "2025-09-22T11:52:28.385Z"
   },
   {
    "duration": 19,
    "start_time": "2025-09-22T11:52:30.281Z"
   },
   {
    "duration": 106,
    "start_time": "2025-09-22T11:52:30.302Z"
   },
   {
    "duration": 11,
    "start_time": "2025-09-22T11:52:30.410Z"
   },
   {
    "duration": 40,
    "start_time": "2025-09-22T11:52:30.423Z"
   },
   {
    "duration": 9,
    "start_time": "2025-09-22T11:52:30.464Z"
   },
   {
    "duration": 22,
    "start_time": "2025-09-22T11:52:30.474Z"
   },
   {
    "duration": 179,
    "start_time": "2025-09-22T11:52:30.498Z"
   },
   {
    "duration": 83,
    "start_time": "2025-09-22T11:52:30.680Z"
   },
   {
    "duration": 226,
    "start_time": "2025-09-22T11:52:30.764Z"
   },
   {
    "duration": 158,
    "start_time": "2025-09-22T11:52:30.992Z"
   },
   {
    "duration": 53,
    "start_time": "2025-09-22T11:52:31.152Z"
   },
   {
    "duration": 3,
    "start_time": "2025-09-22T11:52:31.206Z"
   },
   {
    "duration": 64,
    "start_time": "2025-09-22T11:52:31.210Z"
   },
   {
    "duration": 200,
    "start_time": "2025-09-22T11:52:31.276Z"
   },
   {
    "duration": 97,
    "start_time": "2025-09-22T11:52:31.478Z"
   },
   {
    "duration": 5610,
    "start_time": "2025-09-22T11:52:31.577Z"
   },
   {
    "duration": 54,
    "start_time": "2025-09-22T11:52:37.189Z"
   },
   {
    "duration": 5,
    "start_time": "2025-09-22T11:52:37.245Z"
   },
   {
    "duration": 63,
    "start_time": "2025-09-22T11:52:37.252Z"
   },
   {
    "duration": 60,
    "start_time": "2025-09-22T11:52:37.317Z"
   },
   {
    "duration": 529,
    "start_time": "2025-09-22T11:52:37.378Z"
   },
   {
    "duration": 51,
    "start_time": "2025-09-22T11:52:37.909Z"
   },
   {
    "duration": 235,
    "start_time": "2025-09-22T11:52:37.962Z"
   },
   {
    "duration": 227,
    "start_time": "2025-09-22T11:52:38.199Z"
   },
   {
    "duration": 160,
    "start_time": "2025-09-22T11:52:38.428Z"
   },
   {
    "duration": 118,
    "start_time": "2025-09-22T11:52:38.592Z"
   },
   {
    "duration": 198,
    "start_time": "2025-09-22T11:52:38.711Z"
   },
   {
    "duration": 10,
    "start_time": "2025-09-22T11:52:38.911Z"
   },
   {
    "duration": 123,
    "start_time": "2025-09-22T11:52:38.923Z"
   },
   {
    "duration": 167,
    "start_time": "2025-09-22T11:52:39.048Z"
   },
   {
    "duration": 103,
    "start_time": "2025-09-22T11:52:39.217Z"
   },
   {
    "duration": 169,
    "start_time": "2025-09-22T11:52:39.322Z"
   },
   {
    "duration": 1038,
    "start_time": "2025-09-22T12:17:48.532Z"
   },
   {
    "duration": 611,
    "start_time": "2025-09-22T12:18:03.234Z"
   },
   {
    "duration": 593,
    "start_time": "2025-09-22T12:19:12.005Z"
   },
   {
    "duration": 610,
    "start_time": "2025-09-22T12:19:33.570Z"
   },
   {
    "duration": 1428,
    "start_time": "2025-09-23T06:03:44.444Z"
   },
   {
    "duration": 2134,
    "start_time": "2025-09-23T06:03:45.874Z"
   },
   {
    "duration": 19,
    "start_time": "2025-09-23T06:03:48.010Z"
   },
   {
    "duration": 121,
    "start_time": "2025-09-23T06:03:48.032Z"
   },
   {
    "duration": 12,
    "start_time": "2025-09-23T06:03:48.155Z"
   },
   {
    "duration": 33,
    "start_time": "2025-09-23T06:03:48.169Z"
   },
   {
    "duration": 9,
    "start_time": "2025-09-23T06:03:48.204Z"
   },
   {
    "duration": 38,
    "start_time": "2025-09-23T06:03:48.215Z"
   },
   {
    "duration": 177,
    "start_time": "2025-09-23T06:03:48.255Z"
   },
   {
    "duration": 74,
    "start_time": "2025-09-23T06:03:48.435Z"
   },
   {
    "duration": 219,
    "start_time": "2025-09-23T06:03:48.511Z"
   },
   {
    "duration": 152,
    "start_time": "2025-09-23T06:03:48.731Z"
   },
   {
    "duration": 51,
    "start_time": "2025-09-23T06:03:48.885Z"
   },
   {
    "duration": 3,
    "start_time": "2025-09-23T06:03:48.938Z"
   },
   {
    "duration": 44,
    "start_time": "2025-09-23T06:03:48.942Z"
   },
   {
    "duration": 216,
    "start_time": "2025-09-23T06:03:48.988Z"
   },
   {
    "duration": 107,
    "start_time": "2025-09-23T06:03:49.206Z"
   },
   {
    "duration": 5771,
    "start_time": "2025-09-23T06:03:49.315Z"
   },
   {
    "duration": 53,
    "start_time": "2025-09-23T06:03:55.088Z"
   },
   {
    "duration": 30,
    "start_time": "2025-09-23T06:03:55.143Z"
   },
   {
    "duration": 52,
    "start_time": "2025-09-23T06:03:55.174Z"
   },
   {
    "duration": 59,
    "start_time": "2025-09-23T06:03:55.228Z"
   },
   {
    "duration": 518,
    "start_time": "2025-09-23T06:03:55.298Z"
   },
   {
    "duration": 52,
    "start_time": "2025-09-23T06:03:55.817Z"
   },
   {
    "duration": 244,
    "start_time": "2025-09-23T06:03:55.871Z"
   },
   {
    "duration": 211,
    "start_time": "2025-09-23T06:03:56.116Z"
   },
   {
    "duration": 157,
    "start_time": "2025-09-23T06:03:56.329Z"
   },
   {
    "duration": 112,
    "start_time": "2025-09-23T06:03:56.499Z"
   },
   {
    "duration": 208,
    "start_time": "2025-09-23T06:03:56.613Z"
   },
   {
    "duration": 11,
    "start_time": "2025-09-23T06:03:56.823Z"
   },
   {
    "duration": 133,
    "start_time": "2025-09-23T06:03:56.836Z"
   },
   {
    "duration": 164,
    "start_time": "2025-09-23T06:03:56.971Z"
   },
   {
    "duration": 107,
    "start_time": "2025-09-23T06:03:57.136Z"
   },
   {
    "duration": 172,
    "start_time": "2025-09-23T06:03:57.245Z"
   },
   {
    "duration": 110,
    "start_time": "2025-09-23T06:27:45.325Z"
   },
   {
    "duration": 8,
    "start_time": "2025-09-23T06:27:52.960Z"
   },
   {
    "duration": 9,
    "start_time": "2025-09-23T06:28:05.328Z"
   },
   {
    "duration": 183,
    "start_time": "2025-09-23T06:28:59.713Z"
   },
   {
    "duration": 8,
    "start_time": "2025-09-23T06:30:01.908Z"
   },
   {
    "duration": 10,
    "start_time": "2025-09-23T06:30:03.964Z"
   },
   {
    "duration": 114,
    "start_time": "2025-09-23T06:32:19.893Z"
   },
   {
    "duration": 193,
    "start_time": "2025-09-23T06:32:25.199Z"
   },
   {
    "duration": 8,
    "start_time": "2025-09-23T06:32:54.690Z"
   },
   {
    "duration": 8,
    "start_time": "2025-09-23T06:32:59.123Z"
   },
   {
    "duration": 107,
    "start_time": "2025-09-23T06:33:32.222Z"
   },
   {
    "duration": 1244,
    "start_time": "2025-09-23T06:51:31.519Z"
   },
   {
    "duration": 1840,
    "start_time": "2025-09-23T06:51:32.765Z"
   },
   {
    "duration": 20,
    "start_time": "2025-09-23T06:51:34.607Z"
   },
   {
    "duration": 174,
    "start_time": "2025-09-23T06:51:34.629Z"
   },
   {
    "duration": 11,
    "start_time": "2025-09-23T06:51:34.805Z"
   },
   {
    "duration": 46,
    "start_time": "2025-09-23T06:51:34.818Z"
   },
   {
    "duration": 13,
    "start_time": "2025-09-23T06:51:34.866Z"
   },
   {
    "duration": 43,
    "start_time": "2025-09-23T06:51:34.880Z"
   },
   {
    "duration": 210,
    "start_time": "2025-09-23T06:51:34.925Z"
   },
   {
    "duration": 76,
    "start_time": "2025-09-23T06:51:35.138Z"
   },
   {
    "duration": 220,
    "start_time": "2025-09-23T06:51:35.216Z"
   },
   {
    "duration": 159,
    "start_time": "2025-09-23T06:51:35.438Z"
   },
   {
    "duration": 42,
    "start_time": "2025-09-23T06:51:35.599Z"
   },
   {
    "duration": 4,
    "start_time": "2025-09-23T06:51:35.643Z"
   },
   {
    "duration": 51,
    "start_time": "2025-09-23T06:51:35.649Z"
   },
   {
    "duration": 219,
    "start_time": "2025-09-23T06:51:35.702Z"
   },
   {
    "duration": 116,
    "start_time": "2025-09-23T06:51:35.924Z"
   },
   {
    "duration": 5653,
    "start_time": "2025-09-23T06:51:36.041Z"
   },
   {
    "duration": 50,
    "start_time": "2025-09-23T06:51:41.695Z"
   },
   {
    "duration": 5,
    "start_time": "2025-09-23T06:51:41.747Z"
   },
   {
    "duration": 62,
    "start_time": "2025-09-23T06:51:41.753Z"
   },
   {
    "duration": 58,
    "start_time": "2025-09-23T06:51:41.817Z"
   },
   {
    "duration": 546,
    "start_time": "2025-09-23T06:51:41.877Z"
   },
   {
    "duration": 51,
    "start_time": "2025-09-23T06:51:42.425Z"
   },
   {
    "duration": 246,
    "start_time": "2025-09-23T06:51:42.478Z"
   },
   {
    "duration": 231,
    "start_time": "2025-09-23T06:51:42.725Z"
   },
   {
    "duration": 154,
    "start_time": "2025-09-23T06:51:42.957Z"
   },
   {
    "duration": 118,
    "start_time": "2025-09-23T06:51:43.114Z"
   },
   {
    "duration": 205,
    "start_time": "2025-09-23T06:51:43.234Z"
   },
   {
    "duration": 10,
    "start_time": "2025-09-23T06:51:43.440Z"
   },
   {
    "duration": 123,
    "start_time": "2025-09-23T06:51:43.452Z"
   },
   {
    "duration": 174,
    "start_time": "2025-09-23T06:51:43.577Z"
   },
   {
    "duration": 112,
    "start_time": "2025-09-23T06:51:43.753Z"
   },
   {
    "duration": 170,
    "start_time": "2025-09-23T06:51:43.866Z"
   },
   {
    "duration": 120,
    "start_time": "2025-09-23T06:51:44.038Z"
   },
   {
    "duration": 203,
    "start_time": "2025-09-23T06:51:44.159Z"
   },
   {
    "duration": 1405,
    "start_time": "2025-09-23T11:11:30.403Z"
   },
   {
    "duration": 1917,
    "start_time": "2025-09-23T11:11:31.811Z"
   },
   {
    "duration": 22,
    "start_time": "2025-09-23T11:11:33.730Z"
   },
   {
    "duration": 112,
    "start_time": "2025-09-23T11:11:33.754Z"
   },
   {
    "duration": 12,
    "start_time": "2025-09-23T11:11:33.867Z"
   },
   {
    "duration": 53,
    "start_time": "2025-09-23T11:11:33.888Z"
   },
   {
    "duration": 33,
    "start_time": "2025-09-23T11:11:33.943Z"
   },
   {
    "duration": 51,
    "start_time": "2025-09-23T11:11:33.977Z"
   },
   {
    "duration": 242,
    "start_time": "2025-09-23T11:11:34.030Z"
   },
   {
    "duration": 77,
    "start_time": "2025-09-23T11:11:34.275Z"
   },
   {
    "duration": 219,
    "start_time": "2025-09-23T11:11:34.353Z"
   },
   {
    "duration": 159,
    "start_time": "2025-09-23T11:11:34.574Z"
   },
   {
    "duration": 41,
    "start_time": "2025-09-23T11:11:34.734Z"
   },
   {
    "duration": 11,
    "start_time": "2025-09-23T11:11:34.777Z"
   },
   {
    "duration": 37,
    "start_time": "2025-09-23T11:11:34.790Z"
   },
   {
    "duration": 213,
    "start_time": "2025-09-23T11:11:34.829Z"
   },
   {
    "duration": 103,
    "start_time": "2025-09-23T11:11:35.044Z"
   },
   {
    "duration": 5400,
    "start_time": "2025-09-23T11:11:35.149Z"
   },
   {
    "duration": 56,
    "start_time": "2025-09-23T11:11:40.551Z"
   },
   {
    "duration": 5,
    "start_time": "2025-09-23T11:11:40.608Z"
   },
   {
    "duration": 66,
    "start_time": "2025-09-23T11:11:40.615Z"
   },
   {
    "duration": 54,
    "start_time": "2025-09-23T11:11:40.683Z"
   },
   {
    "duration": 483,
    "start_time": "2025-09-23T11:11:40.739Z"
   },
   {
    "duration": 48,
    "start_time": "2025-09-23T11:11:41.223Z"
   },
   {
    "duration": 223,
    "start_time": "2025-09-23T11:11:41.273Z"
   },
   {
    "duration": 180,
    "start_time": "2025-09-23T11:11:41.498Z"
   },
   {
    "duration": 145,
    "start_time": "2025-09-23T11:11:41.680Z"
   },
   {
    "duration": 113,
    "start_time": "2025-09-23T11:11:41.828Z"
   },
   {
    "duration": 186,
    "start_time": "2025-09-23T11:11:41.943Z"
   },
   {
    "duration": 8,
    "start_time": "2025-09-23T11:11:42.131Z"
   },
   {
    "duration": 113,
    "start_time": "2025-09-23T11:11:42.141Z"
   },
   {
    "duration": 159,
    "start_time": "2025-09-23T11:11:42.256Z"
   },
   {
    "duration": 103,
    "start_time": "2025-09-23T11:11:42.417Z"
   },
   {
    "duration": 170,
    "start_time": "2025-09-23T11:11:42.521Z"
   },
   {
    "duration": 112,
    "start_time": "2025-09-23T11:11:42.692Z"
   },
   {
    "duration": 186,
    "start_time": "2025-09-23T11:11:42.805Z"
   },
   {
    "duration": 113,
    "start_time": "2025-09-23T12:10:41.499Z"
   },
   {
    "duration": 62,
    "start_time": "2025-09-23T12:11:05.416Z"
   },
   {
    "duration": 108,
    "start_time": "2025-09-23T12:11:33.810Z"
   },
   {
    "duration": 93,
    "start_time": "2025-09-23T12:11:58.431Z"
   },
   {
    "duration": 76,
    "start_time": "2025-09-23T12:16:13.005Z"
   },
   {
    "duration": 1854,
    "start_time": "2025-09-23T12:17:41.241Z"
   },
   {
    "duration": 1279,
    "start_time": "2025-09-23T12:19:27.709Z"
   },
   {
    "duration": 347,
    "start_time": "2025-09-23T12:20:04.147Z"
   },
   {
    "duration": 306,
    "start_time": "2025-09-23T12:20:42.151Z"
   },
   {
    "duration": 376,
    "start_time": "2025-09-23T12:22:02.535Z"
   },
   {
    "duration": 358,
    "start_time": "2025-09-23T12:22:14.229Z"
   },
   {
    "duration": 380,
    "start_time": "2025-09-23T12:23:45.309Z"
   },
   {
    "duration": 55,
    "start_time": "2025-09-23T12:26:58.052Z"
   },
   {
    "duration": 366,
    "start_time": "2025-09-23T12:27:58.501Z"
   },
   {
    "duration": 393,
    "start_time": "2025-09-23T12:30:39.219Z"
   },
   {
    "duration": 81,
    "start_time": "2025-09-23T12:31:18.405Z"
   },
   {
    "duration": 116,
    "start_time": "2025-09-23T12:31:41.670Z"
   },
   {
    "duration": 80,
    "start_time": "2025-09-23T12:32:40.118Z"
   },
   {
    "duration": 416,
    "start_time": "2025-09-23T12:32:57.980Z"
   },
   {
    "duration": 11,
    "start_time": "2025-09-23T12:33:26.651Z"
   },
   {
    "duration": 386,
    "start_time": "2025-09-23T12:34:24.639Z"
   },
   {
    "duration": 398,
    "start_time": "2025-09-23T12:34:59.440Z"
   },
   {
    "duration": 380,
    "start_time": "2025-09-23T12:35:28.623Z"
   },
   {
    "duration": 385,
    "start_time": "2025-09-23T12:38:09.719Z"
   },
   {
    "duration": 14,
    "start_time": "2025-09-23T12:38:13.315Z"
   },
   {
    "duration": 14,
    "start_time": "2025-09-23T12:40:38.929Z"
   },
   {
    "duration": 405,
    "start_time": "2025-09-23T12:41:11.564Z"
   },
   {
    "duration": 85,
    "start_time": "2025-09-23T12:42:34.581Z"
   },
   {
    "duration": 282,
    "start_time": "2025-09-23T12:43:37.530Z"
   },
   {
    "duration": 435,
    "start_time": "2025-09-23T12:47:33.954Z"
   },
   {
    "duration": 393,
    "start_time": "2025-09-23T12:51:09.567Z"
   },
   {
    "duration": 267,
    "start_time": "2025-09-23T12:51:34.003Z"
   },
   {
    "duration": 386,
    "start_time": "2025-09-23T12:52:36.522Z"
   },
   {
    "duration": 389,
    "start_time": "2025-09-23T12:52:48.878Z"
   },
   {
    "duration": 12,
    "start_time": "2025-09-23T12:53:12.847Z"
   },
   {
    "duration": 305,
    "start_time": "2025-09-23T12:53:17.970Z"
   },
   {
    "duration": 15,
    "start_time": "2025-09-23T12:53:20.836Z"
   },
   {
    "duration": 594,
    "start_time": "2025-09-23T12:53:45.723Z"
   },
   {
    "duration": 12,
    "start_time": "2025-09-23T12:55:51.943Z"
   },
   {
    "duration": 2,
    "start_time": "2025-09-23T12:56:16.149Z"
   },
   {
    "duration": 297,
    "start_time": "2025-09-23T12:56:18.988Z"
   },
   {
    "duration": 292,
    "start_time": "2025-09-23T12:56:29.821Z"
   },
   {
    "duration": 1133,
    "start_time": "2025-09-23T12:57:04.443Z"
   },
   {
    "duration": 1977,
    "start_time": "2025-09-23T12:57:05.578Z"
   },
   {
    "duration": 17,
    "start_time": "2025-09-23T12:57:07.557Z"
   },
   {
    "duration": 102,
    "start_time": "2025-09-23T12:57:07.577Z"
   },
   {
    "duration": 18,
    "start_time": "2025-09-23T12:57:07.681Z"
   },
   {
    "duration": 47,
    "start_time": "2025-09-23T12:57:07.701Z"
   },
   {
    "duration": 13,
    "start_time": "2025-09-23T12:57:07.750Z"
   },
   {
    "duration": 14,
    "start_time": "2025-09-23T12:57:07.765Z"
   },
   {
    "duration": 212,
    "start_time": "2025-09-23T12:57:07.781Z"
   },
   {
    "duration": 77,
    "start_time": "2025-09-23T12:57:07.996Z"
   },
   {
    "duration": 231,
    "start_time": "2025-09-23T12:57:08.074Z"
   },
   {
    "duration": 183,
    "start_time": "2025-09-23T12:57:08.307Z"
   },
   {
    "duration": 48,
    "start_time": "2025-09-23T12:57:08.492Z"
   },
   {
    "duration": 6,
    "start_time": "2025-09-23T12:57:08.542Z"
   },
   {
    "duration": 62,
    "start_time": "2025-09-23T12:57:08.549Z"
   },
   {
    "duration": 209,
    "start_time": "2025-09-23T12:57:08.613Z"
   },
   {
    "duration": 107,
    "start_time": "2025-09-23T12:57:08.824Z"
   },
   {
    "duration": 5538,
    "start_time": "2025-09-23T12:57:08.933Z"
   },
   {
    "duration": 56,
    "start_time": "2025-09-23T12:57:14.473Z"
   },
   {
    "duration": 5,
    "start_time": "2025-09-23T12:57:14.530Z"
   },
   {
    "duration": 73,
    "start_time": "2025-09-23T12:57:14.536Z"
   },
   {
    "duration": 55,
    "start_time": "2025-09-23T12:57:14.611Z"
   },
   {
    "duration": 543,
    "start_time": "2025-09-23T12:57:14.668Z"
   },
   {
    "duration": 81,
    "start_time": "2025-09-23T12:57:15.213Z"
   },
   {
    "duration": 230,
    "start_time": "2025-09-23T12:57:15.296Z"
   },
   {
    "duration": 197,
    "start_time": "2025-09-23T12:57:15.527Z"
   },
   {
    "duration": 146,
    "start_time": "2025-09-23T12:57:15.726Z"
   },
   {
    "duration": 129,
    "start_time": "2025-09-23T12:57:15.875Z"
   },
   {
    "duration": 210,
    "start_time": "2025-09-23T12:57:16.006Z"
   },
   {
    "duration": 9,
    "start_time": "2025-09-23T12:57:16.218Z"
   },
   {
    "duration": 128,
    "start_time": "2025-09-23T12:57:16.229Z"
   },
   {
    "duration": 178,
    "start_time": "2025-09-23T12:57:16.359Z"
   },
   {
    "duration": 111,
    "start_time": "2025-09-23T12:57:16.538Z"
   },
   {
    "duration": 172,
    "start_time": "2025-09-23T12:57:16.651Z"
   },
   {
    "duration": 116,
    "start_time": "2025-09-23T12:57:16.824Z"
   },
   {
    "duration": 196,
    "start_time": "2025-09-23T12:57:16.942Z"
   },
   {
    "duration": 432,
    "start_time": "2025-09-23T12:57:17.140Z"
   },
   {
    "duration": 325,
    "start_time": "2025-09-23T12:57:17.573Z"
   },
   {
    "duration": 13,
    "start_time": "2025-09-23T12:57:17.900Z"
   },
   {
    "duration": 1338,
    "start_time": "2025-09-24T06:40:06.933Z"
   },
   {
    "duration": 1914,
    "start_time": "2025-09-24T06:40:08.273Z"
   },
   {
    "duration": 19,
    "start_time": "2025-09-24T06:40:10.188Z"
   },
   {
    "duration": 150,
    "start_time": "2025-09-24T06:40:10.210Z"
   },
   {
    "duration": 12,
    "start_time": "2025-09-24T06:40:10.362Z"
   },
   {
    "duration": 55,
    "start_time": "2025-09-24T06:40:10.375Z"
   },
   {
    "duration": 13,
    "start_time": "2025-09-24T06:40:10.432Z"
   },
   {
    "duration": 27,
    "start_time": "2025-09-24T06:40:10.446Z"
   },
   {
    "duration": 184,
    "start_time": "2025-09-24T06:40:10.475Z"
   },
   {
    "duration": 63,
    "start_time": "2025-09-24T06:40:10.662Z"
   },
   {
    "duration": 222,
    "start_time": "2025-09-24T06:40:10.726Z"
   },
   {
    "duration": 165,
    "start_time": "2025-09-24T06:40:10.950Z"
   },
   {
    "duration": 48,
    "start_time": "2025-09-24T06:40:11.116Z"
   },
   {
    "duration": 3,
    "start_time": "2025-09-24T06:40:11.166Z"
   },
   {
    "duration": 44,
    "start_time": "2025-09-24T06:40:11.171Z"
   },
   {
    "duration": 215,
    "start_time": "2025-09-24T06:40:11.216Z"
   },
   {
    "duration": 96,
    "start_time": "2025-09-24T06:40:11.432Z"
   },
   {
    "duration": 5180,
    "start_time": "2025-09-24T06:40:11.540Z"
   },
   {
    "duration": 55,
    "start_time": "2025-09-24T06:40:16.722Z"
   },
   {
    "duration": 6,
    "start_time": "2025-09-24T06:40:16.778Z"
   },
   {
    "duration": 56,
    "start_time": "2025-09-24T06:40:16.786Z"
   },
   {
    "duration": 51,
    "start_time": "2025-09-24T06:40:16.844Z"
   },
   {
    "duration": 491,
    "start_time": "2025-09-24T06:40:16.896Z"
   },
   {
    "duration": 56,
    "start_time": "2025-09-24T06:40:17.389Z"
   },
   {
    "duration": 227,
    "start_time": "2025-09-24T06:40:17.447Z"
   },
   {
    "duration": 186,
    "start_time": "2025-09-24T06:40:17.676Z"
   },
   {
    "duration": 146,
    "start_time": "2025-09-24T06:40:17.864Z"
   },
   {
    "duration": 108,
    "start_time": "2025-09-24T06:40:18.015Z"
   },
   {
    "duration": 192,
    "start_time": "2025-09-24T06:40:18.125Z"
   },
   {
    "duration": 20,
    "start_time": "2025-09-24T06:40:18.320Z"
   },
   {
    "duration": 161,
    "start_time": "2025-09-24T06:40:18.342Z"
   },
   {
    "duration": 155,
    "start_time": "2025-09-24T06:40:18.505Z"
   },
   {
    "duration": 101,
    "start_time": "2025-09-24T06:40:18.661Z"
   },
   {
    "duration": 161,
    "start_time": "2025-09-24T06:40:18.764Z"
   },
   {
    "duration": 107,
    "start_time": "2025-09-24T06:40:18.938Z"
   },
   {
    "duration": 178,
    "start_time": "2025-09-24T06:40:19.047Z"
   },
   {
    "duration": 383,
    "start_time": "2025-09-24T06:40:19.227Z"
   },
   {
    "duration": 282,
    "start_time": "2025-09-24T06:40:19.612Z"
   },
   {
    "duration": 14,
    "start_time": "2025-09-24T06:40:19.895Z"
   },
   {
    "duration": 177,
    "start_time": "2025-09-24T07:58:55.267Z"
   },
   {
    "duration": 1549,
    "start_time": "2025-09-24T08:05:56.768Z"
   },
   {
    "duration": 455,
    "start_time": "2025-09-24T08:06:43.712Z"
   },
   {
    "duration": 472,
    "start_time": "2025-09-24T08:08:01.638Z"
   },
   {
    "duration": 442,
    "start_time": "2025-09-24T08:08:49.536Z"
   },
   {
    "duration": 290,
    "start_time": "2025-09-24T08:09:55.676Z"
   },
   {
    "duration": 1168,
    "start_time": "2025-09-24T08:12:58.801Z"
   },
   {
    "duration": 1789,
    "start_time": "2025-09-24T08:12:59.971Z"
   },
   {
    "duration": 18,
    "start_time": "2025-09-24T08:13:01.762Z"
   },
   {
    "duration": 155,
    "start_time": "2025-09-24T08:13:01.782Z"
   },
   {
    "duration": 12,
    "start_time": "2025-09-24T08:13:01.939Z"
   },
   {
    "duration": 44,
    "start_time": "2025-09-24T08:13:01.953Z"
   },
   {
    "duration": 48,
    "start_time": "2025-09-24T08:13:01.999Z"
   },
   {
    "duration": 46,
    "start_time": "2025-09-24T08:13:02.049Z"
   },
   {
    "duration": 205,
    "start_time": "2025-09-24T08:13:02.096Z"
   },
   {
    "duration": 68,
    "start_time": "2025-09-24T08:13:02.303Z"
   },
   {
    "duration": 207,
    "start_time": "2025-09-24T08:13:02.372Z"
   },
   {
    "duration": 155,
    "start_time": "2025-09-24T08:13:02.581Z"
   },
   {
    "duration": 39,
    "start_time": "2025-09-24T08:13:02.738Z"
   },
   {
    "duration": 25,
    "start_time": "2025-09-24T08:13:02.779Z"
   },
   {
    "duration": 87,
    "start_time": "2025-09-24T08:13:02.805Z"
   },
   {
    "duration": 220,
    "start_time": "2025-09-24T08:13:02.894Z"
   },
   {
    "duration": 96,
    "start_time": "2025-09-24T08:13:03.116Z"
   },
   {
    "duration": 5286,
    "start_time": "2025-09-24T08:13:03.213Z"
   },
   {
    "duration": 56,
    "start_time": "2025-09-24T08:13:08.500Z"
   },
   {
    "duration": 139,
    "start_time": "2025-09-24T08:13:08.558Z"
   },
   {
    "duration": 64,
    "start_time": "2025-09-24T08:13:08.699Z"
   },
   {
    "duration": 52,
    "start_time": "2025-09-24T08:13:08.765Z"
   },
   {
    "duration": 491,
    "start_time": "2025-09-24T08:13:08.818Z"
   },
   {
    "duration": 56,
    "start_time": "2025-09-24T08:13:09.311Z"
   },
   {
    "duration": 215,
    "start_time": "2025-09-24T08:13:09.369Z"
   },
   {
    "duration": 182,
    "start_time": "2025-09-24T08:13:09.586Z"
   },
   {
    "duration": 140,
    "start_time": "2025-09-24T08:13:09.769Z"
   },
   {
    "duration": 114,
    "start_time": "2025-09-24T08:13:09.912Z"
   },
   {
    "duration": 197,
    "start_time": "2025-09-24T08:13:10.028Z"
   },
   {
    "duration": 13,
    "start_time": "2025-09-24T08:13:10.227Z"
   },
   {
    "duration": 125,
    "start_time": "2025-09-24T08:13:10.241Z"
   },
   {
    "duration": 160,
    "start_time": "2025-09-24T08:13:10.367Z"
   },
   {
    "duration": 102,
    "start_time": "2025-09-24T08:13:10.529Z"
   },
   {
    "duration": 212,
    "start_time": "2025-09-24T08:13:10.633Z"
   },
   {
    "duration": 132,
    "start_time": "2025-09-24T08:13:10.846Z"
   },
   {
    "duration": 182,
    "start_time": "2025-09-24T08:13:10.980Z"
   },
   {
    "duration": 389,
    "start_time": "2025-09-24T08:13:11.163Z"
   },
   {
    "duration": 285,
    "start_time": "2025-09-24T08:13:11.554Z"
   },
   {
    "duration": 282,
    "start_time": "2025-09-24T08:13:11.840Z"
   },
   {
    "duration": 53,
    "start_time": "2025-09-24T08:13:12.124Z"
   },
   {
    "duration": 1373,
    "start_time": "2025-09-24T12:49:21.253Z"
   },
   {
    "duration": 1878,
    "start_time": "2025-09-24T12:49:22.628Z"
   },
   {
    "duration": 18,
    "start_time": "2025-09-24T12:49:24.507Z"
   },
   {
    "duration": 119,
    "start_time": "2025-09-24T12:49:24.527Z"
   },
   {
    "duration": 12,
    "start_time": "2025-09-24T12:49:24.656Z"
   },
   {
    "duration": 27,
    "start_time": "2025-09-24T12:49:24.670Z"
   },
   {
    "duration": 9,
    "start_time": "2025-09-24T12:49:24.699Z"
   },
   {
    "duration": 33,
    "start_time": "2025-09-24T12:49:24.709Z"
   },
   {
    "duration": 210,
    "start_time": "2025-09-24T12:49:24.752Z"
   },
   {
    "duration": 92,
    "start_time": "2025-09-24T12:49:24.965Z"
   },
   {
    "duration": 222,
    "start_time": "2025-09-24T12:49:25.059Z"
   },
   {
    "duration": 178,
    "start_time": "2025-09-24T12:49:25.282Z"
   },
   {
    "duration": 40,
    "start_time": "2025-09-24T12:49:25.462Z"
   },
   {
    "duration": 2,
    "start_time": "2025-09-24T12:49:25.506Z"
   },
   {
    "duration": 55,
    "start_time": "2025-09-24T12:49:25.509Z"
   },
   {
    "duration": 264,
    "start_time": "2025-09-24T12:49:25.566Z"
   },
   {
    "duration": 126,
    "start_time": "2025-09-24T12:49:25.832Z"
   },
   {
    "duration": 5955,
    "start_time": "2025-09-24T12:49:25.960Z"
   },
   {
    "duration": 62,
    "start_time": "2025-09-24T12:49:31.917Z"
   },
   {
    "duration": 5,
    "start_time": "2025-09-24T12:49:31.981Z"
   },
   {
    "duration": 59,
    "start_time": "2025-09-24T12:49:31.988Z"
   },
   {
    "duration": 63,
    "start_time": "2025-09-24T12:49:32.056Z"
   },
   {
    "duration": 539,
    "start_time": "2025-09-24T12:49:32.121Z"
   },
   {
    "duration": 49,
    "start_time": "2025-09-24T12:49:32.662Z"
   },
   {
    "duration": 266,
    "start_time": "2025-09-24T12:49:32.712Z"
   },
   {
    "duration": 212,
    "start_time": "2025-09-24T12:49:32.980Z"
   },
   {
    "duration": 153,
    "start_time": "2025-09-24T12:49:33.194Z"
   },
   {
    "duration": 118,
    "start_time": "2025-09-24T12:49:33.354Z"
   },
   {
    "duration": 216,
    "start_time": "2025-09-24T12:49:33.475Z"
   },
   {
    "duration": 9,
    "start_time": "2025-09-24T12:49:33.693Z"
   },
   {
    "duration": 144,
    "start_time": "2025-09-24T12:49:33.703Z"
   },
   {
    "duration": 184,
    "start_time": "2025-09-24T12:49:33.850Z"
   },
   {
    "duration": 115,
    "start_time": "2025-09-24T12:49:34.035Z"
   },
   {
    "duration": 164,
    "start_time": "2025-09-24T12:49:34.158Z"
   },
   {
    "duration": 128,
    "start_time": "2025-09-24T12:49:34.324Z"
   },
   {
    "duration": 176,
    "start_time": "2025-09-24T12:49:34.454Z"
   },
   {
    "duration": 443,
    "start_time": "2025-09-24T12:49:34.632Z"
   },
   {
    "duration": 348,
    "start_time": "2025-09-24T12:49:35.077Z"
   },
   {
    "duration": 375,
    "start_time": "2025-09-24T12:49:35.427Z"
   },
   {
    "duration": 52,
    "start_time": "2025-09-24T12:49:35.803Z"
   },
   {
    "duration": 314,
    "start_time": "2025-09-24T12:55:12.346Z"
   },
   {
    "duration": 333,
    "start_time": "2025-09-24T12:58:10.943Z"
   },
   {
    "duration": 320,
    "start_time": "2025-09-24T12:59:13.427Z"
   },
   {
    "duration": 285,
    "start_time": "2025-09-24T12:59:40.676Z"
   },
   {
    "duration": 1146,
    "start_time": "2025-09-24T13:16:56.146Z"
   },
   {
    "duration": 1795,
    "start_time": "2025-09-24T13:16:57.295Z"
   },
   {
    "duration": 17,
    "start_time": "2025-09-24T13:16:59.091Z"
   },
   {
    "duration": 117,
    "start_time": "2025-09-24T13:16:59.110Z"
   },
   {
    "duration": 16,
    "start_time": "2025-09-24T13:16:59.229Z"
   },
   {
    "duration": 20,
    "start_time": "2025-09-24T13:16:59.247Z"
   },
   {
    "duration": 9,
    "start_time": "2025-09-24T13:16:59.269Z"
   },
   {
    "duration": 27,
    "start_time": "2025-09-24T13:16:59.279Z"
   },
   {
    "duration": 202,
    "start_time": "2025-09-24T13:16:59.307Z"
   },
   {
    "duration": 71,
    "start_time": "2025-09-24T13:16:59.512Z"
   },
   {
    "duration": 209,
    "start_time": "2025-09-24T13:16:59.585Z"
   },
   {
    "duration": 147,
    "start_time": "2025-09-24T13:16:59.796Z"
   },
   {
    "duration": 40,
    "start_time": "2025-09-24T13:16:59.945Z"
   },
   {
    "duration": 2,
    "start_time": "2025-09-24T13:16:59.987Z"
   },
   {
    "duration": 58,
    "start_time": "2025-09-24T13:16:59.991Z"
   },
   {
    "duration": 235,
    "start_time": "2025-09-24T13:17:00.051Z"
   },
   {
    "duration": 102,
    "start_time": "2025-09-24T13:17:00.288Z"
   },
   {
    "duration": 5466,
    "start_time": "2025-09-24T13:17:00.392Z"
   },
   {
    "duration": 48,
    "start_time": "2025-09-24T13:17:05.860Z"
   },
   {
    "duration": 6,
    "start_time": "2025-09-24T13:17:05.910Z"
   },
   {
    "duration": 67,
    "start_time": "2025-09-24T13:17:05.918Z"
   },
   {
    "duration": 70,
    "start_time": "2025-09-24T13:17:05.987Z"
   },
   {
    "duration": 476,
    "start_time": "2025-09-24T13:17:06.059Z"
   },
   {
    "duration": 48,
    "start_time": "2025-09-24T13:17:06.539Z"
   },
   {
    "duration": 226,
    "start_time": "2025-09-24T13:17:06.589Z"
   },
   {
    "duration": 183,
    "start_time": "2025-09-24T13:17:06.817Z"
   },
   {
    "duration": 143,
    "start_time": "2025-09-24T13:17:07.001Z"
   },
   {
    "duration": 150,
    "start_time": "2025-09-24T13:17:07.148Z"
   },
   {
    "duration": 183,
    "start_time": "2025-09-24T13:17:07.300Z"
   },
   {
    "duration": 8,
    "start_time": "2025-09-24T13:17:07.485Z"
   },
   {
    "duration": 141,
    "start_time": "2025-09-24T13:17:07.495Z"
   },
   {
    "duration": 147,
    "start_time": "2025-09-24T13:17:07.637Z"
   },
   {
    "duration": 103,
    "start_time": "2025-09-24T13:17:07.786Z"
   },
   {
    "duration": 151,
    "start_time": "2025-09-24T13:17:07.891Z"
   },
   {
    "duration": 113,
    "start_time": "2025-09-24T13:17:08.045Z"
   },
   {
    "duration": 182,
    "start_time": "2025-09-24T13:17:08.159Z"
   },
   {
    "duration": 392,
    "start_time": "2025-09-24T13:17:08.343Z"
   },
   {
    "duration": 303,
    "start_time": "2025-09-24T13:17:08.737Z"
   },
   {
    "duration": 272,
    "start_time": "2025-09-24T13:17:09.049Z"
   },
   {
    "duration": 101,
    "start_time": "2025-09-24T13:27:14.239Z"
   },
   {
    "duration": 174,
    "start_time": "2025-09-24T13:27:34.296Z"
   },
   {
    "duration": 87,
    "start_time": "2025-09-24T13:28:03.546Z"
   },
   {
    "duration": 114,
    "start_time": "2025-09-24T13:28:17.542Z"
   },
   {
    "duration": 90,
    "start_time": "2025-09-24T13:28:57.182Z"
   },
   {
    "duration": 85,
    "start_time": "2025-09-24T13:29:03.877Z"
   },
   {
    "duration": 115,
    "start_time": "2025-09-24T13:32:53.359Z"
   },
   {
    "duration": 96,
    "start_time": "2025-09-24T13:35:58.586Z"
   },
   {
    "duration": 83,
    "start_time": "2025-09-24T13:36:28.085Z"
   },
   {
    "duration": 88,
    "start_time": "2025-09-24T13:36:40.997Z"
   },
   {
    "duration": 94,
    "start_time": "2025-09-24T13:37:09.927Z"
   },
   {
    "duration": 99,
    "start_time": "2025-09-24T13:37:46.121Z"
   },
   {
    "duration": 93,
    "start_time": "2025-09-24T13:38:38.429Z"
   },
   {
    "duration": 140,
    "start_time": "2025-09-24T13:40:10.629Z"
   },
   {
    "duration": 115,
    "start_time": "2025-09-24T13:40:19.393Z"
   },
   {
    "duration": 123,
    "start_time": "2025-09-24T13:40:34.721Z"
   },
   {
    "duration": 105,
    "start_time": "2025-09-24T13:41:04.083Z"
   },
   {
    "duration": 119,
    "start_time": "2025-09-24T13:41:27.996Z"
   },
   {
    "duration": 1220,
    "start_time": "2025-09-24T13:41:49.896Z"
   },
   {
    "duration": 2243,
    "start_time": "2025-09-24T13:41:51.118Z"
   },
   {
    "duration": 29,
    "start_time": "2025-09-24T13:41:53.363Z"
   },
   {
    "duration": 243,
    "start_time": "2025-09-24T13:41:53.394Z"
   },
   {
    "duration": 12,
    "start_time": "2025-09-24T13:41:53.639Z"
   },
   {
    "duration": 34,
    "start_time": "2025-09-24T13:41:53.653Z"
   },
   {
    "duration": 109,
    "start_time": "2025-09-24T13:41:53.689Z"
   },
   {
    "duration": 31,
    "start_time": "2025-09-24T13:41:53.800Z"
   },
   {
    "duration": 213,
    "start_time": "2025-09-24T13:41:53.833Z"
   },
   {
    "duration": 70,
    "start_time": "2025-09-24T13:41:54.049Z"
   },
   {
    "duration": 225,
    "start_time": "2025-09-24T13:41:54.120Z"
   },
   {
    "duration": 185,
    "start_time": "2025-09-24T13:41:54.347Z"
   },
   {
    "duration": 48,
    "start_time": "2025-09-24T13:41:54.533Z"
   },
   {
    "duration": 3,
    "start_time": "2025-09-24T13:41:54.583Z"
   },
   {
    "duration": 52,
    "start_time": "2025-09-24T13:41:54.588Z"
   },
   {
    "duration": 241,
    "start_time": "2025-09-24T13:41:54.643Z"
   },
   {
    "duration": 105,
    "start_time": "2025-09-24T13:41:54.886Z"
   },
   {
    "duration": 5454,
    "start_time": "2025-09-24T13:41:54.994Z"
   },
   {
    "duration": 50,
    "start_time": "2025-09-24T13:42:00.450Z"
   },
   {
    "duration": 6,
    "start_time": "2025-09-24T13:42:00.502Z"
   },
   {
    "duration": 79,
    "start_time": "2025-09-24T13:42:00.509Z"
   },
   {
    "duration": 82,
    "start_time": "2025-09-24T13:42:00.590Z"
   },
   {
    "duration": 531,
    "start_time": "2025-09-24T13:42:00.674Z"
   },
   {
    "duration": 62,
    "start_time": "2025-09-24T13:42:01.207Z"
   },
   {
    "duration": 279,
    "start_time": "2025-09-24T13:42:01.271Z"
   },
   {
    "duration": 269,
    "start_time": "2025-09-24T13:42:01.551Z"
   },
   {
    "duration": 153,
    "start_time": "2025-09-24T13:42:01.822Z"
   },
   {
    "duration": 123,
    "start_time": "2025-09-24T13:42:01.979Z"
   },
   {
    "duration": 204,
    "start_time": "2025-09-24T13:42:02.105Z"
   },
   {
    "duration": 9,
    "start_time": "2025-09-24T13:42:02.311Z"
   },
   {
    "duration": 189,
    "start_time": "2025-09-24T13:42:02.322Z"
   },
   {
    "duration": 167,
    "start_time": "2025-09-24T13:42:02.513Z"
   },
   {
    "duration": 101,
    "start_time": "2025-09-24T13:42:02.682Z"
   },
   {
    "duration": 162,
    "start_time": "2025-09-24T13:42:02.785Z"
   },
   {
    "duration": 130,
    "start_time": "2025-09-24T13:42:02.949Z"
   },
   {
    "duration": 186,
    "start_time": "2025-09-24T13:42:03.080Z"
   },
   {
    "duration": 420,
    "start_time": "2025-09-24T13:42:03.268Z"
   },
   {
    "duration": 292,
    "start_time": "2025-09-24T13:42:03.690Z"
   },
   {
    "duration": 277,
    "start_time": "2025-09-24T13:42:03.984Z"
   },
   {
    "duration": 118,
    "start_time": "2025-09-24T13:42:04.263Z"
   },
   {
    "duration": 125,
    "start_time": "2025-09-24T13:42:04.383Z"
   },
   {
    "duration": 1551,
    "start_time": "2025-09-25T06:19:36.395Z"
   },
   {
    "duration": 2332,
    "start_time": "2025-09-25T06:19:37.948Z"
   },
   {
    "duration": 19,
    "start_time": "2025-09-25T06:19:40.282Z"
   },
   {
    "duration": 108,
    "start_time": "2025-09-25T06:19:40.303Z"
   },
   {
    "duration": 12,
    "start_time": "2025-09-25T06:19:40.413Z"
   },
   {
    "duration": 22,
    "start_time": "2025-09-25T06:19:40.427Z"
   },
   {
    "duration": 9,
    "start_time": "2025-09-25T06:19:40.451Z"
   },
   {
    "duration": 27,
    "start_time": "2025-09-25T06:19:40.462Z"
   },
   {
    "duration": 184,
    "start_time": "2025-09-25T06:19:40.491Z"
   },
   {
    "duration": 79,
    "start_time": "2025-09-25T06:19:40.676Z"
   },
   {
    "duration": 230,
    "start_time": "2025-09-25T06:19:40.756Z"
   },
   {
    "duration": 159,
    "start_time": "2025-09-25T06:19:40.987Z"
   },
   {
    "duration": 43,
    "start_time": "2025-09-25T06:19:41.148Z"
   },
   {
    "duration": 2,
    "start_time": "2025-09-25T06:19:41.194Z"
   },
   {
    "duration": 40,
    "start_time": "2025-09-25T06:19:41.213Z"
   },
   {
    "duration": 263,
    "start_time": "2025-09-25T06:19:41.255Z"
   },
   {
    "duration": 131,
    "start_time": "2025-09-25T06:19:41.519Z"
   },
   {
    "duration": 5891,
    "start_time": "2025-09-25T06:19:41.652Z"
   },
   {
    "duration": 47,
    "start_time": "2025-09-25T06:19:47.545Z"
   },
   {
    "duration": 19,
    "start_time": "2025-09-25T06:19:47.595Z"
   },
   {
    "duration": 49,
    "start_time": "2025-09-25T06:19:47.617Z"
   },
   {
    "duration": 77,
    "start_time": "2025-09-25T06:19:47.668Z"
   },
   {
    "duration": 531,
    "start_time": "2025-09-25T06:19:47.747Z"
   },
   {
    "duration": 63,
    "start_time": "2025-09-25T06:19:48.280Z"
   },
   {
    "duration": 235,
    "start_time": "2025-09-25T06:19:48.345Z"
   },
   {
    "duration": 204,
    "start_time": "2025-09-25T06:19:48.582Z"
   },
   {
    "duration": 151,
    "start_time": "2025-09-25T06:19:48.788Z"
   },
   {
    "duration": 126,
    "start_time": "2025-09-25T06:19:48.942Z"
   },
   {
    "duration": 202,
    "start_time": "2025-09-25T06:19:49.069Z"
   },
   {
    "duration": 9,
    "start_time": "2025-09-25T06:19:49.272Z"
   },
   {
    "duration": 123,
    "start_time": "2025-09-25T06:19:49.283Z"
   },
   {
    "duration": 172,
    "start_time": "2025-09-25T06:19:49.414Z"
   },
   {
    "duration": 101,
    "start_time": "2025-09-25T06:19:49.588Z"
   },
   {
    "duration": 179,
    "start_time": "2025-09-25T06:19:49.691Z"
   },
   {
    "duration": 116,
    "start_time": "2025-09-25T06:19:49.872Z"
   },
   {
    "duration": 198,
    "start_time": "2025-09-25T06:19:49.990Z"
   },
   {
    "duration": 441,
    "start_time": "2025-09-25T06:19:50.190Z"
   },
   {
    "duration": 317,
    "start_time": "2025-09-25T06:19:50.632Z"
   },
   {
    "duration": 296,
    "start_time": "2025-09-25T06:19:50.951Z"
   },
   {
    "duration": 106,
    "start_time": "2025-09-25T06:19:51.249Z"
   },
   {
    "duration": 113,
    "start_time": "2025-09-25T06:19:51.359Z"
   },
   {
    "duration": 1132,
    "start_time": "2025-09-25T06:33:03.265Z"
   },
   {
    "duration": 1735,
    "start_time": "2025-09-25T06:33:04.399Z"
   },
   {
    "duration": 18,
    "start_time": "2025-09-25T06:33:06.136Z"
   },
   {
    "duration": 137,
    "start_time": "2025-09-25T06:33:06.157Z"
   },
   {
    "duration": 13,
    "start_time": "2025-09-25T06:33:06.295Z"
   },
   {
    "duration": 30,
    "start_time": "2025-09-25T06:33:06.309Z"
   },
   {
    "duration": 9,
    "start_time": "2025-09-25T06:33:06.341Z"
   },
   {
    "duration": 25,
    "start_time": "2025-09-25T06:33:06.352Z"
   },
   {
    "duration": 198,
    "start_time": "2025-09-25T06:33:06.378Z"
   },
   {
    "duration": 81,
    "start_time": "2025-09-25T06:33:06.579Z"
   },
   {
    "duration": 232,
    "start_time": "2025-09-25T06:33:06.661Z"
   },
   {
    "duration": 159,
    "start_time": "2025-09-25T06:33:06.896Z"
   },
   {
    "duration": 42,
    "start_time": "2025-09-25T06:33:07.057Z"
   },
   {
    "duration": 18,
    "start_time": "2025-09-25T06:33:07.114Z"
   },
   {
    "duration": 69,
    "start_time": "2025-09-25T06:33:07.134Z"
   },
   {
    "duration": 219,
    "start_time": "2025-09-25T06:33:07.205Z"
   },
   {
    "duration": 105,
    "start_time": "2025-09-25T06:33:07.425Z"
   },
   {
    "duration": 5691,
    "start_time": "2025-09-25T06:33:07.533Z"
   },
   {
    "duration": 45,
    "start_time": "2025-09-25T06:33:13.225Z"
   },
   {
    "duration": 5,
    "start_time": "2025-09-25T06:33:13.271Z"
   },
   {
    "duration": 53,
    "start_time": "2025-09-25T06:33:13.278Z"
   },
   {
    "duration": 58,
    "start_time": "2025-09-25T06:33:13.332Z"
   },
   {
    "duration": 504,
    "start_time": "2025-09-25T06:33:13.391Z"
   },
   {
    "duration": 58,
    "start_time": "2025-09-25T06:33:13.896Z"
   },
   {
    "duration": 230,
    "start_time": "2025-09-25T06:33:13.956Z"
   },
   {
    "duration": 196,
    "start_time": "2025-09-25T06:33:14.188Z"
   },
   {
    "duration": 154,
    "start_time": "2025-09-25T06:33:14.386Z"
   },
   {
    "duration": 119,
    "start_time": "2025-09-25T06:33:14.544Z"
   },
   {
    "duration": 203,
    "start_time": "2025-09-25T06:33:14.664Z"
   },
   {
    "duration": 9,
    "start_time": "2025-09-25T06:33:14.869Z"
   },
   {
    "duration": 120,
    "start_time": "2025-09-25T06:33:14.879Z"
   },
   {
    "duration": 168,
    "start_time": "2025-09-25T06:33:15.000Z"
   },
   {
    "duration": 117,
    "start_time": "2025-09-25T06:33:15.170Z"
   },
   {
    "duration": 190,
    "start_time": "2025-09-25T06:33:15.288Z"
   },
   {
    "duration": 110,
    "start_time": "2025-09-25T06:33:15.480Z"
   },
   {
    "duration": 199,
    "start_time": "2025-09-25T06:33:15.592Z"
   },
   {
    "duration": 416,
    "start_time": "2025-09-25T06:33:15.793Z"
   },
   {
    "duration": 313,
    "start_time": "2025-09-25T06:33:16.213Z"
   },
   {
    "duration": 294,
    "start_time": "2025-09-25T06:33:16.527Z"
   },
   {
    "duration": 101,
    "start_time": "2025-09-25T06:33:16.823Z"
   },
   {
    "duration": 112,
    "start_time": "2025-09-25T06:33:16.925Z"
   },
   {
    "duration": 87,
    "start_time": "2025-09-25T07:01:21.925Z"
   },
   {
    "duration": 188,
    "start_time": "2025-09-25T07:02:06.611Z"
   },
   {
    "duration": 90,
    "start_time": "2025-09-25T07:02:17.878Z"
   },
   {
    "duration": 64,
    "start_time": "2025-09-25T07:04:30.561Z"
   },
   {
    "duration": 4,
    "start_time": "2025-09-25T07:04:57.121Z"
   },
   {
    "duration": 101,
    "start_time": "2025-09-25T07:12:35.357Z"
   },
   {
    "duration": 69,
    "start_time": "2025-09-25T07:12:39.927Z"
   },
   {
    "duration": 3,
    "start_time": "2025-09-25T07:13:18.826Z"
   },
   {
    "duration": 3,
    "start_time": "2025-09-25T07:13:27.421Z"
   },
   {
    "duration": 4,
    "start_time": "2025-09-25T07:13:33.764Z"
   },
   {
    "duration": 19,
    "start_time": "2025-09-25T07:14:03.341Z"
   },
   {
    "duration": 9,
    "start_time": "2025-09-25T07:14:13.657Z"
   },
   {
    "duration": 90,
    "start_time": "2025-09-25T07:14:41.516Z"
   },
   {
    "duration": 68,
    "start_time": "2025-09-25T07:14:45.393Z"
   },
   {
    "duration": 463,
    "start_time": "2025-09-25T07:17:22.278Z"
   },
   {
    "duration": 6,
    "start_time": "2025-09-25T07:20:14.853Z"
   },
   {
    "duration": 7,
    "start_time": "2025-09-25T07:20:46.755Z"
   },
   {
    "duration": 98,
    "start_time": "2025-09-25T07:33:17.099Z"
   },
   {
    "duration": 65,
    "start_time": "2025-09-25T07:33:26.296Z"
   },
   {
    "duration": 73,
    "start_time": "2025-09-25T07:38:44.130Z"
   },
   {
    "duration": 73,
    "start_time": "2025-09-25T07:38:54.735Z"
   },
   {
    "duration": 57,
    "start_time": "2025-09-25T07:39:42.500Z"
   },
   {
    "duration": 7,
    "start_time": "2025-09-25T07:40:31.993Z"
   },
   {
    "duration": 5,
    "start_time": "2025-09-25T07:40:46.152Z"
   },
   {
    "duration": 81,
    "start_time": "2025-09-25T07:41:57.893Z"
   },
   {
    "duration": 52,
    "start_time": "2025-09-25T07:41:58.968Z"
   },
   {
    "duration": 6,
    "start_time": "2025-09-25T07:41:59.924Z"
   },
   {
    "duration": 3,
    "start_time": "2025-09-25T07:58:14.370Z"
   },
   {
    "duration": 16,
    "start_time": "2025-09-25T08:03:23.389Z"
   },
   {
    "duration": 1279,
    "start_time": "2025-09-25T08:03:30.875Z"
   },
   {
    "duration": 1969,
    "start_time": "2025-09-25T08:03:32.156Z"
   },
   {
    "duration": 20,
    "start_time": "2025-09-25T08:03:34.127Z"
   },
   {
    "duration": 134,
    "start_time": "2025-09-25T08:03:34.149Z"
   },
   {
    "duration": 12,
    "start_time": "2025-09-25T08:03:34.285Z"
   },
   {
    "duration": 47,
    "start_time": "2025-09-25T08:03:34.298Z"
   },
   {
    "duration": 75,
    "start_time": "2025-09-25T08:03:34.346Z"
   },
   {
    "duration": 30,
    "start_time": "2025-09-25T08:03:34.424Z"
   },
   {
    "duration": 192,
    "start_time": "2025-09-25T08:03:34.456Z"
   },
   {
    "duration": 79,
    "start_time": "2025-09-25T08:03:34.651Z"
   },
   {
    "duration": 235,
    "start_time": "2025-09-25T08:03:34.732Z"
   },
   {
    "duration": 171,
    "start_time": "2025-09-25T08:03:34.969Z"
   },
   {
    "duration": 52,
    "start_time": "2025-09-25T08:03:35.142Z"
   },
   {
    "duration": 3,
    "start_time": "2025-09-25T08:03:35.197Z"
   },
   {
    "duration": 118,
    "start_time": "2025-09-25T08:03:35.218Z"
   },
   {
    "duration": 257,
    "start_time": "2025-09-25T08:03:35.337Z"
   },
   {
    "duration": 109,
    "start_time": "2025-09-25T08:03:35.596Z"
   },
   {
    "duration": 6136,
    "start_time": "2025-09-25T08:03:35.707Z"
   },
   {
    "duration": 45,
    "start_time": "2025-09-25T08:03:41.845Z"
   },
   {
    "duration": 5,
    "start_time": "2025-09-25T08:03:41.892Z"
   },
   {
    "duration": 47,
    "start_time": "2025-09-25T08:03:41.915Z"
   },
   {
    "duration": 73,
    "start_time": "2025-09-25T08:03:41.964Z"
   },
   {
    "duration": 544,
    "start_time": "2025-09-25T08:03:42.039Z"
   },
   {
    "duration": 61,
    "start_time": "2025-09-25T08:03:42.585Z"
   },
   {
    "duration": 221,
    "start_time": "2025-09-25T08:03:42.648Z"
   },
   {
    "duration": 228,
    "start_time": "2025-09-25T08:03:42.871Z"
   },
   {
    "duration": 174,
    "start_time": "2025-09-25T08:03:43.101Z"
   },
   {
    "duration": 131,
    "start_time": "2025-09-25T08:03:43.279Z"
   },
   {
    "duration": 219,
    "start_time": "2025-09-25T08:03:43.414Z"
   },
   {
    "duration": 10,
    "start_time": "2025-09-25T08:03:43.635Z"
   },
   {
    "duration": 159,
    "start_time": "2025-09-25T08:03:43.647Z"
   },
   {
    "duration": 186,
    "start_time": "2025-09-25T08:03:43.808Z"
   },
   {
    "duration": 104,
    "start_time": "2025-09-25T08:03:43.996Z"
   },
   {
    "duration": 204,
    "start_time": "2025-09-25T08:03:44.102Z"
   },
   {
    "duration": 138,
    "start_time": "2025-09-25T08:03:44.308Z"
   },
   {
    "duration": 199,
    "start_time": "2025-09-25T08:03:44.448Z"
   },
   {
    "duration": 442,
    "start_time": "2025-09-25T08:03:44.649Z"
   },
   {
    "duration": 388,
    "start_time": "2025-09-25T08:03:45.092Z"
   },
   {
    "duration": 312,
    "start_time": "2025-09-25T08:03:45.482Z"
   },
   {
    "duration": 117,
    "start_time": "2025-09-25T08:03:45.796Z"
   },
   {
    "duration": 127,
    "start_time": "2025-09-25T08:03:45.917Z"
   },
   {
    "duration": 117,
    "start_time": "2025-09-25T08:03:46.045Z"
   },
   {
    "duration": 83,
    "start_time": "2025-09-25T08:03:46.164Z"
   },
   {
    "duration": 6,
    "start_time": "2025-09-25T08:03:46.249Z"
   },
   {
    "duration": 24,
    "start_time": "2025-09-25T08:03:46.257Z"
   },
   {
    "duration": 18,
    "start_time": "2025-09-25T08:03:46.283Z"
   },
   {
    "duration": 15,
    "start_time": "2025-09-25T08:09:04.061Z"
   },
   {
    "duration": 15,
    "start_time": "2025-09-25T08:09:22.871Z"
   },
   {
    "duration": 89,
    "start_time": "2025-09-25T08:14:50.357Z"
   },
   {
    "duration": 74,
    "start_time": "2025-09-25T08:14:59.314Z"
   },
   {
    "duration": 56,
    "start_time": "2025-09-25T08:15:23.230Z"
   },
   {
    "duration": 6,
    "start_time": "2025-09-25T08:15:53.798Z"
   },
   {
    "duration": 84,
    "start_time": "2025-09-25T08:17:43.679Z"
   },
   {
    "duration": 22,
    "start_time": "2025-09-25T08:19:33.974Z"
   },
   {
    "duration": 41,
    "start_time": "2025-09-25T08:19:55.535Z"
   },
   {
    "duration": 26,
    "start_time": "2025-09-25T08:20:10.361Z"
   },
   {
    "duration": 8,
    "start_time": "2025-09-25T08:20:21.731Z"
   },
   {
    "duration": 7,
    "start_time": "2025-09-25T08:20:25.314Z"
   },
   {
    "duration": 17,
    "start_time": "2025-09-25T08:21:37.204Z"
   },
   {
    "duration": 13,
    "start_time": "2025-09-25T08:22:01.754Z"
   },
   {
    "duration": 13,
    "start_time": "2025-09-25T08:22:16.058Z"
   },
   {
    "duration": 16,
    "start_time": "2025-09-25T08:22:24.628Z"
   },
   {
    "duration": 1301,
    "start_time": "2025-09-25T08:26:34.641Z"
   },
   {
    "duration": 2024,
    "start_time": "2025-09-25T08:26:35.944Z"
   },
   {
    "duration": 19,
    "start_time": "2025-09-25T08:26:37.969Z"
   },
   {
    "duration": 121,
    "start_time": "2025-09-25T08:26:37.991Z"
   },
   {
    "duration": 18,
    "start_time": "2025-09-25T08:26:38.115Z"
   },
   {
    "duration": 22,
    "start_time": "2025-09-25T08:26:38.136Z"
   },
   {
    "duration": 9,
    "start_time": "2025-09-25T08:26:38.160Z"
   },
   {
    "duration": 16,
    "start_time": "2025-09-25T08:26:38.171Z"
   },
   {
    "duration": 212,
    "start_time": "2025-09-25T08:26:38.189Z"
   },
   {
    "duration": 90,
    "start_time": "2025-09-25T08:26:38.404Z"
   },
   {
    "duration": 264,
    "start_time": "2025-09-25T08:26:38.496Z"
   },
   {
    "duration": 180,
    "start_time": "2025-09-25T08:26:38.762Z"
   },
   {
    "duration": 42,
    "start_time": "2025-09-25T08:26:38.944Z"
   },
   {
    "duration": 2,
    "start_time": "2025-09-25T08:26:38.988Z"
   },
   {
    "duration": 84,
    "start_time": "2025-09-25T08:26:38.992Z"
   },
   {
    "duration": 227,
    "start_time": "2025-09-25T08:26:39.078Z"
   },
   {
    "duration": 122,
    "start_time": "2025-09-25T08:26:39.307Z"
   },
   {
    "duration": 5904,
    "start_time": "2025-09-25T08:26:39.431Z"
   },
   {
    "duration": 48,
    "start_time": "2025-09-25T08:26:45.337Z"
   },
   {
    "duration": 6,
    "start_time": "2025-09-25T08:26:45.387Z"
   },
   {
    "duration": 77,
    "start_time": "2025-09-25T08:26:45.395Z"
   },
   {
    "duration": 73,
    "start_time": "2025-09-25T08:26:45.473Z"
   },
   {
    "duration": 542,
    "start_time": "2025-09-25T08:26:45.547Z"
   },
   {
    "duration": 58,
    "start_time": "2025-09-25T08:26:46.091Z"
   },
   {
    "duration": 229,
    "start_time": "2025-09-25T08:26:46.151Z"
   },
   {
    "duration": 204,
    "start_time": "2025-09-25T08:26:46.382Z"
   },
   {
    "duration": 158,
    "start_time": "2025-09-25T08:26:46.587Z"
   },
   {
    "duration": 126,
    "start_time": "2025-09-25T08:26:46.749Z"
   },
   {
    "duration": 209,
    "start_time": "2025-09-25T08:26:46.877Z"
   },
   {
    "duration": 10,
    "start_time": "2025-09-25T08:26:47.087Z"
   },
   {
    "duration": 126,
    "start_time": "2025-09-25T08:26:47.099Z"
   },
   {
    "duration": 179,
    "start_time": "2025-09-25T08:26:47.228Z"
   },
   {
    "duration": 108,
    "start_time": "2025-09-25T08:26:47.414Z"
   },
   {
    "duration": 206,
    "start_time": "2025-09-25T08:26:47.529Z"
   },
   {
    "duration": 133,
    "start_time": "2025-09-25T08:26:47.737Z"
   },
   {
    "duration": 211,
    "start_time": "2025-09-25T08:26:47.871Z"
   },
   {
    "duration": 479,
    "start_time": "2025-09-25T08:26:48.084Z"
   },
   {
    "duration": 330,
    "start_time": "2025-09-25T08:26:48.565Z"
   },
   {
    "duration": 292,
    "start_time": "2025-09-25T08:26:48.896Z"
   },
   {
    "duration": 102,
    "start_time": "2025-09-25T08:26:49.191Z"
   },
   {
    "duration": 124,
    "start_time": "2025-09-25T08:26:49.295Z"
   },
   {
    "duration": 74,
    "start_time": "2025-09-25T08:26:49.422Z"
   },
   {
    "duration": 78,
    "start_time": "2025-09-25T08:26:49.497Z"
   },
   {
    "duration": 10,
    "start_time": "2025-09-25T08:26:49.577Z"
   },
   {
    "duration": 42,
    "start_time": "2025-09-25T08:26:49.589Z"
   },
   {
    "duration": 47,
    "start_time": "2025-09-25T08:26:49.633Z"
   },
   {
    "duration": 56,
    "start_time": "2025-09-25T08:26:49.683Z"
   },
   {
    "duration": 7,
    "start_time": "2025-09-25T08:26:49.740Z"
   },
   {
    "duration": 6,
    "start_time": "2025-09-25T08:26:49.749Z"
   },
   {
    "duration": 13,
    "start_time": "2025-09-25T08:26:49.756Z"
   },
   {
    "duration": 13,
    "start_time": "2025-09-25T08:27:56.175Z"
   },
   {
    "duration": 9,
    "start_time": "2025-09-25T08:29:15.026Z"
   },
   {
    "duration": 12,
    "start_time": "2025-09-25T08:29:25.374Z"
   },
   {
    "duration": 35,
    "start_time": "2025-09-25T08:33:58.463Z"
   },
   {
    "duration": 43,
    "start_time": "2025-09-25T08:34:19.147Z"
   },
   {
    "duration": 51,
    "start_time": "2025-09-25T08:34:30.586Z"
   },
   {
    "duration": 44,
    "start_time": "2025-09-25T08:34:59.929Z"
   },
   {
    "duration": 42,
    "start_time": "2025-09-25T08:35:42.146Z"
   },
   {
    "duration": 44,
    "start_time": "2025-09-25T08:36:13.210Z"
   },
   {
    "duration": 35,
    "start_time": "2025-09-25T08:37:16.951Z"
   },
   {
    "duration": 41,
    "start_time": "2025-09-25T08:37:26.021Z"
   },
   {
    "duration": 34,
    "start_time": "2025-09-25T08:38:57.033Z"
   },
   {
    "duration": 1310,
    "start_time": "2025-09-25T12:01:10.772Z"
   },
   {
    "duration": 1901,
    "start_time": "2025-09-25T12:01:12.085Z"
   },
   {
    "duration": 16,
    "start_time": "2025-09-25T12:01:13.988Z"
   },
   {
    "duration": 97,
    "start_time": "2025-09-25T12:01:14.006Z"
   },
   {
    "duration": 11,
    "start_time": "2025-09-25T12:01:14.104Z"
   },
   {
    "duration": 29,
    "start_time": "2025-09-25T12:01:14.116Z"
   },
   {
    "duration": 9,
    "start_time": "2025-09-25T12:01:14.147Z"
   },
   {
    "duration": 18,
    "start_time": "2025-09-25T12:01:14.157Z"
   },
   {
    "duration": 168,
    "start_time": "2025-09-25T12:01:14.177Z"
   },
   {
    "duration": 72,
    "start_time": "2025-09-25T12:01:14.350Z"
   },
   {
    "duration": 202,
    "start_time": "2025-09-25T12:01:14.423Z"
   },
   {
    "duration": 143,
    "start_time": "2025-09-25T12:01:14.627Z"
   },
   {
    "duration": 36,
    "start_time": "2025-09-25T12:01:14.772Z"
   },
   {
    "duration": 2,
    "start_time": "2025-09-25T12:01:14.809Z"
   },
   {
    "duration": 102,
    "start_time": "2025-09-25T12:01:14.812Z"
   },
   {
    "duration": 207,
    "start_time": "2025-09-25T12:01:14.915Z"
   },
   {
    "duration": 93,
    "start_time": "2025-09-25T12:01:15.124Z"
   },
   {
    "duration": 5182,
    "start_time": "2025-09-25T12:01:15.219Z"
   },
   {
    "duration": 49,
    "start_time": "2025-09-25T12:01:20.403Z"
   },
   {
    "duration": 5,
    "start_time": "2025-09-25T12:01:20.454Z"
   },
   {
    "duration": 39,
    "start_time": "2025-09-25T12:01:20.460Z"
   },
   {
    "duration": 65,
    "start_time": "2025-09-25T12:01:20.500Z"
   },
   {
    "duration": 454,
    "start_time": "2025-09-25T12:01:20.566Z"
   },
   {
    "duration": 54,
    "start_time": "2025-09-25T12:01:21.022Z"
   },
   {
    "duration": 200,
    "start_time": "2025-09-25T12:01:21.078Z"
   },
   {
    "duration": 192,
    "start_time": "2025-09-25T12:01:21.280Z"
   },
   {
    "duration": 137,
    "start_time": "2025-09-25T12:01:21.474Z"
   },
   {
    "duration": 114,
    "start_time": "2025-09-25T12:01:21.615Z"
   },
   {
    "duration": 188,
    "start_time": "2025-09-25T12:01:21.731Z"
   },
   {
    "duration": 8,
    "start_time": "2025-09-25T12:01:21.920Z"
   },
   {
    "duration": 114,
    "start_time": "2025-09-25T12:01:21.929Z"
   },
   {
    "duration": 158,
    "start_time": "2025-09-25T12:01:22.044Z"
   },
   {
    "duration": 109,
    "start_time": "2025-09-25T12:01:22.203Z"
   },
   {
    "duration": 153,
    "start_time": "2025-09-25T12:01:22.313Z"
   },
   {
    "duration": 114,
    "start_time": "2025-09-25T12:01:22.468Z"
   },
   {
    "duration": 182,
    "start_time": "2025-09-25T12:01:22.583Z"
   },
   {
    "duration": 406,
    "start_time": "2025-09-25T12:01:22.767Z"
   },
   {
    "duration": 263,
    "start_time": "2025-09-25T12:01:23.175Z"
   },
   {
    "duration": 241,
    "start_time": "2025-09-25T12:01:23.439Z"
   },
   {
    "duration": 89,
    "start_time": "2025-09-25T12:01:23.681Z"
   },
   {
    "duration": 100,
    "start_time": "2025-09-25T12:01:23.771Z"
   },
   {
    "duration": 65,
    "start_time": "2025-09-25T12:01:23.873Z"
   },
   {
    "duration": 49,
    "start_time": "2025-09-25T12:01:23.950Z"
   },
   {
    "duration": 12,
    "start_time": "2025-09-25T12:01:24.000Z"
   },
   {
    "duration": 25,
    "start_time": "2025-09-25T12:01:24.013Z"
   },
   {
    "duration": 42,
    "start_time": "2025-09-25T12:01:24.039Z"
   },
   {
    "duration": 21,
    "start_time": "2025-09-25T12:01:24.083Z"
   },
   {
    "duration": 5,
    "start_time": "2025-09-25T12:01:24.106Z"
   },
   {
    "duration": 47,
    "start_time": "2025-09-25T12:01:24.112Z"
   },
   {
    "duration": 13,
    "start_time": "2025-09-25T12:01:24.160Z"
   },
   {
    "duration": 45,
    "start_time": "2025-09-25T12:01:24.174Z"
   },
   {
    "duration": 24,
    "start_time": "2025-09-25T12:04:27.984Z"
   },
   {
    "duration": 10,
    "start_time": "2025-09-25T12:06:38.444Z"
   },
   {
    "duration": 18,
    "start_time": "2025-09-25T12:06:55.520Z"
   },
   {
    "duration": 10,
    "start_time": "2025-09-25T12:07:06.296Z"
   },
   {
    "duration": 9,
    "start_time": "2025-09-25T12:08:12.736Z"
   },
   {
    "duration": 65,
    "start_time": "2025-09-25T12:11:45.461Z"
   },
   {
    "duration": 41,
    "start_time": "2025-09-25T12:12:03.842Z"
   },
   {
    "duration": 10,
    "start_time": "2025-09-25T12:12:18.697Z"
   },
   {
    "duration": 98,
    "start_time": "2025-09-25T12:12:38.337Z"
   },
   {
    "duration": 10,
    "start_time": "2025-09-25T12:12:53.177Z"
   },
   {
    "duration": 10,
    "start_time": "2025-09-25T12:13:01.962Z"
   },
   {
    "duration": 1086,
    "start_time": "2025-09-25T12:37:19.565Z"
   },
   {
    "duration": 1786,
    "start_time": "2025-09-25T12:37:20.653Z"
   },
   {
    "duration": 17,
    "start_time": "2025-09-25T12:37:22.440Z"
   },
   {
    "duration": 95,
    "start_time": "2025-09-25T12:37:22.459Z"
   },
   {
    "duration": 10,
    "start_time": "2025-09-25T12:37:22.556Z"
   },
   {
    "duration": 20,
    "start_time": "2025-09-25T12:37:22.568Z"
   },
   {
    "duration": 7,
    "start_time": "2025-09-25T12:37:22.589Z"
   },
   {
    "duration": 10,
    "start_time": "2025-09-25T12:37:22.597Z"
   },
   {
    "duration": 174,
    "start_time": "2025-09-25T12:37:22.609Z"
   },
   {
    "duration": 81,
    "start_time": "2025-09-25T12:37:22.786Z"
   },
   {
    "duration": 193,
    "start_time": "2025-09-25T12:37:22.868Z"
   },
   {
    "duration": 138,
    "start_time": "2025-09-25T12:37:23.062Z"
   },
   {
    "duration": 37,
    "start_time": "2025-09-25T12:37:23.202Z"
   },
   {
    "duration": 11,
    "start_time": "2025-09-25T12:37:23.241Z"
   },
   {
    "duration": 43,
    "start_time": "2025-09-25T12:37:23.253Z"
   },
   {
    "duration": 169,
    "start_time": "2025-09-25T12:37:23.297Z"
   },
   {
    "duration": 88,
    "start_time": "2025-09-25T12:37:23.468Z"
   },
   {
    "duration": 4972,
    "start_time": "2025-09-25T12:37:23.558Z"
   },
   {
    "duration": 49,
    "start_time": "2025-09-25T12:37:28.532Z"
   },
   {
    "duration": 5,
    "start_time": "2025-09-25T12:37:28.582Z"
   },
   {
    "duration": 45,
    "start_time": "2025-09-25T12:37:28.588Z"
   },
   {
    "duration": 53,
    "start_time": "2025-09-25T12:37:28.634Z"
   },
   {
    "duration": 438,
    "start_time": "2025-09-25T12:37:28.688Z"
   },
   {
    "duration": 48,
    "start_time": "2025-09-25T12:37:29.127Z"
   },
   {
    "duration": 191,
    "start_time": "2025-09-25T12:37:29.177Z"
   },
   {
    "duration": 174,
    "start_time": "2025-09-25T12:37:29.370Z"
   },
   {
    "duration": 123,
    "start_time": "2025-09-25T12:37:29.550Z"
   },
   {
    "duration": 97,
    "start_time": "2025-09-25T12:37:29.676Z"
   },
   {
    "duration": 169,
    "start_time": "2025-09-25T12:37:29.775Z"
   },
   {
    "duration": 9,
    "start_time": "2025-09-25T12:37:29.950Z"
   },
   {
    "duration": 114,
    "start_time": "2025-09-25T12:37:29.960Z"
   },
   {
    "duration": 151,
    "start_time": "2025-09-25T12:37:30.075Z"
   },
   {
    "duration": 91,
    "start_time": "2025-09-25T12:37:30.227Z"
   },
   {
    "duration": 148,
    "start_time": "2025-09-25T12:37:30.319Z"
   },
   {
    "duration": 103,
    "start_time": "2025-09-25T12:37:30.469Z"
   },
   {
    "duration": 174,
    "start_time": "2025-09-25T12:37:30.574Z"
   },
   {
    "duration": 356,
    "start_time": "2025-09-25T12:37:30.750Z"
   },
   {
    "duration": 256,
    "start_time": "2025-09-25T12:37:31.107Z"
   },
   {
    "duration": 253,
    "start_time": "2025-09-25T12:37:31.364Z"
   },
   {
    "duration": 107,
    "start_time": "2025-09-25T12:37:31.618Z"
   },
   {
    "duration": 105,
    "start_time": "2025-09-25T12:37:31.727Z"
   },
   {
    "duration": 81,
    "start_time": "2025-09-25T12:37:31.833Z"
   },
   {
    "duration": 61,
    "start_time": "2025-09-25T12:37:31.915Z"
   },
   {
    "duration": 38,
    "start_time": "2025-09-25T12:37:31.977Z"
   },
   {
    "duration": 28,
    "start_time": "2025-09-25T12:37:32.016Z"
   },
   {
    "duration": 36,
    "start_time": "2025-09-25T12:37:32.045Z"
   },
   {
    "duration": 20,
    "start_time": "2025-09-25T12:37:32.083Z"
   },
   {
    "duration": 7,
    "start_time": "2025-09-25T12:37:32.104Z"
   },
   {
    "duration": 6,
    "start_time": "2025-09-25T12:37:32.112Z"
   },
   {
    "duration": 33,
    "start_time": "2025-09-25T12:37:32.119Z"
   },
   {
    "duration": 28,
    "start_time": "2025-09-25T12:37:32.154Z"
   },
   {
    "duration": 16,
    "start_time": "2025-09-25T12:37:32.183Z"
   },
   {
    "duration": 34,
    "start_time": "2025-09-25T12:37:32.200Z"
   },
   {
    "duration": 58,
    "start_time": "2025-09-25T12:37:32.236Z"
   },
   {
    "duration": 1142,
    "start_time": "2025-09-25T13:39:15.932Z"
   },
   {
    "duration": 1667,
    "start_time": "2025-09-25T13:39:17.076Z"
   },
   {
    "duration": 15,
    "start_time": "2025-09-25T13:39:18.745Z"
   },
   {
    "duration": 97,
    "start_time": "2025-09-25T13:39:18.761Z"
   },
   {
    "duration": 10,
    "start_time": "2025-09-25T13:39:18.860Z"
   },
   {
    "duration": 71,
    "start_time": "2025-09-25T13:39:18.872Z"
   },
   {
    "duration": 8,
    "start_time": "2025-09-25T13:39:18.945Z"
   },
   {
    "duration": 20,
    "start_time": "2025-09-25T13:39:18.956Z"
   },
   {
    "duration": 155,
    "start_time": "2025-09-25T13:39:18.978Z"
   },
   {
    "duration": 68,
    "start_time": "2025-09-25T13:39:19.135Z"
   },
   {
    "duration": 220,
    "start_time": "2025-09-25T13:39:19.205Z"
   },
   {
    "duration": 148,
    "start_time": "2025-09-25T13:39:19.427Z"
   },
   {
    "duration": 37,
    "start_time": "2025-09-25T13:39:19.576Z"
   },
   {
    "duration": 3,
    "start_time": "2025-09-25T13:39:19.614Z"
   },
   {
    "duration": 79,
    "start_time": "2025-09-25T13:39:19.618Z"
   },
   {
    "duration": 180,
    "start_time": "2025-09-25T13:39:19.699Z"
   },
   {
    "duration": 99,
    "start_time": "2025-09-25T13:39:19.881Z"
   },
   {
    "duration": 5034,
    "start_time": "2025-09-25T13:39:19.981Z"
   },
   {
    "duration": 49,
    "start_time": "2025-09-25T13:39:25.017Z"
   },
   {
    "duration": 5,
    "start_time": "2025-09-25T13:39:25.068Z"
   },
   {
    "duration": 108,
    "start_time": "2025-09-25T13:39:25.074Z"
   },
   {
    "duration": 50,
    "start_time": "2025-09-25T13:39:25.184Z"
   },
   {
    "duration": 432,
    "start_time": "2025-09-25T13:39:25.235Z"
   },
   {
    "duration": 40,
    "start_time": "2025-09-25T13:39:25.668Z"
   },
   {
    "duration": 195,
    "start_time": "2025-09-25T13:39:25.709Z"
   },
   {
    "duration": 213,
    "start_time": "2025-09-25T13:39:25.906Z"
   },
   {
    "duration": 129,
    "start_time": "2025-09-25T13:39:26.120Z"
   },
   {
    "duration": 101,
    "start_time": "2025-09-25T13:39:26.253Z"
   },
   {
    "duration": 174,
    "start_time": "2025-09-25T13:39:26.355Z"
   },
   {
    "duration": 8,
    "start_time": "2025-09-25T13:39:26.530Z"
   },
   {
    "duration": 119,
    "start_time": "2025-09-25T13:39:26.540Z"
   },
   {
    "duration": 143,
    "start_time": "2025-09-25T13:39:26.661Z"
   },
   {
    "duration": 93,
    "start_time": "2025-09-25T13:39:26.806Z"
   },
   {
    "duration": 160,
    "start_time": "2025-09-25T13:39:26.900Z"
   },
   {
    "duration": 99,
    "start_time": "2025-09-25T13:39:27.062Z"
   },
   {
    "duration": 170,
    "start_time": "2025-09-25T13:39:27.163Z"
   },
   {
    "duration": 367,
    "start_time": "2025-09-25T13:39:27.335Z"
   },
   {
    "duration": 276,
    "start_time": "2025-09-25T13:39:27.704Z"
   },
   {
    "duration": 263,
    "start_time": "2025-09-25T13:39:27.981Z"
   },
   {
    "duration": 80,
    "start_time": "2025-09-25T13:39:28.250Z"
   },
   {
    "duration": 107,
    "start_time": "2025-09-25T13:39:28.332Z"
   },
   {
    "duration": 67,
    "start_time": "2025-09-25T13:39:28.440Z"
   },
   {
    "duration": 58,
    "start_time": "2025-09-25T13:39:28.508Z"
   },
   {
    "duration": 6,
    "start_time": "2025-09-25T13:39:28.567Z"
   },
   {
    "duration": 21,
    "start_time": "2025-09-25T13:39:28.574Z"
   },
   {
    "duration": 33,
    "start_time": "2025-09-25T13:39:28.597Z"
   },
   {
    "duration": 21,
    "start_time": "2025-09-25T13:39:28.650Z"
   },
   {
    "duration": 5,
    "start_time": "2025-09-25T13:39:28.672Z"
   },
   {
    "duration": 12,
    "start_time": "2025-09-25T13:39:28.678Z"
   },
   {
    "duration": 12,
    "start_time": "2025-09-25T13:39:28.692Z"
   },
   {
    "duration": 45,
    "start_time": "2025-09-25T13:39:28.705Z"
   },
   {
    "duration": 17,
    "start_time": "2025-09-25T13:39:28.751Z"
   },
   {
    "duration": 6,
    "start_time": "2025-09-25T13:39:28.770Z"
   },
   {
    "duration": 100,
    "start_time": "2025-09-25T13:39:28.777Z"
   },
   {
    "duration": 243,
    "start_time": "2025-09-25T13:43:04.027Z"
   },
   {
    "duration": 1134,
    "start_time": "2025-09-25T13:45:12.724Z"
   },
   {
    "duration": 1953,
    "start_time": "2025-09-25T13:45:13.860Z"
   },
   {
    "duration": 16,
    "start_time": "2025-09-25T13:45:15.816Z"
   },
   {
    "duration": 94,
    "start_time": "2025-09-25T13:45:15.834Z"
   },
   {
    "duration": 12,
    "start_time": "2025-09-25T13:45:15.930Z"
   },
   {
    "duration": 17,
    "start_time": "2025-09-25T13:45:15.951Z"
   },
   {
    "duration": 7,
    "start_time": "2025-09-25T13:45:15.971Z"
   },
   {
    "duration": 15,
    "start_time": "2025-09-25T13:45:15.980Z"
   },
   {
    "duration": 192,
    "start_time": "2025-09-25T13:45:15.996Z"
   },
   {
    "duration": 72,
    "start_time": "2025-09-25T13:45:16.190Z"
   },
   {
    "duration": 196,
    "start_time": "2025-09-25T13:45:16.264Z"
   },
   {
    "duration": 141,
    "start_time": "2025-09-25T13:45:16.462Z"
   },
   {
    "duration": 36,
    "start_time": "2025-09-25T13:45:16.604Z"
   },
   {
    "duration": 2,
    "start_time": "2025-09-25T13:45:16.652Z"
   },
   {
    "duration": 49,
    "start_time": "2025-09-25T13:45:16.655Z"
   },
   {
    "duration": 177,
    "start_time": "2025-09-25T13:45:16.705Z"
   },
   {
    "duration": 95,
    "start_time": "2025-09-25T13:45:16.884Z"
   },
   {
    "duration": 4915,
    "start_time": "2025-09-25T13:45:16.980Z"
   },
   {
    "duration": 44,
    "start_time": "2025-09-25T13:45:21.897Z"
   },
   {
    "duration": 9,
    "start_time": "2025-09-25T13:45:21.943Z"
   },
   {
    "duration": 37,
    "start_time": "2025-09-25T13:45:21.953Z"
   },
   {
    "duration": 61,
    "start_time": "2025-09-25T13:45:21.992Z"
   },
   {
    "duration": 449,
    "start_time": "2025-09-25T13:45:22.055Z"
   },
   {
    "duration": 48,
    "start_time": "2025-09-25T13:45:22.506Z"
   },
   {
    "duration": 187,
    "start_time": "2025-09-25T13:45:22.555Z"
   },
   {
    "duration": 176,
    "start_time": "2025-09-25T13:45:22.744Z"
   },
   {
    "duration": 137,
    "start_time": "2025-09-25T13:45:22.921Z"
   },
   {
    "duration": 96,
    "start_time": "2025-09-25T13:45:23.059Z"
   },
   {
    "duration": 165,
    "start_time": "2025-09-25T13:45:23.156Z"
   },
   {
    "duration": 8,
    "start_time": "2025-09-25T13:45:23.323Z"
   },
   {
    "duration": 117,
    "start_time": "2025-09-25T13:45:23.332Z"
   },
   {
    "duration": 136,
    "start_time": "2025-09-25T13:45:23.450Z"
   },
   {
    "duration": 91,
    "start_time": "2025-09-25T13:45:23.587Z"
   },
   {
    "duration": 143,
    "start_time": "2025-09-25T13:45:23.679Z"
   },
   {
    "duration": 95,
    "start_time": "2025-09-25T13:45:23.824Z"
   },
   {
    "duration": 167,
    "start_time": "2025-09-25T13:45:23.920Z"
   },
   {
    "duration": 354,
    "start_time": "2025-09-25T13:45:24.089Z"
   },
   {
    "duration": 265,
    "start_time": "2025-09-25T13:45:24.445Z"
   },
   {
    "duration": 278,
    "start_time": "2025-09-25T13:45:24.712Z"
   },
   {
    "duration": 102,
    "start_time": "2025-09-25T13:45:24.991Z"
   },
   {
    "duration": 95,
    "start_time": "2025-09-25T13:45:25.097Z"
   },
   {
    "duration": 70,
    "start_time": "2025-09-25T13:45:25.194Z"
   },
   {
    "duration": 44,
    "start_time": "2025-09-25T13:45:25.266Z"
   },
   {
    "duration": 5,
    "start_time": "2025-09-25T13:45:25.312Z"
   },
   {
    "duration": 35,
    "start_time": "2025-09-25T13:45:25.318Z"
   },
   {
    "duration": 34,
    "start_time": "2025-09-25T13:45:25.354Z"
   },
   {
    "duration": 21,
    "start_time": "2025-09-25T13:45:25.389Z"
   },
   {
    "duration": 5,
    "start_time": "2025-09-25T13:45:25.411Z"
   },
   {
    "duration": 79,
    "start_time": "2025-09-25T13:45:25.417Z"
   },
   {
    "duration": 11,
    "start_time": "2025-09-25T13:45:25.497Z"
   },
   {
    "duration": 39,
    "start_time": "2025-09-25T13:45:25.510Z"
   },
   {
    "duration": 16,
    "start_time": "2025-09-25T13:45:25.550Z"
   },
   {
    "duration": 6,
    "start_time": "2025-09-25T13:45:25.567Z"
   },
   {
    "duration": 20,
    "start_time": "2025-09-25T13:45:25.574Z"
   },
   {
    "duration": 1269,
    "start_time": "2025-09-25T19:50:38.586Z"
   },
   {
    "duration": 2281,
    "start_time": "2025-09-25T19:50:39.857Z"
   },
   {
    "duration": 20,
    "start_time": "2025-09-25T19:50:42.140Z"
   },
   {
    "duration": 111,
    "start_time": "2025-09-25T19:50:42.161Z"
   },
   {
    "duration": 14,
    "start_time": "2025-09-25T19:50:42.274Z"
   },
   {
    "duration": 41,
    "start_time": "2025-09-25T19:50:42.290Z"
   },
   {
    "duration": 11,
    "start_time": "2025-09-25T19:50:42.332Z"
   },
   {
    "duration": 16,
    "start_time": "2025-09-25T19:50:42.345Z"
   },
   {
    "duration": 192,
    "start_time": "2025-09-25T19:50:42.362Z"
   },
   {
    "duration": 84,
    "start_time": "2025-09-25T19:50:42.556Z"
   },
   {
    "duration": 232,
    "start_time": "2025-09-25T19:50:42.642Z"
   },
   {
    "duration": 166,
    "start_time": "2025-09-25T19:50:42.876Z"
   },
   {
    "duration": 49,
    "start_time": "2025-09-25T19:50:43.044Z"
   },
   {
    "duration": 3,
    "start_time": "2025-09-25T19:50:43.118Z"
   },
   {
    "duration": 62,
    "start_time": "2025-09-25T19:50:43.123Z"
   },
   {
    "duration": 207,
    "start_time": "2025-09-25T19:50:43.187Z"
   },
   {
    "duration": 106,
    "start_time": "2025-09-25T19:50:43.396Z"
   },
   {
    "duration": 5714,
    "start_time": "2025-09-25T19:50:43.504Z"
   },
   {
    "duration": 47,
    "start_time": "2025-09-25T19:50:49.220Z"
   },
   {
    "duration": 5,
    "start_time": "2025-09-25T19:50:49.269Z"
   },
   {
    "duration": 60,
    "start_time": "2025-09-25T19:50:49.276Z"
   },
   {
    "duration": 58,
    "start_time": "2025-09-25T19:50:49.337Z"
   },
   {
    "duration": 527,
    "start_time": "2025-09-25T19:50:49.397Z"
   },
   {
    "duration": 53,
    "start_time": "2025-09-25T19:50:49.926Z"
   },
   {
    "duration": 245,
    "start_time": "2025-09-25T19:50:49.982Z"
   },
   {
    "duration": 205,
    "start_time": "2025-09-25T19:50:50.228Z"
   },
   {
    "duration": 157,
    "start_time": "2025-09-25T19:50:50.435Z"
   },
   {
    "duration": 121,
    "start_time": "2025-09-25T19:50:50.593Z"
   },
   {
    "duration": 210,
    "start_time": "2025-09-25T19:50:50.716Z"
   },
   {
    "duration": 10,
    "start_time": "2025-09-25T19:50:50.927Z"
   },
   {
    "duration": 127,
    "start_time": "2025-09-25T19:50:50.938Z"
   },
   {
    "duration": 169,
    "start_time": "2025-09-25T19:50:51.066Z"
   },
   {
    "duration": 107,
    "start_time": "2025-09-25T19:50:51.237Z"
   },
   {
    "duration": 173,
    "start_time": "2025-09-25T19:50:51.346Z"
   },
   {
    "duration": 113,
    "start_time": "2025-09-25T19:50:51.521Z"
   },
   {
    "duration": 187,
    "start_time": "2025-09-25T19:50:51.635Z"
   },
   {
    "duration": 448,
    "start_time": "2025-09-25T19:50:51.824Z"
   },
   {
    "duration": 326,
    "start_time": "2025-09-25T19:50:52.274Z"
   },
   {
    "duration": 291,
    "start_time": "2025-09-25T19:50:52.601Z"
   },
   {
    "duration": 102,
    "start_time": "2025-09-25T19:50:52.894Z"
   },
   {
    "duration": 116,
    "start_time": "2025-09-25T19:50:53.000Z"
   },
   {
    "duration": 73,
    "start_time": "2025-09-25T19:50:53.118Z"
   },
   {
    "duration": 85,
    "start_time": "2025-09-25T19:50:53.193Z"
   },
   {
    "duration": 9,
    "start_time": "2025-09-25T19:50:53.280Z"
   },
   {
    "duration": 59,
    "start_time": "2025-09-25T19:50:53.291Z"
   },
   {
    "duration": 105,
    "start_time": "2025-09-25T19:50:53.352Z"
   },
   {
    "duration": 37,
    "start_time": "2025-09-25T19:50:53.459Z"
   },
   {
    "duration": 19,
    "start_time": "2025-09-25T19:50:53.498Z"
   },
   {
    "duration": 12,
    "start_time": "2025-09-25T19:50:53.519Z"
   },
   {
    "duration": 15,
    "start_time": "2025-09-25T19:50:53.533Z"
   },
   {
    "duration": 26,
    "start_time": "2025-09-25T19:50:53.550Z"
   },
   {
    "duration": 45,
    "start_time": "2025-09-25T19:50:53.578Z"
   },
   {
    "duration": 8,
    "start_time": "2025-09-25T19:50:53.624Z"
   },
   {
    "duration": 23,
    "start_time": "2025-09-25T19:50:53.634Z"
   },
   {
    "duration": 113,
    "start_time": "2025-09-25T19:57:56.304Z"
   },
   {
    "duration": 11,
    "start_time": "2025-09-25T19:58:02.955Z"
   },
   {
    "duration": 14,
    "start_time": "2025-09-25T19:58:04.685Z"
   },
   {
    "duration": 15,
    "start_time": "2025-09-25T19:58:06.722Z"
   },
   {
    "duration": 11,
    "start_time": "2025-09-25T19:58:08.398Z"
   },
   {
    "duration": 1368,
    "start_time": "2025-09-26T07:34:33.707Z"
   },
   {
    "duration": 1772,
    "start_time": "2025-09-26T07:34:35.077Z"
   },
   {
    "duration": 18,
    "start_time": "2025-09-26T07:34:36.851Z"
   },
   {
    "duration": 103,
    "start_time": "2025-09-26T07:34:36.871Z"
   },
   {
    "duration": 12,
    "start_time": "2025-09-26T07:34:36.975Z"
   },
   {
    "duration": 20,
    "start_time": "2025-09-26T07:34:36.988Z"
   },
   {
    "duration": 26,
    "start_time": "2025-09-26T07:34:37.010Z"
   },
   {
    "duration": 30,
    "start_time": "2025-09-26T07:34:37.038Z"
   },
   {
    "duration": 167,
    "start_time": "2025-09-26T07:34:37.070Z"
   },
   {
    "duration": 73,
    "start_time": "2025-09-26T07:34:37.240Z"
   },
   {
    "duration": 239,
    "start_time": "2025-09-26T07:34:37.316Z"
   },
   {
    "duration": 157,
    "start_time": "2025-09-26T07:34:37.557Z"
   },
   {
    "duration": 49,
    "start_time": "2025-09-26T07:34:37.715Z"
   },
   {
    "duration": 2,
    "start_time": "2025-09-26T07:34:37.766Z"
   },
   {
    "duration": 155,
    "start_time": "2025-09-26T07:34:37.770Z"
   },
   {
    "duration": 64,
    "start_time": "2025-09-26T07:34:37.927Z"
   },
   {
    "duration": 479,
    "start_time": "2025-09-26T07:34:37.992Z"
   },
   {
    "duration": 137,
    "start_time": "2025-09-26T07:34:38.472Z"
   },
   {
    "duration": 225,
    "start_time": "2025-09-26T07:34:38.611Z"
   },
   {
    "duration": 0,
    "start_time": "2025-09-26T07:34:38.839Z"
   },
   {
    "duration": 0,
    "start_time": "2025-09-26T07:34:38.841Z"
   },
   {
    "duration": 0,
    "start_time": "2025-09-26T07:34:38.842Z"
   },
   {
    "duration": 0,
    "start_time": "2025-09-26T07:34:38.843Z"
   },
   {
    "duration": 0,
    "start_time": "2025-09-26T07:34:38.844Z"
   },
   {
    "duration": 0,
    "start_time": "2025-09-26T07:34:38.845Z"
   },
   {
    "duration": 0,
    "start_time": "2025-09-26T07:34:38.846Z"
   },
   {
    "duration": 0,
    "start_time": "2025-09-26T07:34:38.847Z"
   },
   {
    "duration": 0,
    "start_time": "2025-09-26T07:34:38.848Z"
   },
   {
    "duration": 0,
    "start_time": "2025-09-26T07:34:38.849Z"
   },
   {
    "duration": 0,
    "start_time": "2025-09-26T07:34:38.850Z"
   },
   {
    "duration": 0,
    "start_time": "2025-09-26T07:34:38.851Z"
   },
   {
    "duration": 0,
    "start_time": "2025-09-26T07:34:38.853Z"
   },
   {
    "duration": 0,
    "start_time": "2025-09-26T07:34:38.854Z"
   },
   {
    "duration": 0,
    "start_time": "2025-09-26T07:34:38.855Z"
   },
   {
    "duration": 0,
    "start_time": "2025-09-26T07:34:38.856Z"
   },
   {
    "duration": 0,
    "start_time": "2025-09-26T07:34:38.857Z"
   },
   {
    "duration": 0,
    "start_time": "2025-09-26T07:34:38.859Z"
   },
   {
    "duration": 0,
    "start_time": "2025-09-26T07:34:38.860Z"
   },
   {
    "duration": 0,
    "start_time": "2025-09-26T07:34:38.862Z"
   },
   {
    "duration": 0,
    "start_time": "2025-09-26T07:34:38.863Z"
   },
   {
    "duration": 0,
    "start_time": "2025-09-26T07:34:38.865Z"
   },
   {
    "duration": 0,
    "start_time": "2025-09-26T07:34:38.866Z"
   },
   {
    "duration": 0,
    "start_time": "2025-09-26T07:34:38.867Z"
   },
   {
    "duration": 0,
    "start_time": "2025-09-26T07:34:38.869Z"
   },
   {
    "duration": 0,
    "start_time": "2025-09-26T07:34:38.870Z"
   },
   {
    "duration": 0,
    "start_time": "2025-09-26T07:34:38.872Z"
   },
   {
    "duration": 0,
    "start_time": "2025-09-26T07:34:38.873Z"
   },
   {
    "duration": 0,
    "start_time": "2025-09-26T07:34:38.931Z"
   },
   {
    "duration": 0,
    "start_time": "2025-09-26T07:34:38.933Z"
   },
   {
    "duration": 0,
    "start_time": "2025-09-26T07:34:38.934Z"
   },
   {
    "duration": 1,
    "start_time": "2025-09-26T07:34:38.935Z"
   },
   {
    "duration": 0,
    "start_time": "2025-09-26T07:34:38.937Z"
   },
   {
    "duration": 0,
    "start_time": "2025-09-26T07:34:38.938Z"
   },
   {
    "duration": 0,
    "start_time": "2025-09-26T07:34:38.940Z"
   },
   {
    "duration": 0,
    "start_time": "2025-09-26T07:34:38.941Z"
   },
   {
    "duration": 0,
    "start_time": "2025-09-26T07:34:38.942Z"
   },
   {
    "duration": 0,
    "start_time": "2025-09-26T07:34:38.944Z"
   },
   {
    "duration": 139,
    "start_time": "2025-09-26T07:35:50.612Z"
   },
   {
    "duration": 86,
    "start_time": "2025-09-26T07:36:10.241Z"
   },
   {
    "duration": 423,
    "start_time": "2025-09-26T07:36:40.928Z"
   },
   {
    "duration": 196,
    "start_time": "2025-09-26T07:37:11.668Z"
   },
   {
    "duration": 93,
    "start_time": "2025-09-26T07:37:19.088Z"
   },
   {
    "duration": 69,
    "start_time": "2025-09-26T07:38:09.901Z"
   },
   {
    "duration": 80,
    "start_time": "2025-09-26T07:38:32.803Z"
   },
   {
    "duration": 1208,
    "start_time": "2025-09-26T07:38:45.243Z"
   },
   {
    "duration": 1789,
    "start_time": "2025-09-26T07:38:46.453Z"
   },
   {
    "duration": 19,
    "start_time": "2025-09-26T07:38:48.244Z"
   },
   {
    "duration": 105,
    "start_time": "2025-09-26T07:38:48.264Z"
   },
   {
    "duration": 12,
    "start_time": "2025-09-26T07:38:48.371Z"
   },
   {
    "duration": 17,
    "start_time": "2025-09-26T07:38:48.385Z"
   },
   {
    "duration": 27,
    "start_time": "2025-09-26T07:38:48.404Z"
   },
   {
    "duration": 10,
    "start_time": "2025-09-26T07:38:48.433Z"
   },
   {
    "duration": 171,
    "start_time": "2025-09-26T07:38:48.445Z"
   },
   {
    "duration": 77,
    "start_time": "2025-09-26T07:38:48.618Z"
   },
   {
    "duration": 212,
    "start_time": "2025-09-26T07:38:48.696Z"
   },
   {
    "duration": 164,
    "start_time": "2025-09-26T07:38:48.909Z"
   },
   {
    "duration": 56,
    "start_time": "2025-09-26T07:38:49.075Z"
   },
   {
    "duration": 2,
    "start_time": "2025-09-26T07:38:49.134Z"
   },
   {
    "duration": 233,
    "start_time": "2025-09-26T07:38:49.138Z"
   },
   {
    "duration": 85,
    "start_time": "2025-09-26T07:38:49.373Z"
   },
   {
    "duration": 88,
    "start_time": "2025-09-26T07:38:49.460Z"
   },
   {
    "duration": 85,
    "start_time": "2025-09-26T07:38:49.550Z"
   },
   {
    "duration": 163,
    "start_time": "2025-09-26T07:38:49.637Z"
   },
   {
    "duration": 103,
    "start_time": "2025-09-26T07:38:49.802Z"
   },
   {
    "duration": 5601,
    "start_time": "2025-09-26T07:38:49.907Z"
   },
   {
    "duration": 54,
    "start_time": "2025-09-26T07:38:55.509Z"
   },
   {
    "duration": 6,
    "start_time": "2025-09-26T07:38:55.565Z"
   },
   {
    "duration": 61,
    "start_time": "2025-09-26T07:38:55.573Z"
   },
   {
    "duration": 59,
    "start_time": "2025-09-26T07:38:55.636Z"
   },
   {
    "duration": 496,
    "start_time": "2025-09-26T07:38:55.697Z"
   },
   {
    "duration": 63,
    "start_time": "2025-09-26T07:38:56.195Z"
   },
   {
    "duration": 205,
    "start_time": "2025-09-26T07:38:56.260Z"
   },
   {
    "duration": 192,
    "start_time": "2025-09-26T07:38:56.467Z"
   },
   {
    "duration": 156,
    "start_time": "2025-09-26T07:38:56.661Z"
   },
   {
    "duration": 125,
    "start_time": "2025-09-26T07:38:56.819Z"
   },
   {
    "duration": 196,
    "start_time": "2025-09-26T07:38:56.946Z"
   },
   {
    "duration": 10,
    "start_time": "2025-09-26T07:38:57.144Z"
   },
   {
    "duration": 121,
    "start_time": "2025-09-26T07:38:57.156Z"
   },
   {
    "duration": 173,
    "start_time": "2025-09-26T07:38:57.278Z"
   },
   {
    "duration": 101,
    "start_time": "2025-09-26T07:38:57.453Z"
   },
   {
    "duration": 179,
    "start_time": "2025-09-26T07:38:57.556Z"
   },
   {
    "duration": 111,
    "start_time": "2025-09-26T07:38:57.736Z"
   },
   {
    "duration": 192,
    "start_time": "2025-09-26T07:38:57.849Z"
   },
   {
    "duration": 411,
    "start_time": "2025-09-26T07:38:58.043Z"
   },
   {
    "duration": 299,
    "start_time": "2025-09-26T07:38:58.458Z"
   },
   {
    "duration": 300,
    "start_time": "2025-09-26T07:38:58.759Z"
   },
   {
    "duration": 111,
    "start_time": "2025-09-26T07:38:59.061Z"
   },
   {
    "duration": 108,
    "start_time": "2025-09-26T07:38:59.174Z"
   },
   {
    "duration": 81,
    "start_time": "2025-09-26T07:38:59.283Z"
   },
   {
    "duration": 51,
    "start_time": "2025-09-26T07:38:59.365Z"
   },
   {
    "duration": 13,
    "start_time": "2025-09-26T07:38:59.418Z"
   },
   {
    "duration": 25,
    "start_time": "2025-09-26T07:38:59.433Z"
   },
   {
    "duration": 39,
    "start_time": "2025-09-26T07:38:59.460Z"
   },
   {
    "duration": 44,
    "start_time": "2025-09-26T07:38:59.500Z"
   },
   {
    "duration": 6,
    "start_time": "2025-09-26T07:38:59.545Z"
   },
   {
    "duration": 6,
    "start_time": "2025-09-26T07:38:59.553Z"
   },
   {
    "duration": 12,
    "start_time": "2025-09-26T07:38:59.561Z"
   },
   {
    "duration": 58,
    "start_time": "2025-09-26T07:38:59.575Z"
   },
   {
    "duration": 17,
    "start_time": "2025-09-26T07:38:59.635Z"
   },
   {
    "duration": 8,
    "start_time": "2025-09-26T07:38:59.653Z"
   },
   {
    "duration": 15,
    "start_time": "2025-09-26T07:38:59.663Z"
   },
   {
    "duration": 78,
    "start_time": "2025-09-26T07:39:50.914Z"
   },
   {
    "duration": 159,
    "start_time": "2025-09-26T07:41:16.208Z"
   },
   {
    "duration": 105,
    "start_time": "2025-09-26T07:42:37.894Z"
   },
   {
    "duration": 1189,
    "start_time": "2025-09-26T07:46:00.486Z"
   },
   {
    "duration": 1942,
    "start_time": "2025-09-26T07:46:01.677Z"
   },
   {
    "duration": 17,
    "start_time": "2025-09-26T07:46:03.620Z"
   },
   {
    "duration": 110,
    "start_time": "2025-09-26T07:46:03.639Z"
   },
   {
    "duration": 12,
    "start_time": "2025-09-26T07:46:03.751Z"
   },
   {
    "duration": 53,
    "start_time": "2025-09-26T07:46:03.765Z"
   },
   {
    "duration": 43,
    "start_time": "2025-09-26T07:46:03.819Z"
   },
   {
    "duration": 25,
    "start_time": "2025-09-26T07:46:03.864Z"
   },
   {
    "duration": 205,
    "start_time": "2025-09-26T07:46:03.891Z"
   },
   {
    "duration": 74,
    "start_time": "2025-09-26T07:46:04.099Z"
   },
   {
    "duration": 211,
    "start_time": "2025-09-26T07:46:04.175Z"
   },
   {
    "duration": 155,
    "start_time": "2025-09-26T07:46:04.388Z"
   },
   {
    "duration": 39,
    "start_time": "2025-09-26T07:46:04.545Z"
   },
   {
    "duration": 2,
    "start_time": "2025-09-26T07:46:04.586Z"
   },
   {
    "duration": 260,
    "start_time": "2025-09-26T07:46:04.589Z"
   },
   {
    "duration": 80,
    "start_time": "2025-09-26T07:46:04.851Z"
   },
   {
    "duration": 141,
    "start_time": "2025-09-26T07:46:04.932Z"
   },
   {
    "duration": 169,
    "start_time": "2025-09-26T07:46:05.075Z"
   },
   {
    "duration": 101,
    "start_time": "2025-09-26T07:46:05.246Z"
   },
   {
    "duration": 5510,
    "start_time": "2025-09-26T07:46:05.348Z"
   },
   {
    "duration": 45,
    "start_time": "2025-09-26T07:46:10.860Z"
   },
   {
    "duration": 5,
    "start_time": "2025-09-26T07:46:10.907Z"
   },
   {
    "duration": 55,
    "start_time": "2025-09-26T07:46:10.913Z"
   },
   {
    "duration": 64,
    "start_time": "2025-09-26T07:46:10.969Z"
   },
   {
    "duration": 481,
    "start_time": "2025-09-26T07:46:11.034Z"
   },
   {
    "duration": 56,
    "start_time": "2025-09-26T07:46:11.516Z"
   },
   {
    "duration": 200,
    "start_time": "2025-09-26T07:46:11.574Z"
   },
   {
    "duration": 199,
    "start_time": "2025-09-26T07:46:11.777Z"
   },
   {
    "duration": 143,
    "start_time": "2025-09-26T07:46:11.978Z"
   },
   {
    "duration": 129,
    "start_time": "2025-09-26T07:46:12.122Z"
   },
   {
    "duration": 185,
    "start_time": "2025-09-26T07:46:12.252Z"
   },
   {
    "duration": 8,
    "start_time": "2025-09-26T07:46:12.438Z"
   },
   {
    "duration": 120,
    "start_time": "2025-09-26T07:46:12.448Z"
   },
   {
    "duration": 163,
    "start_time": "2025-09-26T07:46:12.569Z"
   },
   {
    "duration": 105,
    "start_time": "2025-09-26T07:46:12.735Z"
   },
   {
    "duration": 159,
    "start_time": "2025-09-26T07:46:12.842Z"
   },
   {
    "duration": 112,
    "start_time": "2025-09-26T07:46:13.003Z"
   },
   {
    "duration": 180,
    "start_time": "2025-09-26T07:46:13.118Z"
   },
   {
    "duration": 417,
    "start_time": "2025-09-26T07:46:13.300Z"
   },
   {
    "duration": 307,
    "start_time": "2025-09-26T07:46:13.719Z"
   },
   {
    "duration": 307,
    "start_time": "2025-09-26T07:46:14.031Z"
   },
   {
    "duration": 110,
    "start_time": "2025-09-26T07:46:14.339Z"
   },
   {
    "duration": 105,
    "start_time": "2025-09-26T07:46:14.450Z"
   },
   {
    "duration": 82,
    "start_time": "2025-09-26T07:46:14.557Z"
   },
   {
    "duration": 57,
    "start_time": "2025-09-26T07:46:14.641Z"
   },
   {
    "duration": 5,
    "start_time": "2025-09-26T07:46:14.700Z"
   },
   {
    "duration": 43,
    "start_time": "2025-09-26T07:46:14.707Z"
   },
   {
    "duration": 40,
    "start_time": "2025-09-26T07:46:14.752Z"
   },
   {
    "duration": 47,
    "start_time": "2025-09-26T07:46:14.794Z"
   },
   {
    "duration": 5,
    "start_time": "2025-09-26T07:46:14.843Z"
   },
   {
    "duration": 6,
    "start_time": "2025-09-26T07:46:14.850Z"
   },
   {
    "duration": 12,
    "start_time": "2025-09-26T07:46:14.858Z"
   },
   {
    "duration": 59,
    "start_time": "2025-09-26T07:46:14.872Z"
   },
   {
    "duration": 20,
    "start_time": "2025-09-26T07:46:14.933Z"
   },
   {
    "duration": 7,
    "start_time": "2025-09-26T07:46:14.955Z"
   },
   {
    "duration": 12,
    "start_time": "2025-09-26T07:46:14.963Z"
   },
   {
    "duration": 306,
    "start_time": "2025-09-26T07:47:32.251Z"
   },
   {
    "duration": 268,
    "start_time": "2025-09-26T07:48:01.355Z"
   },
   {
    "duration": 159,
    "start_time": "2025-09-26T07:57:16.336Z"
   },
   {
    "duration": 164,
    "start_time": "2025-09-26T08:02:32.301Z"
   },
   {
    "duration": 35,
    "start_time": "2025-09-26T08:08:23.534Z"
   },
   {
    "duration": 111,
    "start_time": "2025-09-26T08:08:52.204Z"
   },
   {
    "duration": 6,
    "start_time": "2025-09-26T08:09:05.780Z"
   },
   {
    "duration": 70,
    "start_time": "2025-09-26T08:09:45.107Z"
   },
   {
    "duration": 173,
    "start_time": "2025-09-26T08:10:23.575Z"
   },
   {
    "duration": 1244,
    "start_time": "2025-09-26T08:20:40.437Z"
   },
   {
    "duration": 1794,
    "start_time": "2025-09-26T08:20:41.683Z"
   },
   {
    "duration": 20,
    "start_time": "2025-09-26T08:20:43.479Z"
   },
   {
    "duration": 112,
    "start_time": "2025-09-26T08:20:43.501Z"
   },
   {
    "duration": 16,
    "start_time": "2025-09-26T08:20:43.614Z"
   },
   {
    "duration": 18,
    "start_time": "2025-09-26T08:20:43.632Z"
   },
   {
    "duration": 8,
    "start_time": "2025-09-26T08:20:43.652Z"
   },
   {
    "duration": 10,
    "start_time": "2025-09-26T08:20:43.662Z"
   },
   {
    "duration": 198,
    "start_time": "2025-09-26T08:20:43.673Z"
   },
   {
    "duration": 81,
    "start_time": "2025-09-26T08:20:43.874Z"
   },
   {
    "duration": 239,
    "start_time": "2025-09-26T08:20:43.956Z"
   },
   {
    "duration": 155,
    "start_time": "2025-09-26T08:20:44.197Z"
   },
   {
    "duration": 39,
    "start_time": "2025-09-26T08:20:44.354Z"
   },
   {
    "duration": 2,
    "start_time": "2025-09-26T08:20:44.395Z"
   },
   {
    "duration": 235,
    "start_time": "2025-09-26T08:20:44.398Z"
   },
   {
    "duration": 75,
    "start_time": "2025-09-26T08:20:44.634Z"
   },
   {
    "duration": 139,
    "start_time": "2025-09-26T08:20:44.711Z"
   },
   {
    "duration": 345,
    "start_time": "2025-09-26T08:20:44.852Z"
   },
   {
    "duration": 299,
    "start_time": "2025-09-26T08:20:45.199Z"
   },
   {
    "duration": 5397,
    "start_time": "2025-09-26T08:20:45.500Z"
   },
   {
    "duration": 52,
    "start_time": "2025-09-26T08:20:50.899Z"
   },
   {
    "duration": 4,
    "start_time": "2025-09-26T08:20:50.953Z"
   },
   {
    "duration": 38,
    "start_time": "2025-09-26T08:20:50.959Z"
   },
   {
    "duration": 71,
    "start_time": "2025-09-26T08:20:50.999Z"
   },
   {
    "duration": 476,
    "start_time": "2025-09-26T08:20:51.071Z"
   },
   {
    "duration": 160,
    "start_time": "2025-09-26T08:20:51.549Z"
   },
   {
    "duration": 200,
    "start_time": "2025-09-26T08:20:51.711Z"
   },
   {
    "duration": 187,
    "start_time": "2025-09-26T08:20:51.916Z"
   },
   {
    "duration": 201,
    "start_time": "2025-09-26T08:20:52.105Z"
   },
   {
    "duration": 161,
    "start_time": "2025-09-26T08:20:52.308Z"
   },
   {
    "duration": 120,
    "start_time": "2025-09-26T08:20:52.471Z"
   },
   {
    "duration": 193,
    "start_time": "2025-09-26T08:20:52.593Z"
   },
   {
    "duration": 10,
    "start_time": "2025-09-26T08:20:52.788Z"
   },
   {
    "duration": 117,
    "start_time": "2025-09-26T08:20:52.800Z"
   },
   {
    "duration": 178,
    "start_time": "2025-09-26T08:20:52.919Z"
   },
   {
    "duration": 104,
    "start_time": "2025-09-26T08:20:53.099Z"
   },
   {
    "duration": 173,
    "start_time": "2025-09-26T08:20:53.205Z"
   },
   {
    "duration": 109,
    "start_time": "2025-09-26T08:20:53.380Z"
   },
   {
    "duration": 178,
    "start_time": "2025-09-26T08:20:53.491Z"
   },
   {
    "duration": 440,
    "start_time": "2025-09-26T08:20:53.670Z"
   },
   {
    "duration": 309,
    "start_time": "2025-09-26T08:20:54.111Z"
   },
   {
    "duration": 272,
    "start_time": "2025-09-26T08:20:54.422Z"
   },
   {
    "duration": 103,
    "start_time": "2025-09-26T08:20:54.696Z"
   },
   {
    "duration": 102,
    "start_time": "2025-09-26T08:20:54.801Z"
   },
   {
    "duration": 77,
    "start_time": "2025-09-26T08:20:54.905Z"
   },
   {
    "duration": 59,
    "start_time": "2025-09-26T08:20:54.984Z"
   },
   {
    "duration": 6,
    "start_time": "2025-09-26T08:20:55.045Z"
   },
   {
    "duration": 24,
    "start_time": "2025-09-26T08:20:55.053Z"
   },
   {
    "duration": 57,
    "start_time": "2025-09-26T08:20:55.078Z"
   },
   {
    "duration": 26,
    "start_time": "2025-09-26T08:20:55.137Z"
   },
   {
    "duration": 6,
    "start_time": "2025-09-26T08:20:55.164Z"
   },
   {
    "duration": 6,
    "start_time": "2025-09-26T08:20:55.172Z"
   },
   {
    "duration": 11,
    "start_time": "2025-09-26T08:20:55.180Z"
   },
   {
    "duration": 58,
    "start_time": "2025-09-26T08:20:55.193Z"
   },
   {
    "duration": 17,
    "start_time": "2025-09-26T08:20:55.253Z"
   },
   {
    "duration": 5,
    "start_time": "2025-09-26T08:20:55.272Z"
   },
   {
    "duration": 14,
    "start_time": "2025-09-26T08:20:55.279Z"
   },
   {
    "duration": 112,
    "start_time": "2025-09-26T08:22:55.019Z"
   },
   {
    "duration": 12,
    "start_time": "2025-09-26T08:23:06.887Z"
   },
   {
    "duration": 249,
    "start_time": "2025-09-26T08:23:31.799Z"
   },
   {
    "duration": 6,
    "start_time": "2025-09-26T08:24:16.676Z"
   },
   {
    "duration": 1354,
    "start_time": "2025-09-26T11:18:04.722Z"
   },
   {
    "duration": 1947,
    "start_time": "2025-09-26T11:18:06.079Z"
   },
   {
    "duration": 20,
    "start_time": "2025-09-26T11:18:08.027Z"
   },
   {
    "duration": 123,
    "start_time": "2025-09-26T11:18:08.050Z"
   },
   {
    "duration": 11,
    "start_time": "2025-09-26T11:18:08.174Z"
   },
   {
    "duration": 16,
    "start_time": "2025-09-26T11:18:08.186Z"
   },
   {
    "duration": 7,
    "start_time": "2025-09-26T11:18:08.204Z"
   },
   {
    "duration": 10,
    "start_time": "2025-09-26T11:18:08.212Z"
   },
   {
    "duration": 191,
    "start_time": "2025-09-26T11:18:08.224Z"
   },
   {
    "duration": 81,
    "start_time": "2025-09-26T11:18:08.417Z"
   },
   {
    "duration": 208,
    "start_time": "2025-09-26T11:18:08.500Z"
   },
   {
    "duration": 139,
    "start_time": "2025-09-26T11:18:08.710Z"
   },
   {
    "duration": 40,
    "start_time": "2025-09-26T11:18:08.856Z"
   },
   {
    "duration": 3,
    "start_time": "2025-09-26T11:18:08.897Z"
   },
   {
    "duration": 227,
    "start_time": "2025-09-26T11:18:08.902Z"
   },
   {
    "duration": 78,
    "start_time": "2025-09-26T11:18:09.131Z"
   },
   {
    "duration": 132,
    "start_time": "2025-09-26T11:18:09.210Z"
   },
   {
    "duration": 345,
    "start_time": "2025-09-26T11:18:09.344Z"
   },
   {
    "duration": 287,
    "start_time": "2025-09-26T11:18:09.690Z"
   },
   {
    "duration": 5412,
    "start_time": "2025-09-26T11:18:09.978Z"
   },
   {
    "duration": 45,
    "start_time": "2025-09-26T11:18:15.392Z"
   },
   {
    "duration": 18,
    "start_time": "2025-09-26T11:18:15.439Z"
   },
   {
    "duration": 57,
    "start_time": "2025-09-26T11:18:15.461Z"
   },
   {
    "duration": 68,
    "start_time": "2025-09-26T11:18:15.520Z"
   },
   {
    "duration": 538,
    "start_time": "2025-09-26T11:18:15.590Z"
   },
   {
    "duration": 172,
    "start_time": "2025-09-26T11:18:16.129Z"
   },
   {
    "duration": 211,
    "start_time": "2025-09-26T11:18:16.303Z"
   },
   {
    "duration": 193,
    "start_time": "2025-09-26T11:18:16.518Z"
   },
   {
    "duration": 198,
    "start_time": "2025-09-26T11:18:16.712Z"
   },
   {
    "duration": 6,
    "start_time": "2025-09-26T11:18:16.911Z"
   },
   {
    "duration": 171,
    "start_time": "2025-09-26T11:18:16.919Z"
   },
   {
    "duration": 117,
    "start_time": "2025-09-26T11:18:17.092Z"
   },
   {
    "duration": 184,
    "start_time": "2025-09-26T11:18:17.210Z"
   },
   {
    "duration": 8,
    "start_time": "2025-09-26T11:18:17.397Z"
   },
   {
    "duration": 121,
    "start_time": "2025-09-26T11:18:17.407Z"
   },
   {
    "duration": 164,
    "start_time": "2025-09-26T11:18:17.530Z"
   },
   {
    "duration": 106,
    "start_time": "2025-09-26T11:18:17.696Z"
   },
   {
    "duration": 196,
    "start_time": "2025-09-26T11:18:17.803Z"
   },
   {
    "duration": 118,
    "start_time": "2025-09-26T11:18:18.001Z"
   },
   {
    "duration": 170,
    "start_time": "2025-09-26T11:18:18.121Z"
   },
   {
    "duration": 408,
    "start_time": "2025-09-26T11:18:18.293Z"
   },
   {
    "duration": 284,
    "start_time": "2025-09-26T11:18:18.702Z"
   },
   {
    "duration": 271,
    "start_time": "2025-09-26T11:18:18.987Z"
   },
   {
    "duration": 104,
    "start_time": "2025-09-26T11:18:19.268Z"
   },
   {
    "duration": 99,
    "start_time": "2025-09-26T11:18:19.374Z"
   },
   {
    "duration": 68,
    "start_time": "2025-09-26T11:18:19.475Z"
   },
   {
    "duration": 51,
    "start_time": "2025-09-26T11:18:19.565Z"
   },
   {
    "duration": 6,
    "start_time": "2025-09-26T11:18:19.618Z"
   },
   {
    "duration": 46,
    "start_time": "2025-09-26T11:18:19.626Z"
   },
   {
    "duration": 39,
    "start_time": "2025-09-26T11:18:19.674Z"
   },
   {
    "duration": 23,
    "start_time": "2025-09-26T11:18:19.714Z"
   },
   {
    "duration": 32,
    "start_time": "2025-09-26T11:18:19.738Z"
   },
   {
    "duration": 68,
    "start_time": "2025-09-26T11:18:19.772Z"
   },
   {
    "duration": 34,
    "start_time": "2025-09-26T11:18:19.841Z"
   },
   {
    "duration": 25,
    "start_time": "2025-09-26T11:18:19.877Z"
   },
   {
    "duration": 16,
    "start_time": "2025-09-26T11:18:19.904Z"
   },
   {
    "duration": 6,
    "start_time": "2025-09-26T11:18:19.921Z"
   },
   {
    "duration": 16,
    "start_time": "2025-09-26T11:18:19.928Z"
   },
   {
    "duration": 7,
    "start_time": "2025-09-26T11:25:21.482Z"
   },
   {
    "duration": 7,
    "start_time": "2025-09-26T11:25:23.619Z"
   },
   {
    "duration": 7,
    "start_time": "2025-09-26T11:28:05.743Z"
   },
   {
    "duration": 7,
    "start_time": "2025-09-26T11:30:18.481Z"
   },
   {
    "duration": 8,
    "start_time": "2025-09-26T11:33:52.678Z"
   },
   {
    "duration": 102,
    "start_time": "2025-09-26T11:38:20.508Z"
   },
   {
    "duration": 838,
    "start_time": "2025-09-26T11:39:51.587Z"
   },
   {
    "duration": 15,
    "start_time": "2025-09-26T11:40:33.367Z"
   },
   {
    "duration": 17,
    "start_time": "2025-09-26T11:42:04.646Z"
   },
   {
    "duration": 14,
    "start_time": "2025-09-26T11:42:43.305Z"
   },
   {
    "duration": 16,
    "start_time": "2025-09-26T11:43:02.981Z"
   },
   {
    "duration": 145,
    "start_time": "2025-09-26T11:44:49.218Z"
   },
   {
    "duration": 144,
    "start_time": "2025-09-26T11:45:24.066Z"
   },
   {
    "duration": 147,
    "start_time": "2025-09-26T11:45:33.944Z"
   },
   {
    "duration": 146,
    "start_time": "2025-09-26T11:46:34.798Z"
   },
   {
    "duration": 175,
    "start_time": "2025-09-26T11:48:53.600Z"
   },
   {
    "duration": 332,
    "start_time": "2025-09-26T11:51:41.646Z"
   },
   {
    "duration": 18,
    "start_time": "2025-09-26T11:52:53.747Z"
   },
   {
    "duration": 150,
    "start_time": "2025-09-26T11:53:01.569Z"
   },
   {
    "duration": 259,
    "start_time": "2025-09-26T11:54:33.966Z"
   },
   {
    "duration": 163,
    "start_time": "2025-09-26T11:54:44.904Z"
   },
   {
    "duration": 648,
    "start_time": "2025-09-26T11:56:12.841Z"
   },
   {
    "duration": 952,
    "start_time": "2025-09-26T11:56:53.098Z"
   },
   {
    "duration": 903,
    "start_time": "2025-09-26T11:58:50.190Z"
   },
   {
    "duration": 54,
    "start_time": "2025-09-26T11:59:10.280Z"
   },
   {
    "duration": 916,
    "start_time": "2025-09-26T11:59:16.165Z"
   },
   {
    "duration": 886,
    "start_time": "2025-09-26T11:59:28.488Z"
   },
   {
    "duration": 899,
    "start_time": "2025-09-26T12:01:46.369Z"
   },
   {
    "duration": 744,
    "start_time": "2025-09-26T12:02:30.316Z"
   },
   {
    "duration": 820,
    "start_time": "2025-09-26T12:02:37.521Z"
   },
   {
    "duration": 866,
    "start_time": "2025-09-26T12:02:50.133Z"
   },
   {
    "duration": 885,
    "start_time": "2025-09-26T12:03:37.921Z"
   },
   {
    "duration": 962,
    "start_time": "2025-09-26T12:03:52.445Z"
   },
   {
    "duration": 875,
    "start_time": "2025-09-26T12:05:32.483Z"
   },
   {
    "duration": 891,
    "start_time": "2025-09-26T12:05:56.795Z"
   },
   {
    "duration": 80,
    "start_time": "2025-09-26T12:33:09.392Z"
   },
   {
    "duration": 239,
    "start_time": "2025-09-26T12:34:41.065Z"
   },
   {
    "duration": 129,
    "start_time": "2025-09-26T12:35:03.769Z"
   },
   {
    "duration": 128,
    "start_time": "2025-09-26T12:35:13.860Z"
   },
   {
    "duration": 128,
    "start_time": "2025-09-26T12:36:03.355Z"
   },
   {
    "duration": 95,
    "start_time": "2025-09-26T12:36:24.275Z"
   },
   {
    "duration": 61,
    "start_time": "2025-09-26T12:37:57.045Z"
   },
   {
    "duration": 138,
    "start_time": "2025-09-26T12:38:06.030Z"
   },
   {
    "duration": 91,
    "start_time": "2025-09-26T12:38:21.217Z"
   },
   {
    "duration": 141,
    "start_time": "2025-09-26T12:38:23.439Z"
   },
   {
    "duration": 1102,
    "start_time": "2025-09-26T12:38:55.981Z"
   },
   {
    "duration": 1844,
    "start_time": "2025-09-26T12:38:57.085Z"
   },
   {
    "duration": 18,
    "start_time": "2025-09-26T12:38:58.931Z"
   },
   {
    "duration": 98,
    "start_time": "2025-09-26T12:38:58.950Z"
   },
   {
    "duration": 12,
    "start_time": "2025-09-26T12:38:59.050Z"
   },
   {
    "duration": 19,
    "start_time": "2025-09-26T12:38:59.064Z"
   },
   {
    "duration": 8,
    "start_time": "2025-09-26T12:38:59.085Z"
   },
   {
    "duration": 31,
    "start_time": "2025-09-26T12:38:59.095Z"
   },
   {
    "duration": 161,
    "start_time": "2025-09-26T12:38:59.128Z"
   },
   {
    "duration": 73,
    "start_time": "2025-09-26T12:38:59.290Z"
   },
   {
    "duration": 201,
    "start_time": "2025-09-26T12:38:59.365Z"
   },
   {
    "duration": 146,
    "start_time": "2025-09-26T12:38:59.568Z"
   },
   {
    "duration": 47,
    "start_time": "2025-09-26T12:38:59.716Z"
   },
   {
    "duration": 3,
    "start_time": "2025-09-26T12:38:59.766Z"
   },
   {
    "duration": 220,
    "start_time": "2025-09-26T12:38:59.770Z"
   },
   {
    "duration": 78,
    "start_time": "2025-09-26T12:38:59.992Z"
   },
   {
    "duration": 128,
    "start_time": "2025-09-26T12:39:00.072Z"
   },
   {
    "duration": 320,
    "start_time": "2025-09-26T12:39:00.202Z"
   },
   {
    "duration": 265,
    "start_time": "2025-09-26T12:39:00.524Z"
   },
   {
    "duration": 5127,
    "start_time": "2025-09-26T12:39:00.791Z"
   },
   {
    "duration": 48,
    "start_time": "2025-09-26T12:39:05.919Z"
   },
   {
    "duration": 43,
    "start_time": "2025-09-26T12:39:05.968Z"
   },
   {
    "duration": 45,
    "start_time": "2025-09-26T12:39:06.012Z"
   },
   {
    "duration": 51,
    "start_time": "2025-09-26T12:39:06.058Z"
   },
   {
    "duration": 462,
    "start_time": "2025-09-26T12:39:06.111Z"
   },
   {
    "duration": 157,
    "start_time": "2025-09-26T12:39:06.574Z"
   },
   {
    "duration": 189,
    "start_time": "2025-09-26T12:39:06.733Z"
   },
   {
    "duration": 168,
    "start_time": "2025-09-26T12:39:06.924Z"
   },
   {
    "duration": 175,
    "start_time": "2025-09-26T12:39:07.094Z"
   },
   {
    "duration": 5,
    "start_time": "2025-09-26T12:39:07.271Z"
   },
   {
    "duration": 148,
    "start_time": "2025-09-26T12:39:07.277Z"
   },
   {
    "duration": 114,
    "start_time": "2025-09-26T12:39:07.427Z"
   },
   {
    "duration": 190,
    "start_time": "2025-09-26T12:39:07.543Z"
   },
   {
    "duration": 8,
    "start_time": "2025-09-26T12:39:07.734Z"
   },
   {
    "duration": 108,
    "start_time": "2025-09-26T12:39:07.744Z"
   },
   {
    "duration": 156,
    "start_time": "2025-09-26T12:39:07.856Z"
   },
   {
    "duration": 101,
    "start_time": "2025-09-26T12:39:08.014Z"
   },
   {
    "duration": 149,
    "start_time": "2025-09-26T12:39:08.117Z"
   },
   {
    "duration": 102,
    "start_time": "2025-09-26T12:39:08.267Z"
   },
   {
    "duration": 166,
    "start_time": "2025-09-26T12:39:08.370Z"
   },
   {
    "duration": 24,
    "start_time": "2025-09-26T12:39:08.539Z"
   },
   {
    "duration": 180,
    "start_time": "2025-09-26T12:39:08.565Z"
   },
   {
    "duration": 894,
    "start_time": "2025-09-26T12:39:08.747Z"
   },
   {
    "duration": 272,
    "start_time": "2025-09-26T12:39:09.643Z"
   },
   {
    "duration": 263,
    "start_time": "2025-09-26T12:39:09.917Z"
   },
   {
    "duration": 93,
    "start_time": "2025-09-26T12:39:10.181Z"
   },
   {
    "duration": 147,
    "start_time": "2025-09-26T12:39:10.275Z"
   },
   {
    "duration": 99,
    "start_time": "2025-09-26T12:39:10.424Z"
   },
   {
    "duration": 164,
    "start_time": "2025-09-26T12:39:10.525Z"
   },
   {
    "duration": 73,
    "start_time": "2025-09-26T12:39:10.691Z"
   },
   {
    "duration": 50,
    "start_time": "2025-09-26T12:39:10.765Z"
   },
   {
    "duration": 6,
    "start_time": "2025-09-26T12:39:10.817Z"
   },
   {
    "duration": 45,
    "start_time": "2025-09-26T12:39:10.824Z"
   },
   {
    "duration": 39,
    "start_time": "2025-09-26T12:39:10.870Z"
   },
   {
    "duration": 25,
    "start_time": "2025-09-26T12:39:10.910Z"
   },
   {
    "duration": 23,
    "start_time": "2025-09-26T12:39:10.936Z"
   },
   {
    "duration": 12,
    "start_time": "2025-09-26T12:39:10.961Z"
   },
   {
    "duration": 11,
    "start_time": "2025-09-26T12:39:10.975Z"
   },
   {
    "duration": 25,
    "start_time": "2025-09-26T12:39:10.988Z"
   },
   {
    "duration": 42,
    "start_time": "2025-09-26T12:39:11.015Z"
   },
   {
    "duration": 6,
    "start_time": "2025-09-26T12:39:11.059Z"
   },
   {
    "duration": 20,
    "start_time": "2025-09-26T12:39:11.066Z"
   },
   {
    "duration": 394,
    "start_time": "2025-09-26T12:43:17.681Z"
   },
   {
    "duration": 11,
    "start_time": "2025-09-26T12:45:57.936Z"
   },
   {
    "duration": 12,
    "start_time": "2025-09-26T12:47:34.337Z"
   },
   {
    "duration": 10,
    "start_time": "2025-09-26T12:58:49.369Z"
   },
   {
    "duration": 9,
    "start_time": "2025-09-26T12:59:32.395Z"
   },
   {
    "duration": 1183,
    "start_time": "2025-09-26T13:04:40.326Z"
   },
   {
    "duration": 2051,
    "start_time": "2025-09-26T13:04:41.511Z"
   },
   {
    "duration": 19,
    "start_time": "2025-09-26T13:04:43.563Z"
   },
   {
    "duration": 113,
    "start_time": "2025-09-26T13:04:43.584Z"
   },
   {
    "duration": 13,
    "start_time": "2025-09-26T13:04:43.699Z"
   },
   {
    "duration": 42,
    "start_time": "2025-09-26T13:04:43.713Z"
   },
   {
    "duration": 12,
    "start_time": "2025-09-26T13:04:43.756Z"
   },
   {
    "duration": 106,
    "start_time": "2025-09-26T13:04:43.769Z"
   },
   {
    "duration": 198,
    "start_time": "2025-09-26T13:04:43.877Z"
   },
   {
    "duration": 67,
    "start_time": "2025-09-26T13:04:44.078Z"
   },
   {
    "duration": 219,
    "start_time": "2025-09-26T13:04:44.147Z"
   },
   {
    "duration": 141,
    "start_time": "2025-09-26T13:04:44.368Z"
   },
   {
    "duration": 46,
    "start_time": "2025-09-26T13:04:44.511Z"
   },
   {
    "duration": 2,
    "start_time": "2025-09-26T13:04:44.559Z"
   },
   {
    "duration": 233,
    "start_time": "2025-09-26T13:04:44.563Z"
   },
   {
    "duration": 79,
    "start_time": "2025-09-26T13:04:44.798Z"
   },
   {
    "duration": 133,
    "start_time": "2025-09-26T13:04:44.879Z"
   },
   {
    "duration": 330,
    "start_time": "2025-09-26T13:04:45.014Z"
   },
   {
    "duration": 281,
    "start_time": "2025-09-26T13:04:45.345Z"
   },
   {
    "duration": 5191,
    "start_time": "2025-09-26T13:04:45.627Z"
   },
   {
    "duration": 58,
    "start_time": "2025-09-26T13:04:50.819Z"
   },
   {
    "duration": 5,
    "start_time": "2025-09-26T13:04:50.879Z"
   },
   {
    "duration": 62,
    "start_time": "2025-09-26T13:04:50.885Z"
   },
   {
    "duration": 52,
    "start_time": "2025-09-26T13:04:50.949Z"
   },
   {
    "duration": 484,
    "start_time": "2025-09-26T13:04:51.002Z"
   },
   {
    "duration": 164,
    "start_time": "2025-09-26T13:04:51.488Z"
   },
   {
    "duration": 204,
    "start_time": "2025-09-26T13:04:51.653Z"
   },
   {
    "duration": 180,
    "start_time": "2025-09-26T13:04:51.860Z"
   },
   {
    "duration": 192,
    "start_time": "2025-09-26T13:04:52.042Z"
   },
   {
    "duration": 5,
    "start_time": "2025-09-26T13:04:52.235Z"
   },
   {
    "duration": 183,
    "start_time": "2025-09-26T13:04:52.242Z"
   },
   {
    "duration": 119,
    "start_time": "2025-09-26T13:04:52.427Z"
   },
   {
    "duration": 189,
    "start_time": "2025-09-26T13:04:52.547Z"
   },
   {
    "duration": 9,
    "start_time": "2025-09-26T13:04:52.737Z"
   },
   {
    "duration": 106,
    "start_time": "2025-09-26T13:04:52.757Z"
   },
   {
    "duration": 165,
    "start_time": "2025-09-26T13:04:52.865Z"
   },
   {
    "duration": 95,
    "start_time": "2025-09-26T13:04:53.032Z"
   },
   {
    "duration": 166,
    "start_time": "2025-09-26T13:04:53.129Z"
   },
   {
    "duration": 110,
    "start_time": "2025-09-26T13:04:53.297Z"
   },
   {
    "duration": 180,
    "start_time": "2025-09-26T13:04:53.409Z"
   },
   {
    "duration": 17,
    "start_time": "2025-09-26T13:04:53.591Z"
   },
   {
    "duration": 197,
    "start_time": "2025-09-26T13:04:53.609Z"
   },
   {
    "duration": 957,
    "start_time": "2025-09-26T13:04:53.807Z"
   },
   {
    "duration": 298,
    "start_time": "2025-09-26T13:04:54.765Z"
   },
   {
    "duration": 282,
    "start_time": "2025-09-26T13:04:55.065Z"
   },
   {
    "duration": 94,
    "start_time": "2025-09-26T13:04:55.349Z"
   },
   {
    "duration": 154,
    "start_time": "2025-09-26T13:04:55.457Z"
   },
   {
    "duration": 147,
    "start_time": "2025-09-26T13:04:55.613Z"
   },
   {
    "duration": 173,
    "start_time": "2025-09-26T13:04:55.763Z"
   },
   {
    "duration": 67,
    "start_time": "2025-09-26T13:04:55.938Z"
   },
   {
    "duration": 54,
    "start_time": "2025-09-26T13:04:56.006Z"
   },
   {
    "duration": 6,
    "start_time": "2025-09-26T13:04:56.062Z"
   },
   {
    "duration": 33,
    "start_time": "2025-09-26T13:04:56.069Z"
   },
   {
    "duration": 38,
    "start_time": "2025-09-26T13:04:56.104Z"
   },
   {
    "duration": 32,
    "start_time": "2025-09-26T13:04:56.156Z"
   },
   {
    "duration": 646,
    "start_time": "2025-09-26T13:04:56.190Z"
   },
   {
    "duration": 5,
    "start_time": "2025-09-26T13:04:56.838Z"
   },
   {
    "duration": 25,
    "start_time": "2025-09-26T13:04:56.844Z"
   },
   {
    "duration": 25,
    "start_time": "2025-09-26T13:04:56.870Z"
   },
   {
    "duration": 45,
    "start_time": "2025-09-26T13:04:56.897Z"
   },
   {
    "duration": 20,
    "start_time": "2025-09-26T13:04:56.944Z"
   },
   {
    "duration": 18,
    "start_time": "2025-09-26T13:04:56.966Z"
   },
   {
    "duration": 39,
    "start_time": "2025-09-26T13:04:56.986Z"
   },
   {
    "duration": 6,
    "start_time": "2025-09-26T13:06:59.678Z"
   },
   {
    "duration": 37,
    "start_time": "2025-09-26T13:07:18.725Z"
   },
   {
    "duration": 6,
    "start_time": "2025-09-26T13:07:35.929Z"
   },
   {
    "duration": 102,
    "start_time": "2025-09-26T13:09:29.076Z"
   },
   {
    "duration": 12,
    "start_time": "2025-09-26T13:09:32.302Z"
   },
   {
    "duration": 149,
    "start_time": "2025-09-26T13:11:25.927Z"
   },
   {
    "duration": 53,
    "start_time": "2025-09-26T13:11:53.982Z"
   },
   {
    "duration": 906,
    "start_time": "2025-09-26T13:12:50.501Z"
   },
   {
    "duration": 971,
    "start_time": "2025-09-26T13:13:01.154Z"
   },
   {
    "duration": 918,
    "start_time": "2025-09-26T13:13:19.587Z"
   },
   {
    "duration": 4,
    "start_time": "2025-09-26T13:18:59.352Z"
   },
   {
    "duration": 1303,
    "start_time": "2025-09-26T13:45:06.723Z"
   },
   {
    "duration": 2110,
    "start_time": "2025-09-26T13:45:08.028Z"
   },
   {
    "duration": 19,
    "start_time": "2025-09-26T13:45:10.139Z"
   },
   {
    "duration": 120,
    "start_time": "2025-09-26T13:45:10.160Z"
   },
   {
    "duration": 13,
    "start_time": "2025-09-26T13:45:10.282Z"
   },
   {
    "duration": 65,
    "start_time": "2025-09-26T13:45:10.296Z"
   },
   {
    "duration": 10,
    "start_time": "2025-09-26T13:45:10.363Z"
   },
   {
    "duration": 18,
    "start_time": "2025-09-26T13:45:10.375Z"
   },
   {
    "duration": 185,
    "start_time": "2025-09-26T13:45:10.394Z"
   },
   {
    "duration": 83,
    "start_time": "2025-09-26T13:45:10.581Z"
   },
   {
    "duration": 238,
    "start_time": "2025-09-26T13:45:10.666Z"
   },
   {
    "duration": 166,
    "start_time": "2025-09-26T13:45:10.906Z"
   },
   {
    "duration": 52,
    "start_time": "2025-09-26T13:45:11.073Z"
   },
   {
    "duration": 260,
    "start_time": "2025-09-26T13:45:11.128Z"
   },
   {
    "duration": 84,
    "start_time": "2025-09-26T13:45:11.389Z"
   },
   {
    "duration": 149,
    "start_time": "2025-09-26T13:45:11.475Z"
   },
   {
    "duration": 351,
    "start_time": "2025-09-26T13:45:11.626Z"
   },
   {
    "duration": 313,
    "start_time": "2025-09-26T13:45:11.979Z"
   },
   {
    "duration": 5884,
    "start_time": "2025-09-26T13:45:12.294Z"
   },
   {
    "duration": 50,
    "start_time": "2025-09-26T13:45:18.180Z"
   },
   {
    "duration": 5,
    "start_time": "2025-09-26T13:45:18.232Z"
   },
   {
    "duration": 43,
    "start_time": "2025-09-26T13:45:18.239Z"
   },
   {
    "duration": 75,
    "start_time": "2025-09-26T13:45:18.283Z"
   },
   {
    "duration": 581,
    "start_time": "2025-09-26T13:45:18.360Z"
   },
   {
    "duration": 183,
    "start_time": "2025-09-26T13:45:18.942Z"
   },
   {
    "duration": 222,
    "start_time": "2025-09-26T13:45:19.127Z"
   },
   {
    "duration": 201,
    "start_time": "2025-09-26T13:45:19.351Z"
   },
   {
    "duration": 204,
    "start_time": "2025-09-26T13:45:19.554Z"
   },
   {
    "duration": 6,
    "start_time": "2025-09-26T13:45:19.759Z"
   },
   {
    "duration": 249,
    "start_time": "2025-09-26T13:45:19.767Z"
   },
   {
    "duration": 133,
    "start_time": "2025-09-26T13:45:20.018Z"
   },
   {
    "duration": 214,
    "start_time": "2025-09-26T13:45:20.153Z"
   },
   {
    "duration": 9,
    "start_time": "2025-09-26T13:45:20.369Z"
   },
   {
    "duration": 154,
    "start_time": "2025-09-26T13:45:20.380Z"
   },
   {
    "duration": 184,
    "start_time": "2025-09-26T13:45:20.536Z"
   },
   {
    "duration": 108,
    "start_time": "2025-09-26T13:45:20.721Z"
   },
   {
    "duration": 189,
    "start_time": "2025-09-26T13:45:20.831Z"
   },
   {
    "duration": 124,
    "start_time": "2025-09-26T13:45:21.022Z"
   },
   {
    "duration": 196,
    "start_time": "2025-09-26T13:45:21.148Z"
   },
   {
    "duration": 16,
    "start_time": "2025-09-26T13:45:21.345Z"
   },
   {
    "duration": 197,
    "start_time": "2025-09-26T13:45:21.367Z"
   },
   {
    "duration": 1071,
    "start_time": "2025-09-26T13:45:21.566Z"
   },
   {
    "duration": 331,
    "start_time": "2025-09-26T13:45:22.639Z"
   },
   {
    "duration": 300,
    "start_time": "2025-09-26T13:45:22.972Z"
   },
   {
    "duration": 108,
    "start_time": "2025-09-26T13:45:23.274Z"
   },
   {
    "duration": 181,
    "start_time": "2025-09-26T13:45:23.384Z"
   },
   {
    "duration": 109,
    "start_time": "2025-09-26T13:45:23.568Z"
   },
   {
    "duration": 193,
    "start_time": "2025-09-26T13:45:23.679Z"
   },
   {
    "duration": 82,
    "start_time": "2025-09-26T13:45:23.875Z"
   },
   {
    "duration": 68,
    "start_time": "2025-09-26T13:45:23.958Z"
   },
   {
    "duration": 7,
    "start_time": "2025-09-26T13:45:24.028Z"
   },
   {
    "duration": 31,
    "start_time": "2025-09-26T13:45:24.036Z"
   },
   {
    "duration": 64,
    "start_time": "2025-09-26T13:45:24.069Z"
   },
   {
    "duration": 27,
    "start_time": "2025-09-26T13:45:24.134Z"
   },
   {
    "duration": 470,
    "start_time": "2025-09-26T13:45:24.163Z"
   },
   {
    "duration": 8,
    "start_time": "2025-09-26T13:45:24.635Z"
   },
   {
    "duration": 14,
    "start_time": "2025-09-26T13:45:24.645Z"
   },
   {
    "duration": 14,
    "start_time": "2025-09-26T13:45:24.662Z"
   },
   {
    "duration": 59,
    "start_time": "2025-09-26T13:45:24.679Z"
   },
   {
    "duration": 19,
    "start_time": "2025-09-26T13:45:24.741Z"
   },
   {
    "duration": 11,
    "start_time": "2025-09-26T13:45:24.762Z"
   },
   {
    "duration": 19,
    "start_time": "2025-09-26T13:45:24.774Z"
   },
   {
    "duration": 1231,
    "start_time": "2025-10-20T07:22:59.410Z"
   },
   {
    "duration": 1906,
    "start_time": "2025-10-20T07:23:00.643Z"
   },
   {
    "duration": 17,
    "start_time": "2025-10-20T07:23:02.551Z"
   },
   {
    "duration": 102,
    "start_time": "2025-10-20T07:23:02.569Z"
   },
   {
    "duration": 10,
    "start_time": "2025-10-20T07:23:02.673Z"
   },
   {
    "duration": 18,
    "start_time": "2025-10-20T07:23:02.684Z"
   },
   {
    "duration": 12,
    "start_time": "2025-10-20T07:23:02.703Z"
   },
   {
    "duration": 20,
    "start_time": "2025-10-20T07:23:02.716Z"
   },
   {
    "duration": 162,
    "start_time": "2025-10-20T07:23:02.737Z"
   },
   {
    "duration": 65,
    "start_time": "2025-10-20T07:23:02.902Z"
   },
   {
    "duration": 192,
    "start_time": "2025-10-20T07:23:02.968Z"
   },
   {
    "duration": 127,
    "start_time": "2025-10-20T07:23:03.161Z"
   },
   {
    "duration": 34,
    "start_time": "2025-10-20T07:23:03.290Z"
   },
   {
    "duration": 201,
    "start_time": "2025-10-20T07:23:03.326Z"
   },
   {
    "duration": 67,
    "start_time": "2025-10-20T07:23:03.529Z"
   },
   {
    "duration": 119,
    "start_time": "2025-10-20T07:23:03.598Z"
   },
   {
    "duration": 299,
    "start_time": "2025-10-20T07:23:03.719Z"
   },
   {
    "duration": 253,
    "start_time": "2025-10-20T07:23:04.020Z"
   },
   {
    "duration": 4859,
    "start_time": "2025-10-20T07:23:04.275Z"
   },
   {
    "duration": 52,
    "start_time": "2025-10-20T07:23:09.136Z"
   },
   {
    "duration": 4,
    "start_time": "2025-10-20T07:23:09.190Z"
   },
   {
    "duration": 33,
    "start_time": "2025-10-20T07:23:09.195Z"
   },
   {
    "duration": 59,
    "start_time": "2025-10-20T07:23:09.229Z"
   },
   {
    "duration": 432,
    "start_time": "2025-10-20T07:23:09.289Z"
   },
   {
    "duration": 143,
    "start_time": "2025-10-20T07:23:09.722Z"
   },
   {
    "duration": 197,
    "start_time": "2025-10-20T07:23:09.866Z"
   },
   {
    "duration": 154,
    "start_time": "2025-10-20T07:23:10.065Z"
   },
   {
    "duration": 175,
    "start_time": "2025-10-20T07:23:10.222Z"
   },
   {
    "duration": 4,
    "start_time": "2025-10-20T07:23:10.398Z"
   },
   {
    "duration": 122,
    "start_time": "2025-10-20T07:23:10.403Z"
   },
   {
    "duration": 111,
    "start_time": "2025-10-20T07:23:10.526Z"
   },
   {
    "duration": 173,
    "start_time": "2025-10-20T07:23:10.638Z"
   },
   {
    "duration": 8,
    "start_time": "2025-10-20T07:23:10.813Z"
   },
   {
    "duration": 118,
    "start_time": "2025-10-20T07:23:10.822Z"
   },
   {
    "duration": 130,
    "start_time": "2025-10-20T07:23:10.942Z"
   },
   {
    "duration": 91,
    "start_time": "2025-10-20T07:23:11.074Z"
   },
   {
    "duration": 134,
    "start_time": "2025-10-20T07:23:11.167Z"
   },
   {
    "duration": 97,
    "start_time": "2025-10-20T07:23:11.302Z"
   },
   {
    "duration": 152,
    "start_time": "2025-10-20T07:23:11.400Z"
   },
   {
    "duration": 13,
    "start_time": "2025-10-20T07:23:11.553Z"
   },
   {
    "duration": 160,
    "start_time": "2025-10-20T07:23:11.567Z"
   },
   {
    "duration": 804,
    "start_time": "2025-10-20T07:23:11.728Z"
   },
   {
    "duration": 252,
    "start_time": "2025-10-20T07:23:12.534Z"
   },
   {
    "duration": 240,
    "start_time": "2025-10-20T07:23:12.787Z"
   },
   {
    "duration": 86,
    "start_time": "2025-10-20T07:23:13.029Z"
   },
   {
    "duration": 126,
    "start_time": "2025-10-20T07:23:13.116Z"
   },
   {
    "duration": 88,
    "start_time": "2025-10-20T07:23:13.243Z"
   },
   {
    "duration": 150,
    "start_time": "2025-10-20T07:23:13.332Z"
   },
   {
    "duration": 69,
    "start_time": "2025-10-20T07:23:13.483Z"
   },
   {
    "duration": 70,
    "start_time": "2025-10-20T07:23:13.554Z"
   },
   {
    "duration": 5,
    "start_time": "2025-10-20T07:23:13.626Z"
   },
   {
    "duration": 21,
    "start_time": "2025-10-20T07:23:13.632Z"
   },
   {
    "duration": 34,
    "start_time": "2025-10-20T07:23:13.654Z"
   },
   {
    "duration": 20,
    "start_time": "2025-10-20T07:23:13.689Z"
   },
   {
    "duration": 359,
    "start_time": "2025-10-20T07:23:13.710Z"
   },
   {
    "duration": 5,
    "start_time": "2025-10-20T07:23:14.070Z"
   },
   {
    "duration": 4,
    "start_time": "2025-10-20T07:23:14.076Z"
   },
   {
    "duration": 10,
    "start_time": "2025-10-20T07:23:14.081Z"
   },
   {
    "duration": 23,
    "start_time": "2025-10-20T07:23:14.092Z"
   },
   {
    "duration": 40,
    "start_time": "2025-10-20T07:23:14.116Z"
   },
   {
    "duration": 5,
    "start_time": "2025-10-20T07:23:14.158Z"
   },
   {
    "duration": 9,
    "start_time": "2025-10-20T07:23:14.164Z"
   }
  ],
  "colab": {
   "provenance": []
  },
  "kernelspec": {
   "display_name": "Python 3 (ipykernel)",
   "language": "python",
   "name": "python3"
  },
  "language_info": {
   "codemirror_mode": {
    "name": "ipython",
    "version": 3
   },
   "file_extension": ".py",
   "mimetype": "text/x-python",
   "name": "python",
   "nbconvert_exporter": "python",
   "pygments_lexer": "ipython3",
   "version": "3.9.5"
  },
  "toc": {
   "base_numbering": 1,
   "nav_menu": {},
   "number_sections": true,
   "sideBar": true,
   "skip_h1_title": true,
   "title_cell": "Table of Contents",
   "title_sidebar": "Contents",
   "toc_cell": false,
   "toc_position": {
    "height": "calc(100% - 180px)",
    "left": "10px",
    "top": "150px",
    "width": "165px"
   },
   "toc_section_display": true,
   "toc_window_display": true
  }
 },
 "nbformat": 4,
 "nbformat_minor": 1
}
